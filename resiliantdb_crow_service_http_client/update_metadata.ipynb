{
 "cells": [
  {
   "cell_type": "markdown",
   "metadata": {},
   "source": [
    "# Update Metadata"
   ]
  },
  {
   "cell_type": "code",
   "execution_count": 5,
   "metadata": {},
   "outputs": [
    {
     "name": "stdout",
     "output_type": "stream",
     "text": [
      "HASH DATA <class 'str'>, data='{\"asset\":{\"data\":{\"description\":\"Time share token. Each token equals one hour of usage.\",\"token_for\":{\"game_boy\":{\"serial_number\":\"LR35902\"}}}},\"id\":null,\"inputs\":[{\"fulfillment\":\"pGSAINO79V-DFNObaEkLoIym5lVFGWmcPknbQt-dy4zhRhCdgUDUdstEeLlea4aB_it_7dw_GRpT9Sxsqxo4GWg31Q7z5ZHKrCinJOYtWYB7sPSKyPYBFj0GRgHwQcC-KV9te0AG\",\"fulfills\":null,\"owners_before\":[\"FFXFq4rpq1CmW61qyRsADdhZK19PgjF49uTUkPqKET8x\"]}],\"metadata\":{\"data\":\"DODO\"},\"operation\":\"CREATE\",\"outputs\":[{\"amount\":\"10\",\"condition\":{\"details\":{\"public_key\":\"94D84hkLng4cfpCG51jksUqHRfYByhhtEUXxBoT7TcVW\",\"type\":\"ed25519-sha-256\"},\"uri\":\"ni:///sha-256;1tqZ3kY8z0YqUfcg_dUFnCVZSJpOcBkV-lEXzyWui6c?fpt=ed25519-sha-256&cost=131072\"},\"public_keys\":[\"94D84hkLng4cfpCG51jksUqHRfYByhhtEUXxBoT7TcVW\"]}],\"version\":\"2.0\"}'\n"
     ]
    }
   ],
   "source": [
    "from resdb_driver.crypto import generate_keypair\n",
    "from resdb_driver import Resdb\n",
    "\n",
    "db_root_url = \"http://0.0.0.0:18000\"\n",
    "\n",
    "db = Resdb(db_root_url)\n",
    "\n",
    "alice, bob = generate_keypair(), generate_keypair()\n",
    "\n",
    "# create a digital asset for Alice\n",
    "game_boy_token = {\n",
    "    \"data\": {\n",
    "        \"token_for\": {\"game_boy\": {\"serial_number\": \"LR35902\"}},\n",
    "        \"description\": \"Time share token. Each token equals one hour of usage.\",\n",
    "    },\n",
    "}\n",
    "\n",
    "# prepare the transaction with the digital asset and issue 10 tokens for Bob\n",
    "prepared_token_tx = db.transactions.prepare(\n",
    "    operation=\"CREATE\",\n",
    "    signers=alice.public_key,\n",
    "    recipients=[([bob.public_key], 10)],\n",
    "    asset=game_boy_token,\n",
    "    metadata={\"data\":\"DODO\"}\n",
    ")\n",
    "\n",
    "# fulfill the tnx\n",
    "fulfilled_token_tx = db.transactions.fulfill(\n",
    "    prepared_token_tx, private_keys=alice.private_key)"
   ]
  },
  {
   "cell_type": "code",
   "execution_count": 6,
   "metadata": {},
   "outputs": [
    {
     "data": {
      "text/plain": [
       "{'inputs': [{'owners_before': ['FFXFq4rpq1CmW61qyRsADdhZK19PgjF49uTUkPqKET8x'],\n",
       "   'fulfills': None,\n",
       "   'fulfillment': 'pGSAINO79V-DFNObaEkLoIym5lVFGWmcPknbQt-dy4zhRhCdgUDUdstEeLlea4aB_it_7dw_GRpT9Sxsqxo4GWg31Q7z5ZHKrCinJOYtWYB7sPSKyPYBFj0GRgHwQcC-KV9te0AG'}],\n",
       " 'outputs': [{'public_keys': ['94D84hkLng4cfpCG51jksUqHRfYByhhtEUXxBoT7TcVW'],\n",
       "   'condition': {'details': {'type': 'ed25519-sha-256',\n",
       "     'public_key': '94D84hkLng4cfpCG51jksUqHRfYByhhtEUXxBoT7TcVW'},\n",
       "    'uri': 'ni:///sha-256;1tqZ3kY8z0YqUfcg_dUFnCVZSJpOcBkV-lEXzyWui6c?fpt=ed25519-sha-256&cost=131072'},\n",
       "   'amount': '10'}],\n",
       " 'operation': 'CREATE',\n",
       " 'metadata': {'data': 'DODO'},\n",
       " 'asset': {'data': {'token_for': {'game_boy': {'serial_number': 'LR35902'}},\n",
       "   'description': 'Time share token. Each token equals one hour of usage.'}},\n",
       " 'version': '2.0',\n",
       " 'id': '0212ad78049e42b7d280c66391066824e50f654d4de9d9bc235264422b9622a5'}"
      ]
     },
     "execution_count": 6,
     "metadata": {},
     "output_type": "execute_result"
    }
   ],
   "source": [
    "fulfilled_token_tx\n"
   ]
  },
  {
   "cell_type": "code",
   "execution_count": 3,
   "metadata": {},
   "outputs": [],
   "source": [
    "tx_reciept = db.transactions.send_commit(fulfilled_token_tx)\n",
    "tx_reciept_id = tx_reciept[4:]"
   ]
  },
  {
   "cell_type": "code",
   "execution_count": 4,
   "metadata": {},
   "outputs": [
    {
     "data": {
      "text/plain": [
       "'c9f95dd17cd7874e6d2c4e933e8b276f4e3d98e6b6b55be98c786ef8aa9e262c'"
      ]
     },
     "execution_count": 4,
     "metadata": {},
     "output_type": "execute_result"
    }
   ],
   "source": [
    "tx_reciept_id\n"
   ]
  },
  {
   "cell_type": "code",
   "execution_count": 5,
   "metadata": {},
   "outputs": [
    {
     "data": {
      "text/plain": [
       "{'inputs': [{'owners_before': ['HVevXcmRWDSMsUgy62maJfNLgdEki2KG9KbzVQKxyx2d'],\n",
       "   'fulfills': None,\n",
       "   'fulfillment': 'pGSAIPUSIg4x_4mAXs3P1cAwPyWMfgDkfVfOqV1lP4xBLlpKgUCjvi536HzolOtDRj3U7byjdcDrSlSan0wsIfDsWji8PshPCF5VrPUL_QhB_Q1QXl-JR5HZ9FwF0mtNVLwK_zoA'}],\n",
       " 'outputs': [{'public_keys': ['HVevXcmRWDSMsUgy62maJfNLgdEki2KG9KbzVQKxyx2d'],\n",
       "   'condition': {'details': {'type': 'ed25519-sha-256',\n",
       "     'public_key': 'HVevXcmRWDSMsUgy62maJfNLgdEki2KG9KbzVQKxyx2d'},\n",
       "    'uri': 'ni:///sha-256;HRikWGBifo0VSEXQhrnQDBGvxr54SB9rbhU3VjGgwEs?fpt=ed25519-sha-256&cost=131072'},\n",
       "   'amount': '1'}],\n",
       " 'operation': 'CREATE',\n",
       " 'metadata': {'data': 'INIT'},\n",
       " 'asset': {'data': {'token_for': {'game_boy': {'serial_number': 'LR35902'}},\n",
       "   'description': 'Time share token. Each token equals one hour of usage.'}},\n",
       " 'version': '2.0',\n",
       " 'id': 'c9f95dd17cd7874e6d2c4e933e8b276f4e3d98e6b6b55be98c786ef8aa9e262c'}"
      ]
     },
     "execution_count": 5,
     "metadata": {},
     "output_type": "execute_result"
    }
   ],
   "source": [
    "create_tx_info = db.transactions.retrieve(tx_reciept_id)\n",
    "create_tx_info"
   ]
  },
  {
   "cell_type": "code",
   "execution_count": 6,
   "metadata": {},
   "outputs": [],
   "source": [
    "transfer_asset = {\"id\": fulfilled_token_tx[\"id\"]}\n",
    "output_index = 0\n",
    "output = fulfilled_token_tx[\"outputs\"][output_index]\n",
    "transfer_input = {\n",
    "    \"fulfillment\": output[\"condition\"][\"details\"],\n",
    "    \"fulfills\": {\"output_index\": output_index, \"transaction_id\": transfer_asset[\"id\"]},\n",
    "    \"owners_before\": output[\"public_keys\"],\n",
    "}"
   ]
  },
  {
   "cell_type": "code",
   "execution_count": 32,
   "metadata": {},
   "outputs": [
    {
     "data": {
      "text/plain": [
       "{'fulfillment': {'type': 'ed25519-sha-256',\n",
       "  'public_key': 'CfEpmfVLny134UvWczVux4j8td9srvyeYy7hPEZXT1jG'},\n",
       " 'fulfills': {'output_index': 0,\n",
       "  'transaction_id': '73a6e5517037673ca1bc49dc6df9c722b425e0e3f4cea166a143596260e16ce2'},\n",
       " 'owners_before': ['CfEpmfVLny134UvWczVux4j8td9srvyeYy7hPEZXT1jG']}"
      ]
     },
     "execution_count": 32,
     "metadata": {},
     "output_type": "execute_result"
    }
   ],
   "source": [
    "transfer_input"
   ]
  },
  {
   "cell_type": "code",
   "execution_count": 33,
   "metadata": {},
   "outputs": [],
   "source": [
    "prepared_transfer_tx = db.transactions.prepare(\n",
    "    operation=\"TRANSFER\",\n",
    "    asset=transfer_asset,\n",
    "    inputs=transfer_input,\n",
    "    metadata={\"data\":\"2323\"},\n",
    "    recipients=[(\n",
    "                [bob.public_key],\n",
    "                 10\n",
    "                 )],\n",
    ")"
   ]
  },
  {
   "cell_type": "code",
   "execution_count": 34,
   "metadata": {},
   "outputs": [
    {
     "data": {
      "text/plain": [
       "{'inputs': [{'owners_before': ['CfEpmfVLny134UvWczVux4j8td9srvyeYy7hPEZXT1jG'],\n",
       "   'fulfills': {'transaction_id': '73a6e5517037673ca1bc49dc6df9c722b425e0e3f4cea166a143596260e16ce2',\n",
       "    'output_index': 0},\n",
       "   'fulfillment': {'type': 'ed25519-sha-256',\n",
       "    'public_key': 'CfEpmfVLny134UvWczVux4j8td9srvyeYy7hPEZXT1jG'}}],\n",
       " 'outputs': [{'public_keys': ['CfEpmfVLny134UvWczVux4j8td9srvyeYy7hPEZXT1jG'],\n",
       "   'condition': {'details': {'type': 'ed25519-sha-256',\n",
       "     'public_key': 'CfEpmfVLny134UvWczVux4j8td9srvyeYy7hPEZXT1jG'},\n",
       "    'uri': 'ni:///sha-256;53p3B2t3tovqxEsX6x0rdPgJ1Rw7OFDE47EdTYf8fVg?fpt=ed25519-sha-256&cost=131072'},\n",
       "   'amount': '10'}],\n",
       " 'operation': 'TRANSFER',\n",
       " 'metadata': {'data': '2323'},\n",
       " 'asset': {'id': '73a6e5517037673ca1bc49dc6df9c722b425e0e3f4cea166a143596260e16ce2'},\n",
       " 'version': '2.0',\n",
       " 'id': None}"
      ]
     },
     "execution_count": 34,
     "metadata": {},
     "output_type": "execute_result"
    }
   ],
   "source": [
    "prepared_transfer_tx"
   ]
  },
  {
   "cell_type": "code",
   "execution_count": 35,
   "metadata": {},
   "outputs": [
    {
     "name": "stdout",
     "output_type": "stream",
     "text": [
      "HASH DATA <class 'str'>, data='{\"asset\":{\"id\":\"73a6e5517037673ca1bc49dc6df9c722b425e0e3f4cea166a143596260e16ce2\"},\"id\":null,\"inputs\":[{\"fulfillment\":\"pGSAIK08QeHuTDKvTolIFw2RSZ2K0PFFI7F2JVF1zbjVXNHDgUBZh4KTnCv8mYnvXpzSqFWASt7mQ6nfL6Dyy9XmfC_Ekcl6_gR738EP2CJdF094HbhB2xlmhSE58XojsdEvGoIN\",\"fulfills\":{\"output_index\":0,\"transaction_id\":\"73a6e5517037673ca1bc49dc6df9c722b425e0e3f4cea166a143596260e16ce2\"},\"owners_before\":[\"CfEpmfVLny134UvWczVux4j8td9srvyeYy7hPEZXT1jG\"]}],\"metadata\":{\"data\":\"2323\"},\"operation\":\"TRANSFER\",\"outputs\":[{\"amount\":\"10\",\"condition\":{\"details\":{\"public_key\":\"CfEpmfVLny134UvWczVux4j8td9srvyeYy7hPEZXT1jG\",\"type\":\"ed25519-sha-256\"},\"uri\":\"ni:///sha-256;53p3B2t3tovqxEsX6x0rdPgJ1Rw7OFDE47EdTYf8fVg?fpt=ed25519-sha-256&cost=131072\"},\"public_keys\":[\"CfEpmfVLny134UvWczVux4j8td9srvyeYy7hPEZXT1jG\"]}],\"version\":\"2.0\"}'\n"
     ]
    }
   ],
   "source": [
    "fulfilled_transfer_tx = db.transactions.fulfill(\n",
    "    prepared_transfer_tx,\n",
    "    private_keys=bob.private_key\n",
    ")"
   ]
  },
  {
   "cell_type": "code",
   "execution_count": 36,
   "metadata": {},
   "outputs": [
    {
     "data": {
      "text/plain": [
       "{'inputs': [{'owners_before': ['CfEpmfVLny134UvWczVux4j8td9srvyeYy7hPEZXT1jG'],\n",
       "   'fulfills': {'transaction_id': '73a6e5517037673ca1bc49dc6df9c722b425e0e3f4cea166a143596260e16ce2',\n",
       "    'output_index': 0},\n",
       "   'fulfillment': 'pGSAIK08QeHuTDKvTolIFw2RSZ2K0PFFI7F2JVF1zbjVXNHDgUBZh4KTnCv8mYnvXpzSqFWASt7mQ6nfL6Dyy9XmfC_Ekcl6_gR738EP2CJdF094HbhB2xlmhSE58XojsdEvGoIN'}],\n",
       " 'outputs': [{'public_keys': ['CfEpmfVLny134UvWczVux4j8td9srvyeYy7hPEZXT1jG'],\n",
       "   'condition': {'details': {'type': 'ed25519-sha-256',\n",
       "     'public_key': 'CfEpmfVLny134UvWczVux4j8td9srvyeYy7hPEZXT1jG'},\n",
       "    'uri': 'ni:///sha-256;53p3B2t3tovqxEsX6x0rdPgJ1Rw7OFDE47EdTYf8fVg?fpt=ed25519-sha-256&cost=131072'},\n",
       "   'amount': '10'}],\n",
       " 'operation': 'TRANSFER',\n",
       " 'metadata': {'data': '2323'},\n",
       " 'asset': {'id': '73a6e5517037673ca1bc49dc6df9c722b425e0e3f4cea166a143596260e16ce2'},\n",
       " 'version': '2.0',\n",
       " 'id': 'e80cfb8241f45370d8df6caad9f531e2a3c061d7c816b4154f72f5429153441d'}"
      ]
     },
     "execution_count": 36,
     "metadata": {},
     "output_type": "execute_result"
    }
   ],
   "source": [
    "fulfilled_transfer_tx"
   ]
  },
  {
   "cell_type": "code",
   "execution_count": 37,
   "metadata": {},
   "outputs": [],
   "source": [
    "transfer_tx = db.transactions.send_commit(fulfilled_transfer_tx)\n",
    "transfer_tx_id = transfer_tx[4:]"
   ]
  },
  {
   "cell_type": "code",
   "execution_count": 38,
   "metadata": {},
   "outputs": [
    {
     "data": {
      "text/plain": [
       "{'inputs': [{'owners_before': ['CfEpmfVLny134UvWczVux4j8td9srvyeYy7hPEZXT1jG'],\n",
       "   'fulfills': {'transaction_id': '73a6e5517037673ca1bc49dc6df9c722b425e0e3f4cea166a143596260e16ce2',\n",
       "    'output_index': 0},\n",
       "   'fulfillment': 'pGSAIK08QeHuTDKvTolIFw2RSZ2K0PFFI7F2JVF1zbjVXNHDgUBZh4KTnCv8mYnvXpzSqFWASt7mQ6nfL6Dyy9XmfC_Ekcl6_gR738EP2CJdF094HbhB2xlmhSE58XojsdEvGoIN'}],\n",
       " 'outputs': [{'public_keys': ['CfEpmfVLny134UvWczVux4j8td9srvyeYy7hPEZXT1jG'],\n",
       "   'condition': {'details': {'type': 'ed25519-sha-256',\n",
       "     'public_key': 'CfEpmfVLny134UvWczVux4j8td9srvyeYy7hPEZXT1jG'},\n",
       "    'uri': 'ni:///sha-256;53p3B2t3tovqxEsX6x0rdPgJ1Rw7OFDE47EdTYf8fVg?fpt=ed25519-sha-256&cost=131072'},\n",
       "   'amount': '10'}],\n",
       " 'operation': 'TRANSFER',\n",
       " 'metadata': {'data': '2323'},\n",
       " 'asset': {'id': '73a6e5517037673ca1bc49dc6df9c722b425e0e3f4cea166a143596260e16ce2'},\n",
       " 'version': '2.0',\n",
       " 'id': 'e80cfb8241f45370d8df6caad9f531e2a3c061d7c816b4154f72f5429153441d'}"
      ]
     },
     "execution_count": 38,
     "metadata": {},
     "output_type": "execute_result"
    }
   ],
   "source": [
    "transfer_tx_info = db.transactions.retrieve(transfer_tx_id)\n",
    "transfer_tx_info"
   ]
  },
  {
   "cell_type": "code",
   "execution_count": 39,
   "metadata": {},
   "outputs": [
    {
     "data": {
      "text/plain": [
       "{'inputs': [{'owners_before': ['EhBGDJnKjATfM1eRuMw7ZNDd7XSkhPLi7vw1fYDUgv5G'],\n",
       "   'fulfills': None,\n",
       "   'fulfillment': 'pGSAIMtyxBirvd3MiuxsEPaJXdTMlXwJsh2Fzw0JLOoi8BpzgUCbbE79y8Gyb4YxIydADhstC9OJaN5uSukSg1bSWx31NREqBkYHlIAcN7KIMp9y_yhsDlIvp4jnt8DUNEsS0kAD'}],\n",
       " 'outputs': [{'public_keys': ['CfEpmfVLny134UvWczVux4j8td9srvyeYy7hPEZXT1jG'],\n",
       "   'condition': {'details': {'type': 'ed25519-sha-256',\n",
       "     'public_key': 'CfEpmfVLny134UvWczVux4j8td9srvyeYy7hPEZXT1jG'},\n",
       "    'uri': 'ni:///sha-256;53p3B2t3tovqxEsX6x0rdPgJ1Rw7OFDE47EdTYf8fVg?fpt=ed25519-sha-256&cost=131072'},\n",
       "   'amount': '10'}],\n",
       " 'operation': 'CREATE',\n",
       " 'metadata': {'data': 'DODO'},\n",
       " 'asset': {'data': {'token_for': {'game_boy': {'serial_number': 'LR35902'}},\n",
       "   'description': 'Time share token. Each token equals one hour of usage.'}},\n",
       " 'version': '2.0',\n",
       " 'id': '73a6e5517037673ca1bc49dc6df9c722b425e0e3f4cea166a143596260e16ce2'}"
      ]
     },
     "execution_count": 39,
     "metadata": {},
     "output_type": "execute_result"
    }
   ],
   "source": [
    "create_tx_info = db.transactions.retrieve(tx_reciept_id)\n",
    "create_tx_info"
   ]
  },
  {
   "cell_type": "code",
   "execution_count": null,
   "metadata": {},
   "outputs": [],
   "source": []
  },
  {
   "cell_type": "code",
   "execution_count": null,
   "metadata": {},
   "outputs": [],
   "source": []
  },
  {
   "attachments": {},
   "cell_type": "markdown",
   "metadata": {},
   "source": [
    "# Update 2"
   ]
  },
  {
   "cell_type": "code",
   "execution_count": 15,
   "metadata": {},
   "outputs": [],
   "source": [
    "transfer_asset = {\"id\": fulfilled_token_tx[\"id\"]}\n",
    "output_index = 0\n",
    "output = fulfilled_token_tx[\"outputs\"][output_index]\n",
    "transfer_input = {\n",
    "    \"fulfillment\": output[\"condition\"][\"details\"],\n",
    "    \"fulfills\": {\"output_index\": output_index, \"transaction_id\": transfer_asset[\"id\"]},\n",
    "    \"owners_before\": output[\"public_keys\"],\n",
    "}"
   ]
  },
  {
   "cell_type": "code",
   "execution_count": 16,
   "metadata": {},
   "outputs": [
    {
     "data": {
      "text/plain": [
       "{'fulfillment': {'type': 'ed25519-sha-256',\n",
       "  'public_key': '61zkK6phc2T4FbgeMekcffUttUCsvLtQXrFCdTAzBbvi'},\n",
       " 'fulfills': {'output_index': 0,\n",
       "  'transaction_id': '8d72512115f51a1a7dc0e7ff3a617e8f6c60c602f989c77228e3549c35e83e7d'},\n",
       " 'owners_before': ['61zkK6phc2T4FbgeMekcffUttUCsvLtQXrFCdTAzBbvi']}"
      ]
     },
     "execution_count": 16,
     "metadata": {},
     "output_type": "execute_result"
    }
   ],
   "source": [
    "transfer_input"
   ]
  },
  {
   "cell_type": "code",
   "execution_count": 17,
   "metadata": {},
   "outputs": [],
   "source": [
    "prepared_transfer_tx = db.transactions.prepare(\n",
    "    operation=\"TRANSFER\",\n",
    "    asset=transfer_asset,\n",
    "    inputs=transfer_input,\n",
    "    metadata={\"data\":\"8888888888\"},\n",
    "    recipients=[(\n",
    "                [bob.public_key],\n",
    "                 10\n",
    "                 )],\n",
    ")"
   ]
  },
  {
   "cell_type": "code",
   "execution_count": 18,
   "metadata": {},
   "outputs": [
    {
     "data": {
      "text/plain": [
       "{'inputs': [{'owners_before': ['61zkK6phc2T4FbgeMekcffUttUCsvLtQXrFCdTAzBbvi'],\n",
       "   'fulfills': {'transaction_id': '8d72512115f51a1a7dc0e7ff3a617e8f6c60c602f989c77228e3549c35e83e7d',\n",
       "    'output_index': 0},\n",
       "   'fulfillment': {'type': 'ed25519-sha-256',\n",
       "    'public_key': '61zkK6phc2T4FbgeMekcffUttUCsvLtQXrFCdTAzBbvi'}}],\n",
       " 'outputs': [{'public_keys': ['61zkK6phc2T4FbgeMekcffUttUCsvLtQXrFCdTAzBbvi'],\n",
       "   'condition': {'details': {'type': 'ed25519-sha-256',\n",
       "     'public_key': '61zkK6phc2T4FbgeMekcffUttUCsvLtQXrFCdTAzBbvi'},\n",
       "    'uri': 'ni:///sha-256;hD0B4GxNCq4LMd_RR6qtoZwVFbCA4UAj48jmrWuPFi8?fpt=ed25519-sha-256&cost=131072'},\n",
       "   'amount': '10'}],\n",
       " 'operation': 'TRANSFER',\n",
       " 'metadata': {'data': '8888888888'},\n",
       " 'asset': {'id': '8d72512115f51a1a7dc0e7ff3a617e8f6c60c602f989c77228e3549c35e83e7d'},\n",
       " 'version': '2.0',\n",
       " 'id': None}"
      ]
     },
     "execution_count": 18,
     "metadata": {},
     "output_type": "execute_result"
    }
   ],
   "source": [
    "prepared_transfer_tx"
   ]
  },
  {
   "cell_type": "code",
   "execution_count": 19,
   "metadata": {},
   "outputs": [
    {
     "name": "stdout",
     "output_type": "stream",
     "text": [
      "HASH DATA <class 'str'>, data='{\"asset\":{\"id\":\"8d72512115f51a1a7dc0e7ff3a617e8f6c60c602f989c77228e3549c35e83e7d\"},\"id\":null,\"inputs\":[{\"fulfillment\":\"pGSAIEqLuqZjLzeFvVas0AOLkCJyNdhQbc6H7atq-ouSiBMzgUCx58zTCYiSKYKvdRlsPmPL0t0aR4eflTyJPxOMqLaUnVgFrpUt8koGhj8DI_8TFj_fIO1MCJCLvO34z_b998MN\",\"fulfills\":{\"output_index\":0,\"transaction_id\":\"8d72512115f51a1a7dc0e7ff3a617e8f6c60c602f989c77228e3549c35e83e7d\"},\"owners_before\":[\"61zkK6phc2T4FbgeMekcffUttUCsvLtQXrFCdTAzBbvi\"]}],\"metadata\":{\"data\":\"8888888888\"},\"operation\":\"TRANSFER\",\"outputs\":[{\"amount\":\"10\",\"condition\":{\"details\":{\"public_key\":\"61zkK6phc2T4FbgeMekcffUttUCsvLtQXrFCdTAzBbvi\",\"type\":\"ed25519-sha-256\"},\"uri\":\"ni:///sha-256;hD0B4GxNCq4LMd_RR6qtoZwVFbCA4UAj48jmrWuPFi8?fpt=ed25519-sha-256&cost=131072\"},\"public_keys\":[\"61zkK6phc2T4FbgeMekcffUttUCsvLtQXrFCdTAzBbvi\"]}],\"version\":\"2.0\"}'\n"
     ]
    }
   ],
   "source": [
    "fulfilled_transfer_tx = db.transactions.fulfill(\n",
    "    prepared_transfer_tx,\n",
    "    private_keys=bob.private_key\n",
    ")"
   ]
  },
  {
   "cell_type": "code",
   "execution_count": 20,
   "metadata": {},
   "outputs": [
    {
     "data": {
      "text/plain": [
       "{'inputs': [{'owners_before': ['61zkK6phc2T4FbgeMekcffUttUCsvLtQXrFCdTAzBbvi'],\n",
       "   'fulfills': {'transaction_id': '8d72512115f51a1a7dc0e7ff3a617e8f6c60c602f989c77228e3549c35e83e7d',\n",
       "    'output_index': 0},\n",
       "   'fulfillment': 'pGSAIEqLuqZjLzeFvVas0AOLkCJyNdhQbc6H7atq-ouSiBMzgUCx58zTCYiSKYKvdRlsPmPL0t0aR4eflTyJPxOMqLaUnVgFrpUt8koGhj8DI_8TFj_fIO1MCJCLvO34z_b998MN'}],\n",
       " 'outputs': [{'public_keys': ['61zkK6phc2T4FbgeMekcffUttUCsvLtQXrFCdTAzBbvi'],\n",
       "   'condition': {'details': {'type': 'ed25519-sha-256',\n",
       "     'public_key': '61zkK6phc2T4FbgeMekcffUttUCsvLtQXrFCdTAzBbvi'},\n",
       "    'uri': 'ni:///sha-256;hD0B4GxNCq4LMd_RR6qtoZwVFbCA4UAj48jmrWuPFi8?fpt=ed25519-sha-256&cost=131072'},\n",
       "   'amount': '10'}],\n",
       " 'operation': 'TRANSFER',\n",
       " 'metadata': {'data': '8888888888'},\n",
       " 'asset': {'id': '8d72512115f51a1a7dc0e7ff3a617e8f6c60c602f989c77228e3549c35e83e7d'},\n",
       " 'version': '2.0',\n",
       " 'id': 'fc941b54269f07bbc64176487df4ed6dc6dd0eee612e4932862ce9e576a01fed'}"
      ]
     },
     "execution_count": 20,
     "metadata": {},
     "output_type": "execute_result"
    }
   ],
   "source": [
    "fulfilled_transfer_tx"
   ]
  },
  {
   "cell_type": "code",
   "execution_count": 21,
   "metadata": {},
   "outputs": [],
   "source": [
    "transfer_tx = db.transactions.send_commit(fulfilled_transfer_tx)\n",
    "transfer_tx_id = transfer_tx[4:]"
   ]
  },
  {
   "cell_type": "code",
   "execution_count": 22,
   "metadata": {},
   "outputs": [
    {
     "data": {
      "text/plain": [
       "{'inputs': [{'owners_before': ['61zkK6phc2T4FbgeMekcffUttUCsvLtQXrFCdTAzBbvi'],\n",
       "   'fulfills': {'transaction_id': '8d72512115f51a1a7dc0e7ff3a617e8f6c60c602f989c77228e3549c35e83e7d',\n",
       "    'output_index': 0},\n",
       "   'fulfillment': 'pGSAIEqLuqZjLzeFvVas0AOLkCJyNdhQbc6H7atq-ouSiBMzgUCx58zTCYiSKYKvdRlsPmPL0t0aR4eflTyJPxOMqLaUnVgFrpUt8koGhj8DI_8TFj_fIO1MCJCLvO34z_b998MN'}],\n",
       " 'outputs': [{'public_keys': ['61zkK6phc2T4FbgeMekcffUttUCsvLtQXrFCdTAzBbvi'],\n",
       "   'condition': {'details': {'type': 'ed25519-sha-256',\n",
       "     'public_key': '61zkK6phc2T4FbgeMekcffUttUCsvLtQXrFCdTAzBbvi'},\n",
       "    'uri': 'ni:///sha-256;hD0B4GxNCq4LMd_RR6qtoZwVFbCA4UAj48jmrWuPFi8?fpt=ed25519-sha-256&cost=131072'},\n",
       "   'amount': '10'}],\n",
       " 'operation': 'TRANSFER',\n",
       " 'metadata': {'data': '8888888888'},\n",
       " 'asset': {'id': '8d72512115f51a1a7dc0e7ff3a617e8f6c60c602f989c77228e3549c35e83e7d'},\n",
       " 'version': '2.0',\n",
       " 'id': 'fc941b54269f07bbc64176487df4ed6dc6dd0eee612e4932862ce9e576a01fed'}"
      ]
     },
     "execution_count": 22,
     "metadata": {},
     "output_type": "execute_result"
    }
   ],
   "source": [
    "transfer_tx_info = db.transactions.retrieve(transfer_tx_id)\n",
    "transfer_tx_info"
   ]
  },
  {
   "cell_type": "code",
   "execution_count": null,
   "metadata": {},
   "outputs": [],
   "source": []
  },
  {
   "cell_type": "code",
   "execution_count": 23,
   "metadata": {},
   "outputs": [
    {
     "name": "stdout",
     "output_type": "stream",
     "text": [
      "HASH DATA <class 'str'>, data='{\"asset\":{\"data\":{\"description\":\"NFT List tracking token\",\"token_for\":{\"NFT_list\":\"123asd\"}}},\"id\":null,\"inputs\":[{\"fulfillment\":\"pGSAIDgs5lZ_iqENBRo5Yv3tvglhMgr-m181T5BKzB2JtkN5gUBMbekuppGdH0ujUrROP9QLuNv6cEwy2_hbLM7yKTrboOn_GRt2TO3k4F_FmD0YBWnq8Mt5j1kzlVbkPQZnvfEB\",\"fulfills\":null,\"owners_before\":[\"4nHYMjqyxKBuvPzUpQkParLrXTDvmCBsz6GpSECqH7eY\"]}],\"metadata\":{\"data\":\"INIT EMPTY HASH\"},\"operation\":\"CREATE\",\"outputs\":[{\"amount\":\"1\",\"condition\":{\"details\":{\"public_key\":\"4nHYMjqyxKBuvPzUpQkParLrXTDvmCBsz6GpSECqH7eY\",\"type\":\"ed25519-sha-256\"},\"uri\":\"ni:///sha-256;nlzo8QML5wgHF8IkhEhHVlLHVxsPhTb_KFqGGl_qEUY?fpt=ed25519-sha-256&cost=131072\"},\"public_keys\":[\"4nHYMjqyxKBuvPzUpQkParLrXTDvmCBsz6GpSECqH7eY\"]}],\"version\":\"2.0\"}'\n",
      "c31f7c35329bd88e371ab5437db3413216c5d2e9ba9d026d599b1c5e3ea3bf47\n"
     ]
    }
   ],
   "source": [
    "nft_list_init_token = {\n",
    "    \"data\": {\n",
    "        \"token_for\": {\"NFT_list\": \"123asd\"},\n",
    "        \"description\": \"NFT List tracking token\",\n",
    "    },\n",
    "}\n",
    "\n",
    "nft_init_metadata = {\n",
    "    \"data\": \"INIT EMPTY HASH\"\n",
    "}\n",
    "\n",
    "admin = generate_keypair()\n",
    "\n",
    "prepared_token_tx = db.transactions.prepare(\n",
    "    operation=\"CREATE\",\n",
    "    signers=admin.public_key,\n",
    "    recipients=[([admin.public_key], 1)],\n",
    "    asset=nft_list_init_token,\n",
    "    metadata=nft_init_metadata\n",
    ")\n",
    "\n",
    "# fulfill the tnx\n",
    "fulfilled_token_tx = db.transactions.fulfill(\n",
    "    prepared_token_tx,\n",
    "    private_keys=admin.private_key\n",
    ")\n",
    "\n",
    "tx_reciept = db.transactions.send_commit(fulfilled_token_tx)\n",
    "tx_reciept_id = tx_reciept[4:]\n",
    "\n",
    "print(tx_reciept_id)\n"
   ]
  },
  {
   "cell_type": "code",
   "execution_count": 24,
   "metadata": {},
   "outputs": [
    {
     "data": {
      "text/plain": [
       "'c31f7c35329bd88e371ab5437db3413216c5d2e9ba9d026d599b1c5e3ea3bf47'"
      ]
     },
     "execution_count": 24,
     "metadata": {},
     "output_type": "execute_result"
    }
   ],
   "source": [
    "tx_reciept_id"
   ]
  },
  {
   "cell_type": "code",
   "execution_count": 25,
   "metadata": {},
   "outputs": [
    {
     "data": {
      "text/plain": [
       "{'inputs': [{'owners_before': ['4nHYMjqyxKBuvPzUpQkParLrXTDvmCBsz6GpSECqH7eY'],\n",
       "   'fulfills': None,\n",
       "   'fulfillment': 'pGSAIDgs5lZ_iqENBRo5Yv3tvglhMgr-m181T5BKzB2JtkN5gUBMbekuppGdH0ujUrROP9QLuNv6cEwy2_hbLM7yKTrboOn_GRt2TO3k4F_FmD0YBWnq8Mt5j1kzlVbkPQZnvfEB'}],\n",
       " 'outputs': [{'public_keys': ['4nHYMjqyxKBuvPzUpQkParLrXTDvmCBsz6GpSECqH7eY'],\n",
       "   'condition': {'details': {'type': 'ed25519-sha-256',\n",
       "     'public_key': '4nHYMjqyxKBuvPzUpQkParLrXTDvmCBsz6GpSECqH7eY'},\n",
       "    'uri': 'ni:///sha-256;nlzo8QML5wgHF8IkhEhHVlLHVxsPhTb_KFqGGl_qEUY?fpt=ed25519-sha-256&cost=131072'},\n",
       "   'amount': '1'}],\n",
       " 'operation': 'CREATE',\n",
       " 'metadata': {'data': 'INIT EMPTY HASH'},\n",
       " 'asset': {'data': {'token_for': {'NFT_list': '123asd'},\n",
       "   'description': 'NFT List tracking token'}},\n",
       " 'version': '2.0',\n",
       " 'id': 'c31f7c35329bd88e371ab5437db3413216c5d2e9ba9d026d599b1c5e3ea3bf47'}"
      ]
     },
     "execution_count": 25,
     "metadata": {},
     "output_type": "execute_result"
    }
   ],
   "source": [
    "transfer_tx_info = db.transactions.retrieve(tx_reciept_id)\n",
    "transfer_tx_info\n"
   ]
  },
  {
   "cell_type": "code",
   "execution_count": null,
   "metadata": {},
   "outputs": [],
   "source": []
  },
  {
   "attachments": {},
   "cell_type": "markdown",
   "metadata": {},
   "source": [
    "# Dynamic Transfer by Admin"
   ]
  },
  {
   "cell_type": "code",
   "execution_count": 1,
   "metadata": {},
   "outputs": [
    {
     "ename": "NameError",
     "evalue": "name 'game_boy_token' is not defined",
     "output_type": "error",
     "traceback": [
      "\u001b[0;31m---------------------------------------------------------------------------\u001b[0m",
      "\u001b[0;31mNameError\u001b[0m                                 Traceback (most recent call last)",
      "Cell \u001b[0;32mIn[1], line 29\u001b[0m\n\u001b[1;32m     20\u001b[0m nft_init_metadata \u001b[39m=\u001b[39m {\n\u001b[1;32m     21\u001b[0m         \u001b[39m\"\u001b[39m\u001b[39mdata\u001b[39m\u001b[39m\"\u001b[39m: \u001b[39m\"\u001b[39m\u001b[39mINIT EMPTY HASH\u001b[39m\u001b[39m\"\u001b[39m\n\u001b[1;32m     22\u001b[0m     }\n\u001b[1;32m     24\u001b[0m \u001b[39m# prepare the transaction with the digital asset and issue 10 tokens for Bob\u001b[39;00m\n\u001b[1;32m     25\u001b[0m prepared_token_tx \u001b[39m=\u001b[39m db\u001b[39m.\u001b[39mtransactions\u001b[39m.\u001b[39mprepare(\n\u001b[1;32m     26\u001b[0m     operation\u001b[39m=\u001b[39m\u001b[39m\"\u001b[39m\u001b[39mCREATE\u001b[39m\u001b[39m\"\u001b[39m,\n\u001b[1;32m     27\u001b[0m     signers\u001b[39m=\u001b[39madmin\u001b[39m.\u001b[39mpublic_key,\n\u001b[1;32m     28\u001b[0m     recipients\u001b[39m=\u001b[39m[([admin\u001b[39m.\u001b[39mpublic_key], token_supply)],\n\u001b[0;32m---> 29\u001b[0m     asset\u001b[39m=\u001b[39mgame_boy_token,\n\u001b[1;32m     30\u001b[0m     metadata\u001b[39m=\u001b[39mnft_init_metadata\n\u001b[1;32m     31\u001b[0m )\n\u001b[1;32m     33\u001b[0m \u001b[39m# fulfill the tnx\u001b[39;00m\n\u001b[1;32m     34\u001b[0m fulfilled_token_tx \u001b[39m=\u001b[39m db\u001b[39m.\u001b[39mtransactions\u001b[39m.\u001b[39mfulfill(\n\u001b[1;32m     35\u001b[0m     prepared_token_tx,\n\u001b[1;32m     36\u001b[0m     private_keys\u001b[39m=\u001b[39madmin\u001b[39m.\u001b[39mprivate_key)\n",
      "\u001b[0;31mNameError\u001b[0m: name 'game_boy_token' is not defined"
     ]
    }
   ],
   "source": [
    "from resdb_driver.crypto import generate_keypair\n",
    "from resdb_driver import Resdb\n",
    "\n",
    "db_root_url = \"http://0.0.0.0:18000\"\n",
    "\n",
    "db = Resdb(db_root_url)\n",
    "\n",
    "admin=generate_keypair()\n",
    "\n",
    "token_supply : int = 1\n",
    "\n",
    "# create a digital asset for Alice\n",
    "nft_list_init_token = {\n",
    "    \"data\": {\n",
    "        \"token_for\": {\"NFT_list\": \"123asd\"},\n",
    "        \"description\": \"NFT List tracking token\",\n",
    "    },\n",
    "}\n",
    "\n",
    "nft_init_metadata = {\n",
    "        \"data\": \"INIT EMPTY HASH\"\n",
    "    }\n",
    "\n",
    "# prepare the transaction with the digital asset and issue 10 tokens for Bob\n",
    "prepared_token_tx = db.transactions.prepare(\n",
    "    operation=\"CREATE\",\n",
    "    signers=admin.public_key,\n",
    "    recipients=[([admin.public_key], token_supply)],\n",
    "    asset=game_boy_token,\n",
    "    metadata=nft_init_metadata\n",
    ")\n",
    "\n",
    "# fulfill the tnx\n",
    "fulfilled_token_tx = db.transactions.fulfill(\n",
    "    prepared_token_tx,\n",
    "    private_keys=admin.private_key)"
   ]
  },
  {
   "cell_type": "code",
   "execution_count": 2,
   "metadata": {},
   "outputs": [
    {
     "name": "stdout",
     "output_type": "stream",
     "text": [
      "HASH DATA <class 'str'>, data='{\"asset\":{\"data\":{\"description\":\"NFT List Token\",\"token_for\":{\"NFT_list\":\"Used to store\"}}},\"id\":null,\"inputs\":[{\"fulfillment\":\"pGSAIE7mv2xzqgqZIK_Act1QjvogLNEVflbARgl0qnWmdEJVgUDBP-Fn8NXRfzCkiO7s0_G69x6lCsoZhdTaBxmbySvNyCzcN4FFplqVKfwo7cf8khCB1Qg5OOJpN8kj0GedXIYE\",\"fulfills\":null,\"owners_before\":[\"6JzskBGQUxWmo6r5jR5CQjuQiyxgVF3ZNST1ciu1enXn\"]}],\"metadata\":{\"data\":\"LIST INITIALISED\"},\"operation\":\"CREATE\",\"outputs\":[{\"amount\":\"1\",\"condition\":{\"details\":{\"public_key\":\"6JzskBGQUxWmo6r5jR5CQjuQiyxgVF3ZNST1ciu1enXn\",\"type\":\"ed25519-sha-256\"},\"uri\":\"ni:///sha-256;WvsSmyHCkjTZa8NRgWhIZVJmNsVQ8lXAQLVM2nNcr5M?fpt=ed25519-sha-256&cost=131072\"},\"public_keys\":[\"6JzskBGQUxWmo6r5jR5CQjuQiyxgVF3ZNST1ciu1enXn\"]}],\"version\":\"2.0\"}'\n"
     ]
    }
   ],
   "source": [
    "from resdb_driver.crypto import generate_keypair\n",
    "from resdb_driver import Resdb\n",
    "\n",
    "db_root_url = \"http://0.0.0.0:18000\"\n",
    "\n",
    "db = Resdb(db_root_url)\n",
    "\n",
    "admin=generate_keypair()\n",
    "\n",
    "token_supply: int = 1\n",
    "\n",
    "nft_list_init_token = {\n",
    "    \"data\": {\n",
    "        \"token_for\": {\"NFT_list\": \"Used to store\"},\n",
    "        \"description\": \"NFT List Token\",\n",
    "    },\n",
    "}\n",
    "\n",
    "nft_init_metadata = {\n",
    "    \"data\": \"INIT EMPTY HASH\"\n",
    "}\n",
    "\n",
    "prepared_token_tx = db.transactions.prepare(\n",
    "    operation=\"CREATE\",\n",
    "    signers=admin.public_key,\n",
    "    recipients=[([admin.public_key], 1)],\n",
    "    asset=nft_list_init_token,\n",
    "    metadata={\"data\": \"LIST INITIALISED\"}\n",
    ")\n",
    "\n",
    "# fulfill the tnx\n",
    "fulfilled_token_tx = db.transactions.fulfill(\n",
    "    prepared_token_tx,\n",
    "    private_keys=admin.private_key\n",
    ")"
   ]
  },
  {
   "cell_type": "code",
   "execution_count": 10,
   "metadata": {},
   "outputs": [
    {
     "data": {
      "text/plain": [
       "{'inputs': [{'owners_before': ['EA5PttQRPtNuKqz1A1N4eo7DjVGtmavFjkW7A8L2JDS2'],\n",
       "   'fulfills': None,\n",
       "   'fulfillment': 'pGSAIMN7IGAWwyAV5k5C0FlpmqzMkH9DGNF2PnWMn1T53uYzgUBDkArUlU6gv9g3KkoA6xbxEpmz8zUwmYp35y1NiMRNUg0djBLF50IR5fwwtRaGNhpHrZxuBSteTizc7C7prPkL'}],\n",
       " 'outputs': [{'public_keys': ['EA5PttQRPtNuKqz1A1N4eo7DjVGtmavFjkW7A8L2JDS2'],\n",
       "   'condition': {'details': {'type': 'ed25519-sha-256',\n",
       "     'public_key': 'EA5PttQRPtNuKqz1A1N4eo7DjVGtmavFjkW7A8L2JDS2'},\n",
       "    'uri': 'ni:///sha-256;wnt2eydBsbcx6HVGeohta8RXKhzCfkjbjYk1bqh4WJ0?fpt=ed25519-sha-256&cost=131072'},\n",
       "   'amount': '1'}],\n",
       " 'operation': 'CREATE',\n",
       " 'metadata': {'data': 'LIST INITIALISED'},\n",
       " 'asset': {'data': {'token_for': {'NFT_list': 'Used to store'},\n",
       "   'description': 'NFT List Token'}},\n",
       " 'version': '2.0',\n",
       " 'id': '264b88bf9358ccd3bcdba15186d04c50f366563a46158550d9258dca5bc43e44'}"
      ]
     },
     "execution_count": 10,
     "metadata": {},
     "output_type": "execute_result"
    }
   ],
   "source": [
    "fulfilled_token_tx"
   ]
  },
  {
   "cell_type": "code",
   "execution_count": 11,
   "metadata": {},
   "outputs": [],
   "source": [
    "tx_reciept = db.transactions.send_commit(fulfilled_token_tx)\n",
    "tx_reciept_id = tx_reciept[4:]"
   ]
  },
  {
   "cell_type": "code",
   "execution_count": 13,
   "metadata": {},
   "outputs": [
    {
     "data": {
      "text/plain": [
       "{'inputs': [{'owners_before': ['EA5PttQRPtNuKqz1A1N4eo7DjVGtmavFjkW7A8L2JDS2'],\n",
       "   'fulfills': None,\n",
       "   'fulfillment': 'pGSAIMN7IGAWwyAV5k5C0FlpmqzMkH9DGNF2PnWMn1T53uYzgUBDkArUlU6gv9g3KkoA6xbxEpmz8zUwmYp35y1NiMRNUg0djBLF50IR5fwwtRaGNhpHrZxuBSteTizc7C7prPkL'}],\n",
       " 'outputs': [{'public_keys': ['EA5PttQRPtNuKqz1A1N4eo7DjVGtmavFjkW7A8L2JDS2'],\n",
       "   'condition': {'details': {'type': 'ed25519-sha-256',\n",
       "     'public_key': 'EA5PttQRPtNuKqz1A1N4eo7DjVGtmavFjkW7A8L2JDS2'},\n",
       "    'uri': 'ni:///sha-256;wnt2eydBsbcx6HVGeohta8RXKhzCfkjbjYk1bqh4WJ0?fpt=ed25519-sha-256&cost=131072'},\n",
       "   'amount': '1'}],\n",
       " 'operation': 'CREATE',\n",
       " 'metadata': {'data': 'LIST INITIALISED'},\n",
       " 'asset': {'data': {'token_for': {'NFT_list': 'Used to store'},\n",
       "   'description': 'NFT List Token'}},\n",
       " 'version': '2.0',\n",
       " 'id': '264b88bf9358ccd3bcdba15186d04c50f366563a46158550d9258dca5bc43e44'}"
      ]
     },
     "execution_count": 13,
     "metadata": {},
     "output_type": "execute_result"
    }
   ],
   "source": [
    "create_tx_info = db.transactions.retrieve(tx_reciept_id)\n",
    "create_tx_info"
   ]
  },
  {
   "cell_type": "code",
   "execution_count": 14,
   "metadata": {},
   "outputs": [
    {
     "data": {
      "text/plain": [
       "'264b88bf9358ccd3bcdba15186d04c50f366563a46158550d9258dca5bc43e44'"
      ]
     },
     "execution_count": 14,
     "metadata": {},
     "output_type": "execute_result"
    }
   ],
   "source": [
    "create_tx_info[\"id\"]"
   ]
  },
  {
   "cell_type": "code",
   "execution_count": 15,
   "metadata": {},
   "outputs": [],
   "source": [
    "# Dynamic\n",
    "transfer_asset = {\"id\": create_tx_info[\"id\"]}\n",
    "\n",
    "output_index = 0\n",
    "\n",
    "output = create_tx_info[\"outputs\"][output_index]\n",
    "\n",
    "transfer_input = {\n",
    "    \"fulfillment\": output[\"condition\"][\"details\"],\n",
    "    \"fulfills\": {\"output_index\": output_index, \"transaction_id\": transfer_asset[\"id\"]},\n",
    "    \"owners_before\": output[\"public_keys\"],\n",
    "}\n"
   ]
  },
  {
   "cell_type": "code",
   "execution_count": 16,
   "metadata": {},
   "outputs": [],
   "source": [
    "# Dynamic\n",
    "\n",
    "prepared_transfer_tx = db.transactions.prepare(\n",
    "    operation=\"TRANSFER\",\n",
    "    asset=transfer_asset,\n",
    "    inputs=transfer_input,\n",
    "    metadata={\"data\": [\"123123sadfsafasd\",\"sdafasdfasdfasdf54631685468546\",\"fsADFASDF654654654654654\"]},\n",
    "    recipients=[(\n",
    "                [admin.public_key],\n",
    "                1\n",
    "                )],\n",
    ")"
   ]
  },
  {
   "cell_type": "code",
   "execution_count": 17,
   "metadata": {},
   "outputs": [
    {
     "name": "stdout",
     "output_type": "stream",
     "text": [
      "HASH DATA <class 'str'>, data='{\"asset\":{\"id\":\"264b88bf9358ccd3bcdba15186d04c50f366563a46158550d9258dca5bc43e44\"},\"id\":null,\"inputs\":[{\"fulfillment\":\"pGSAIMN7IGAWwyAV5k5C0FlpmqzMkH9DGNF2PnWMn1T53uYzgUCcxOrEV2_HC0yd0W-8qmcqCmc25gcj65KYsqv0u2ovTkqR-eDwlBxO5YwI5DtZqRgxO2BwA7M5lBl0kGSY_gAH\",\"fulfills\":{\"output_index\":0,\"transaction_id\":\"264b88bf9358ccd3bcdba15186d04c50f366563a46158550d9258dca5bc43e44\"},\"owners_before\":[\"EA5PttQRPtNuKqz1A1N4eo7DjVGtmavFjkW7A8L2JDS2\"]}],\"metadata\":{\"data\":[\"123123sadfsafasd\",\"sdafasdfasdfasdf54631685468546\",\"fsADFASDF654654654654654\"]},\"operation\":\"TRANSFER\",\"outputs\":[{\"amount\":\"1\",\"condition\":{\"details\":{\"public_key\":\"EA5PttQRPtNuKqz1A1N4eo7DjVGtmavFjkW7A8L2JDS2\",\"type\":\"ed25519-sha-256\"},\"uri\":\"ni:///sha-256;wnt2eydBsbcx6HVGeohta8RXKhzCfkjbjYk1bqh4WJ0?fpt=ed25519-sha-256&cost=131072\"},\"public_keys\":[\"EA5PttQRPtNuKqz1A1N4eo7DjVGtmavFjkW7A8L2JDS2\"]}],\"version\":\"2.0\"}'\n"
     ]
    }
   ],
   "source": [
    "# Dynamic\n",
    "fulfilled_transfer_tx = db.transactions.fulfill(\n",
    "    prepared_transfer_tx,\n",
    "    private_keys=admin.private_key\n",
    ")\n"
   ]
  },
  {
   "cell_type": "code",
   "execution_count": 18,
   "metadata": {},
   "outputs": [],
   "source": [
    "# Dynamic\n",
    "transfer_tx = db.transactions.send_commit(fulfilled_transfer_tx)\n",
    "transfer_tx_id = transfer_tx[4:]"
   ]
  },
  {
   "cell_type": "code",
   "execution_count": 19,
   "metadata": {},
   "outputs": [
    {
     "data": {
      "text/plain": [
       "{'inputs': [{'owners_before': ['EA5PttQRPtNuKqz1A1N4eo7DjVGtmavFjkW7A8L2JDS2'],\n",
       "   'fulfills': {'transaction_id': '264b88bf9358ccd3bcdba15186d04c50f366563a46158550d9258dca5bc43e44',\n",
       "    'output_index': 0},\n",
       "   'fulfillment': 'pGSAIMN7IGAWwyAV5k5C0FlpmqzMkH9DGNF2PnWMn1T53uYzgUCcxOrEV2_HC0yd0W-8qmcqCmc25gcj65KYsqv0u2ovTkqR-eDwlBxO5YwI5DtZqRgxO2BwA7M5lBl0kGSY_gAH'}],\n",
       " 'outputs': [{'public_keys': ['EA5PttQRPtNuKqz1A1N4eo7DjVGtmavFjkW7A8L2JDS2'],\n",
       "   'condition': {'details': {'type': 'ed25519-sha-256',\n",
       "     'public_key': 'EA5PttQRPtNuKqz1A1N4eo7DjVGtmavFjkW7A8L2JDS2'},\n",
       "    'uri': 'ni:///sha-256;wnt2eydBsbcx6HVGeohta8RXKhzCfkjbjYk1bqh4WJ0?fpt=ed25519-sha-256&cost=131072'},\n",
       "   'amount': '1'}],\n",
       " 'operation': 'TRANSFER',\n",
       " 'metadata': {'data': ['123123sadfsafasd',\n",
       "   'sdafasdfasdfasdf54631685468546',\n",
       "   'fsADFASDF654654654654654']},\n",
       " 'asset': {'id': '264b88bf9358ccd3bcdba15186d04c50f366563a46158550d9258dca5bc43e44'},\n",
       " 'version': '2.0',\n",
       " 'id': '54fca8798402114013998fa2b12b45ae4ccc2b6abcd23a5f83132fd4e06b5708'}"
      ]
     },
     "execution_count": 19,
     "metadata": {},
     "output_type": "execute_result"
    }
   ],
   "source": [
    "# Dynamic\n",
    "transfer_tx_info = db.transactions.retrieve(transfer_tx_id)\n",
    "transfer_tx_info\n"
   ]
  },
  {
   "attachments": {},
   "cell_type": "markdown",
   "metadata": {},
   "source": [
    "### Transfer from transfer: Update Metadata"
   ]
  },
  {
   "cell_type": "code",
   "execution_count": 21,
   "metadata": {},
   "outputs": [
    {
     "data": {
      "text/plain": [
       "{'inputs': [{'owners_before': ['EA5PttQRPtNuKqz1A1N4eo7DjVGtmavFjkW7A8L2JDS2'],\n",
       "   'fulfills': {'transaction_id': '264b88bf9358ccd3bcdba15186d04c50f366563a46158550d9258dca5bc43e44',\n",
       "    'output_index': 0},\n",
       "   'fulfillment': 'pGSAIMN7IGAWwyAV5k5C0FlpmqzMkH9DGNF2PnWMn1T53uYzgUCcxOrEV2_HC0yd0W-8qmcqCmc25gcj65KYsqv0u2ovTkqR-eDwlBxO5YwI5DtZqRgxO2BwA7M5lBl0kGSY_gAH'}],\n",
       " 'outputs': [{'public_keys': ['EA5PttQRPtNuKqz1A1N4eo7DjVGtmavFjkW7A8L2JDS2'],\n",
       "   'condition': {'details': {'type': 'ed25519-sha-256',\n",
       "     'public_key': 'EA5PttQRPtNuKqz1A1N4eo7DjVGtmavFjkW7A8L2JDS2'},\n",
       "    'uri': 'ni:///sha-256;wnt2eydBsbcx6HVGeohta8RXKhzCfkjbjYk1bqh4WJ0?fpt=ed25519-sha-256&cost=131072'},\n",
       "   'amount': '1'}],\n",
       " 'operation': 'TRANSFER',\n",
       " 'metadata': {'data': ['123123sadfsafasd',\n",
       "   'sdafasdfasdfasdf54631685468546',\n",
       "   'fsADFASDF654654654654654']},\n",
       " 'asset': {'id': '264b88bf9358ccd3bcdba15186d04c50f366563a46158550d9258dca5bc43e44'},\n",
       " 'version': '2.0',\n",
       " 'id': '54fca8798402114013998fa2b12b45ae4ccc2b6abcd23a5f83132fd4e06b5708'}"
      ]
     },
     "execution_count": 21,
     "metadata": {},
     "output_type": "execute_result"
    }
   ],
   "source": [
    "transfer_tx_info = db.transactions.retrieve(transfer_tx_id)\n",
    "transfer_tx_info"
   ]
  },
  {
   "cell_type": "code",
   "execution_count": 22,
   "metadata": {},
   "outputs": [
    {
     "data": {
      "text/plain": [
       "'264b88bf9358ccd3bcdba15186d04c50f366563a46158550d9258dca5bc43e44'"
      ]
     },
     "execution_count": 22,
     "metadata": {},
     "output_type": "execute_result"
    }
   ],
   "source": [
    "transfer_tx_info[\"asset\"][\"id\"]"
   ]
  },
  {
   "cell_type": "code",
   "execution_count": 23,
   "metadata": {},
   "outputs": [
    {
     "data": {
      "text/plain": [
       "{'public_keys': ['EA5PttQRPtNuKqz1A1N4eo7DjVGtmavFjkW7A8L2JDS2'],\n",
       " 'condition': {'details': {'type': 'ed25519-sha-256',\n",
       "   'public_key': 'EA5PttQRPtNuKqz1A1N4eo7DjVGtmavFjkW7A8L2JDS2'},\n",
       "  'uri': 'ni:///sha-256;wnt2eydBsbcx6HVGeohta8RXKhzCfkjbjYk1bqh4WJ0?fpt=ed25519-sha-256&cost=131072'},\n",
       " 'amount': '1'}"
      ]
     },
     "execution_count": 23,
     "metadata": {},
     "output_type": "execute_result"
    }
   ],
   "source": [
    "transfer_tx_info[\"outputs\"][output_index]"
   ]
  },
  {
   "cell_type": "code",
   "execution_count": 24,
   "metadata": {},
   "outputs": [],
   "source": [
    "transfer_asset = {\"id\": transfer_tx_info[\"asset\"][\"id\"]}\n",
    "\n",
    "output_index = 0\n",
    "\n",
    "output = transfer_tx_info[\"outputs\"][output_index]\n",
    "\n",
    "transfer_input = {\n",
    "    \"fulfillment\": output[\"condition\"][\"details\"],\n",
    "    \"fulfills\": {\"output_index\": output_index, \"transaction_id\": transfer_asset[\"id\"]},\n",
    "    \"owners_before\": output[\"public_keys\"],\n",
    "}"
   ]
  },
  {
   "cell_type": "code",
   "execution_count": 25,
   "metadata": {},
   "outputs": [
    {
     "data": {
      "text/plain": [
       "{'data': ['123123sadfsafasd',\n",
       "  'sdafasdfasdfasdf54631685468546',\n",
       "  'fsADFASDF654654654654654']}"
      ]
     },
     "execution_count": 25,
     "metadata": {},
     "output_type": "execute_result"
    }
   ],
   "source": [
    "transfer_tx_info[\"metadata\"]"
   ]
  },
  {
   "cell_type": "code",
   "execution_count": 26,
   "metadata": {},
   "outputs": [],
   "source": [
    "old_metadata = transfer_tx_info[\"metadata\"][\"data\"]"
   ]
  },
  {
   "cell_type": "code",
   "execution_count": 27,
   "metadata": {},
   "outputs": [],
   "source": [
    "import copy\n",
    "\n",
    "new_metadata = copy.deepcopy(old_metadata)"
   ]
  },
  {
   "cell_type": "code",
   "execution_count": 28,
   "metadata": {},
   "outputs": [],
   "source": [
    "new_list_element = \"SHIVAM\""
   ]
  },
  {
   "cell_type": "code",
   "execution_count": 29,
   "metadata": {},
   "outputs": [],
   "source": [
    "new_metadata.append(new_list_element)"
   ]
  },
  {
   "cell_type": "code",
   "execution_count": 30,
   "metadata": {},
   "outputs": [
    {
     "data": {
      "text/plain": [
       "['123123sadfsafasd',\n",
       " 'sdafasdfasdfasdf54631685468546',\n",
       " 'fsADFASDF654654654654654',\n",
       " 'SHIVAM']"
      ]
     },
     "execution_count": 30,
     "metadata": {},
     "output_type": "execute_result"
    }
   ],
   "source": [
    "new_metadata"
   ]
  },
  {
   "cell_type": "code",
   "execution_count": 31,
   "metadata": {},
   "outputs": [],
   "source": [
    "# print(new_metadata,id(new_metadata),id(old_metadata))"
   ]
  },
  {
   "cell_type": "code",
   "execution_count": 32,
   "metadata": {},
   "outputs": [],
   "source": [
    "# Dynamic\n",
    "\n",
    "prepared_transfer_tx = db.transactions.prepare(\n",
    "    operation=\"TRANSFER\",\n",
    "    asset=transfer_asset,\n",
    "    inputs=transfer_input,\n",
    "    metadata={\"data\": new_metadata},\n",
    "    recipients=[(\n",
    "                [admin.public_key],\n",
    "                1\n",
    "                )],\n",
    ")"
   ]
  },
  {
   "cell_type": "code",
   "execution_count": 33,
   "metadata": {},
   "outputs": [
    {
     "name": "stdout",
     "output_type": "stream",
     "text": [
      "HASH DATA <class 'str'>, data='{\"asset\":{\"id\":\"264b88bf9358ccd3bcdba15186d04c50f366563a46158550d9258dca5bc43e44\"},\"id\":null,\"inputs\":[{\"fulfillment\":\"pGSAIMN7IGAWwyAV5k5C0FlpmqzMkH9DGNF2PnWMn1T53uYzgUB1ve3mftKW1SykSYUI4cO1pLOzWu5AL2VHkgeASM9NsT2hec_e7kDxkaUUufUobd1Xw3hasMlCiWNB8H6i6ucM\",\"fulfills\":{\"output_index\":0,\"transaction_id\":\"264b88bf9358ccd3bcdba15186d04c50f366563a46158550d9258dca5bc43e44\"},\"owners_before\":[\"EA5PttQRPtNuKqz1A1N4eo7DjVGtmavFjkW7A8L2JDS2\"]}],\"metadata\":{\"data\":[\"123123sadfsafasd\",\"sdafasdfasdfasdf54631685468546\",\"fsADFASDF654654654654654\",\"SHIVAM\"]},\"operation\":\"TRANSFER\",\"outputs\":[{\"amount\":\"1\",\"condition\":{\"details\":{\"public_key\":\"EA5PttQRPtNuKqz1A1N4eo7DjVGtmavFjkW7A8L2JDS2\",\"type\":\"ed25519-sha-256\"},\"uri\":\"ni:///sha-256;wnt2eydBsbcx6HVGeohta8RXKhzCfkjbjYk1bqh4WJ0?fpt=ed25519-sha-256&cost=131072\"},\"public_keys\":[\"EA5PttQRPtNuKqz1A1N4eo7DjVGtmavFjkW7A8L2JDS2\"]}],\"version\":\"2.0\"}'\n"
     ]
    }
   ],
   "source": [
    "# Dynamic\n",
    "fulfilled_transfer_tx = db.transactions.fulfill(\n",
    "    prepared_transfer_tx,\n",
    "    private_keys=admin.private_key\n",
    ")"
   ]
  },
  {
   "cell_type": "code",
   "execution_count": 34,
   "metadata": {},
   "outputs": [],
   "source": [
    "# Dynamic\n",
    "transfer_tx = db.transactions.send_commit(fulfilled_transfer_tx)\n",
    "transfer_tx_id = transfer_tx[4:]\n"
   ]
  },
  {
   "cell_type": "code",
   "execution_count": 35,
   "metadata": {},
   "outputs": [
    {
     "data": {
      "text/plain": [
       "{'inputs': [{'owners_before': ['EA5PttQRPtNuKqz1A1N4eo7DjVGtmavFjkW7A8L2JDS2'],\n",
       "   'fulfills': {'transaction_id': '264b88bf9358ccd3bcdba15186d04c50f366563a46158550d9258dca5bc43e44',\n",
       "    'output_index': 0},\n",
       "   'fulfillment': 'pGSAIMN7IGAWwyAV5k5C0FlpmqzMkH9DGNF2PnWMn1T53uYzgUB1ve3mftKW1SykSYUI4cO1pLOzWu5AL2VHkgeASM9NsT2hec_e7kDxkaUUufUobd1Xw3hasMlCiWNB8H6i6ucM'}],\n",
       " 'outputs': [{'public_keys': ['EA5PttQRPtNuKqz1A1N4eo7DjVGtmavFjkW7A8L2JDS2'],\n",
       "   'condition': {'details': {'type': 'ed25519-sha-256',\n",
       "     'public_key': 'EA5PttQRPtNuKqz1A1N4eo7DjVGtmavFjkW7A8L2JDS2'},\n",
       "    'uri': 'ni:///sha-256;wnt2eydBsbcx6HVGeohta8RXKhzCfkjbjYk1bqh4WJ0?fpt=ed25519-sha-256&cost=131072'},\n",
       "   'amount': '1'}],\n",
       " 'operation': 'TRANSFER',\n",
       " 'metadata': {'data': ['123123sadfsafasd',\n",
       "   'sdafasdfasdfasdf54631685468546',\n",
       "   'fsADFASDF654654654654654',\n",
       "   'SHIVAM']},\n",
       " 'asset': {'id': '264b88bf9358ccd3bcdba15186d04c50f366563a46158550d9258dca5bc43e44'},\n",
       " 'version': '2.0',\n",
       " 'id': 'b931351b27b523fe01ef00475287e3f625355c5e46aeabd65f5fde8afacb85f1'}"
      ]
     },
     "execution_count": 35,
     "metadata": {},
     "output_type": "execute_result"
    }
   ],
   "source": [
    "transfer_tx_info = db.transactions.retrieve(transfer_tx_id)\n",
    "transfer_tx_info\n"
   ]
  },
  {
   "cell_type": "code",
   "execution_count": null,
   "metadata": {},
   "outputs": [],
   "source": []
  },
  {
   "cell_type": "code",
   "execution_count": null,
   "metadata": {},
   "outputs": [],
   "source": []
  },
  {
   "cell_type": "code",
   "execution_count": null,
   "metadata": {},
   "outputs": [],
   "source": []
  },
  {
   "cell_type": "code",
   "execution_count": 3,
   "metadata": {},
   "outputs": [],
   "source": [
    "transfer_tx_id= \"9e624e14306918a1faf292272ce03733b101eb16bb52662148dc25dc7619c43f\"\n"
   ]
  },
  {
   "cell_type": "code",
   "execution_count": 4,
   "metadata": {},
   "outputs": [
    {
     "data": {
      "text/plain": [
       "{'inputs': [{'owners_before': ['Gp3dcQddpwTo5sk48PsxpWwsi2A7aXbCFCVpkoJKLWd4'],\n",
       "   'fulfills': None,\n",
       "   'fulfillment': 'pGSAIOrsk7lMDZgOtbxU6FiTrZ_l6qQcBqSRNQTnkNAxhGb3gUAgJM_fJCY_cf_H9bGXE74QQgGYJNgv56CjOfhmctoT54csC1H-A_Tz_LZMRbIVCB2kKiBmcBUH25bFZtRINP0A'}],\n",
       " 'outputs': [{'public_keys': ['APQyo9isPTztNh87f7J1tSM2fABmN3Ub6XnE7ZCX6YFx'],\n",
       "   'condition': {'details': {'type': 'ed25519-sha-256',\n",
       "     'public_key': 'APQyo9isPTztNh87f7J1tSM2fABmN3Ub6XnE7ZCX6YFx'},\n",
       "    'uri': 'ni:///sha-256;MoaT_HCP7eDiKU23tZCiwBo3OMqYod8v5jth706Bbdg?fpt=ed25519-sha-256&cost=131072'},\n",
       "   'amount': '10'}],\n",
       " 'operation': 'CREATE',\n",
       " 'metadata': None,\n",
       " 'asset': {'data': {'nft_name': 'Monkey Dance',\n",
       "   'ipfs_file_url': 'https://www.youtube.com/watch?v=opyPkipNNhE',\n",
       "   'creator_name': 'KoKo',\n",
       "   'supply': 10,\n",
       "   'description': 'New Monkey Videos',\n",
       "   'cost': 5.0,\n",
       "   'currency': 'BTC',\n",
       "   'creator_external_link': 'https://github.com/kaustubhKVS',\n",
       "   'view': 2,\n",
       "   'tx_id': 'NULL'}},\n",
       " 'version': '2.0',\n",
       " 'id': '9e624e14306918a1faf292272ce03733b101eb16bb52662148dc25dc7619c43f'}"
      ]
     },
     "execution_count": 4,
     "metadata": {},
     "output_type": "execute_result"
    }
   ],
   "source": [
    "transfer_tx_info = db.transactions.retrieve(transfer_tx_id)\n",
    "transfer_tx_info\n"
   ]
  },
  {
   "cell_type": "code",
   "execution_count": null,
   "metadata": {},
   "outputs": [],
   "source": []
  },
  {
   "cell_type": "code",
   "execution_count": null,
   "metadata": {},
   "outputs": [],
   "source": []
  },
  {
   "cell_type": "code",
   "execution_count": null,
   "metadata": {},
   "outputs": [],
   "source": []
  },
  {
   "cell_type": "code",
   "execution_count": null,
   "metadata": {},
   "outputs": [],
   "source": []
  },
  {
   "cell_type": "code",
   "execution_count": null,
   "metadata": {},
   "outputs": [],
   "source": []
  },
  {
   "cell_type": "code",
   "execution_count": null,
   "metadata": {},
   "outputs": [],
   "source": []
  },
  {
   "cell_type": "code",
   "execution_count": null,
   "metadata": {},
   "outputs": [],
   "source": []
  },
  {
   "cell_type": "code",
   "execution_count": null,
   "metadata": {},
   "outputs": [],
   "source": []
  },
  {
   "cell_type": "code",
   "execution_count": 29,
   "metadata": {},
   "outputs": [
    {
     "name": "stdout",
     "output_type": "stream",
     "text": [
      "HASH DATA <class 'str'>, data='{\"asset\":{\"id\":\"d8d519fff3fc5cc12eb4603b2f7ca85e6311328bdf3ea0de954d61c918fd3ea5\"},\"id\":null,\"inputs\":[{\"fulfillment\":\"pGSAIEsJeuVtxTgKrnL0EeYMwP4reMiKtfzJTPGuQPuGTr_EgUAErQZGIZeH-mM_W6EFeu1JkKWE4h7_RQLpB2ZwP2jxXnfeSgHhLzGklwTKbnv0xDWkEhlr1sP7kgrLNAFWQ-oC\",\"fulfills\":{\"output_index\":0,\"transaction_id\":\"d8d519fff3fc5cc12eb4603b2f7ca85e6311328bdf3ea0de954d61c918fd3ea5\"},\"owners_before\":[\"63uxmeafqCP5T9umrBehzyK7gVuiCYR62HgXmUdDg5PZ\"]}],\"metadata\":{\"data\":\"2323\"},\"operation\":\"TRANSFER\",\"outputs\":[{\"amount\":\"10\",\"condition\":{\"details\":{\"public_key\":\"63uxmeafqCP5T9umrBehzyK7gVuiCYR62HgXmUdDg5PZ\",\"type\":\"ed25519-sha-256\"},\"uri\":\"ni:///sha-256;HxreroHLMj0S-ObK1DxzY02uWnQe3jmi62p_poQ-Iys?fpt=ed25519-sha-256&cost=131072\"},\"public_keys\":[\"63uxmeafqCP5T9umrBehzyK7gVuiCYR62HgXmUdDg5PZ\"]}],\"version\":\"2.0\"}'\n"
     ]
    }
   ],
   "source": [
    "transfer_asset = {\"id\": fulfilled_token_tx[\"id\"]}\n",
    "output_index = 0\n",
    "output = fulfilled_token_tx[\"outputs\"][output_index]\n",
    "transfer_input = {\n",
    "    \"fulfillment\": output[\"condition\"][\"details\"],\n",
    "    \"fulfills\": {\"output_index\": output_index, \"transaction_id\": transfer_asset[\"id\"]},\n",
    "    \"owners_before\": output[\"public_keys\"],\n",
    "}\n",
    "\n",
    "prepared_transfer_tx = db.transactions.prepare(\n",
    "    operation=\"TRANSFER\",\n",
    "    asset=transfer_asset,\n",
    "    inputs=transfer_input,\n",
    "    metadata={\"data\": \"2323\"},\n",
    "    recipients=[(\n",
    "                [bob.public_key],\n",
    "                10\n",
    "                )],\n",
    ")\n",
    "\n",
    "fulfilled_transfer_tx = db.transactions.fulfill(\n",
    "    prepared_transfer_tx,\n",
    "    private_keys=bob.private_key\n",
    ")"
   ]
  },
  {
   "cell_type": "code",
   "execution_count": 30,
   "metadata": {},
   "outputs": [],
   "source": [
    "transfer_tx = db.transactions.send_commit(fulfilled_transfer_tx)\n",
    "transfer_tx_id = transfer_tx[4:]\n"
   ]
  },
  {
   "cell_type": "code",
   "execution_count": 31,
   "metadata": {},
   "outputs": [
    {
     "data": {
      "text/plain": [
       "{'inputs': [{'owners_before': ['63uxmeafqCP5T9umrBehzyK7gVuiCYR62HgXmUdDg5PZ'],\n",
       "   'fulfills': {'transaction_id': 'd8d519fff3fc5cc12eb4603b2f7ca85e6311328bdf3ea0de954d61c918fd3ea5',\n",
       "    'output_index': 0},\n",
       "   'fulfillment': 'pGSAIEsJeuVtxTgKrnL0EeYMwP4reMiKtfzJTPGuQPuGTr_EgUAErQZGIZeH-mM_W6EFeu1JkKWE4h7_RQLpB2ZwP2jxXnfeSgHhLzGklwTKbnv0xDWkEhlr1sP7kgrLNAFWQ-oC'}],\n",
       " 'outputs': [{'public_keys': ['63uxmeafqCP5T9umrBehzyK7gVuiCYR62HgXmUdDg5PZ'],\n",
       "   'condition': {'details': {'type': 'ed25519-sha-256',\n",
       "     'public_key': '63uxmeafqCP5T9umrBehzyK7gVuiCYR62HgXmUdDg5PZ'},\n",
       "    'uri': 'ni:///sha-256;HxreroHLMj0S-ObK1DxzY02uWnQe3jmi62p_poQ-Iys?fpt=ed25519-sha-256&cost=131072'},\n",
       "   'amount': '10'}],\n",
       " 'operation': 'TRANSFER',\n",
       " 'metadata': {'data': '2323'},\n",
       " 'asset': {'id': 'd8d519fff3fc5cc12eb4603b2f7ca85e6311328bdf3ea0de954d61c918fd3ea5'},\n",
       " 'version': '2.0',\n",
       " 'id': '3dd9003581695045775a9cc8701ec5ba718249d86d4aa45e2f7346fdd4305798'}"
      ]
     },
     "execution_count": 31,
     "metadata": {},
     "output_type": "execute_result"
    }
   ],
   "source": [
    "transfer_tx_info = db.transactions.retrieve(transfer_tx_id)\n",
    "transfer_tx_info\n"
   ]
  },
  {
   "cell_type": "code",
   "execution_count": null,
   "metadata": {},
   "outputs": [],
   "source": []
  },
  {
   "cell_type": "code",
   "execution_count": 1,
   "metadata": {},
   "outputs": [],
   "source": [
    "tx = {\n",
    "    \"nft_name\": \"Monkey Dance\",\n",
    "    \"ipfs_file_url\": \"https://www.youtube.com/watch?v=opyPkipNNhE\",\n",
    "    \"creator_name\": \"KoKo\",\n",
    "    \"creator_external_link\": \"https://github.com/kaustubhKVS\",\n",
    "    \"supply\": 10,\n",
    "    \"description\": \"New Monkey Videos\",\n",
    "    \"cost\": 5,\n",
    "    \"currency\": \"BTC\",\n",
    "    \"view\": 2,\n",
    "    \"tx_id\": \"NULL\"\n",
    "}\n"
   ]
  },
  {
   "cell_type": "code",
   "execution_count": 2,
   "metadata": {},
   "outputs": [],
   "source": [
    "tx[\"tx_id\"] = \"adsdasdasdasdasdasdasdasdasdasdasdasd\""
   ]
  },
  {
   "cell_type": "code",
   "execution_count": 3,
   "metadata": {},
   "outputs": [
    {
     "data": {
      "text/plain": [
       "{'nft_name': 'Monkey Dance',\n",
       " 'ipfs_file_url': 'https://www.youtube.com/watch?v=opyPkipNNhE',\n",
       " 'creator_name': 'KoKo',\n",
       " 'creator_external_link': 'https://github.com/kaustubhKVS',\n",
       " 'supply': 10,\n",
       " 'description': 'New Monkey Videos',\n",
       " 'cost': 5,\n",
       " 'currency': 'BTC',\n",
       " 'view': 2,\n",
       " 'tx_id': 'adsdasdasdasdasdasdasdasdasdasdasdasd'}"
      ]
     },
     "execution_count": 3,
     "metadata": {},
     "output_type": "execute_result"
    }
   ],
   "source": [
    "tx"
   ]
  },
  {
   "cell_type": "code",
   "execution_count": null,
   "metadata": {},
   "outputs": [],
   "source": []
  }
 ],
 "metadata": {
  "kernelspec": {
   "display_name": "nftmarketplace",
   "language": "python",
   "name": "python3"
  },
  "language_info": {
   "codemirror_mode": {
    "name": "ipython",
    "version": 3
   },
   "file_extension": ".py",
   "mimetype": "text/x-python",
   "name": "python",
   "nbconvert_exporter": "python",
   "pygments_lexer": "ipython3",
   "version": "3.10.9"
  },
  "orig_nbformat": 4,
  "vscode": {
   "interpreter": {
    "hash": "4e2f8eed63b1a0f8f2814d2bbe8b025f27967f41c4526b247e01325ba0e34255"
   }
  }
 },
 "nbformat": 4,
 "nbformat_minor": 2
}
