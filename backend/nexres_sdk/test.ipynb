{
 "cells": [
  {
   "cell_type": "code",
   "execution_count": 1,
   "id": "7e9be79f",
   "metadata": {
    "scrolled": false
   },
   "outputs": [],
   "source": [
    "from resdb_driver import Resdb\n",
    "import fastapi\n",
    "import re\n"
   ]
  },
  {
   "cell_type": "code",
   "execution_count": 2,
   "id": "fcbea61c",
   "metadata": {},
   "outputs": [],
   "source": [
    "db_root_url = \"http://0.0.0.0:18000\"\n",
    "# db_root_url = \"http://0.0.0.0:18000\""
   ]
  },
  {
   "cell_type": "code",
   "execution_count": 3,
   "id": "179ee5f0",
   "metadata": {},
   "outputs": [],
   "source": [
    "db = Resdb(db_root_url)"
   ]
  },
  {
   "cell_type": "code",
   "execution_count": 4,
   "id": "773418c8",
   "metadata": {},
   "outputs": [],
   "source": [
    "from resdb_driver.crypto import generate_keypair\n",
    "\n",
    "alice, bob = generate_keypair(), generate_keypair()"
   ]
  },
  {
   "cell_type": "code",
   "execution_count": 5,
   "id": "81c47bfb",
   "metadata": {},
   "outputs": [],
   "source": [
    "# create a digital asset for Alice\n",
    "game_boy_token = {\n",
    "    \"data\": {\n",
    "        \"token_for\": {\"game_boy\": {\"serial_number\": \"LR35902\"}},\n",
    "        \"description\": \"Time share token. Each token equals one hour of usage.\",\n",
    "    },\n",
    "}"
   ]
  },
  {
   "cell_type": "code",
   "execution_count": 6,
   "id": "1f8abf98",
   "metadata": {},
   "outputs": [],
   "source": [
    "# prepare the transaction with the digital asset and issue 10 tokens for Bob\n",
    "prepared_token_tx = db.transactions.prepare(\n",
    "    operation=\"CREATE\",\n",
    "    signers=alice.public_key,\n",
    "    recipients=[([bob.public_key], 10)],\n",
    "    asset=game_boy_token,\n",
    ")"
   ]
  },
  {
   "cell_type": "code",
   "execution_count": 7,
   "id": "37fc76fb",
   "metadata": {},
   "outputs": [
    {
     "name": "stdout",
     "output_type": "stream",
     "text": [
      "HASH DATA <class 'str'>, data='{\"asset\":{\"data\":{\"description\":\"Time share token. Each token equals one hour of usage.\",\"token_for\":{\"game_boy\":{\"serial_number\":\"LR35902\"}}}},\"id\":null,\"inputs\":[{\"fulfillment\":\"pGSAIFCKXofWXcEbD_5mcj6MmtbGKNiILoLh7XMTK_Bl26tCgUAupcAczfvK57260A1EgWxOuY6tyL8nHsNbwwKMOGrcq32DwOmvEomx42Ld1_xZtedeQom5fxaPqgkIFS86pH4G\",\"fulfills\":null,\"owners_before\":[\"6RPzSMecw5imVA8oT5FY7qrzjmFApMT8kNar1nxN3oCD\"]}],\"metadata\":null,\"operation\":\"CREATE\",\"outputs\":[{\"amount\":\"10\",\"condition\":{\"details\":{\"public_key\":\"2KxjDZWpjzYyaDJdoFfq1QykD8mcaYnWaEJKeax3J2mb\",\"type\":\"ed25519-sha-256\"},\"uri\":\"ni:///sha-256;U-dP_P8LejtoDS353-Pl9S2zaoPGLmZoq6vsPazjzqk?fpt=ed25519-sha-256&cost=131072\"},\"public_keys\":[\"2KxjDZWpjzYyaDJdoFfq1QykD8mcaYnWaEJKeax3J2mb\"]}],\"version\":\"2.0\"}'\n"
     ]
    }
   ],
   "source": [
    "# fulfill the tnx\n",
    "fulfilled_token_tx = db.transactions.fulfill(prepared_token_tx, private_keys=alice.private_key)"
   ]
  },
  {
   "cell_type": "code",
   "execution_count": 9,
   "id": "89fa8de1",
   "metadata": {},
   "outputs": [
    {
     "data": {
      "text/plain": [
       "'id: bd94f96b67a764823d5fd61bafd336dc87ccfc6175b36b3054d0430559e73392'"
      ]
     },
     "execution_count": 9,
     "metadata": {},
     "output_type": "execute_result"
    }
   ],
   "source": [
    "db.transactions.send_commit(fulfilled_token_tx)"
   ]
  },
  {
   "cell_type": "code",
   "execution_count": 10,
   "id": "49f27adf",
   "metadata": {},
   "outputs": [
    {
     "name": "stdout",
     "output_type": "stream",
     "text": [
      "HASH DATA <class 'str'>, data='{\"asset\":{\"data\":{\"description\":\"Time share token. Each token equals one hour of usage.\",\"token_for\":{\"game_boy\":{\"serial_number\":\"LR35902\"}}}},\"id\":null,\"inputs\":[{\"fulfillment\":\"pGSAIOyk9emdS7ZiXtqC9UaPFU7XenrKg6VS66FJCoRLYnYCgUBfHtImWAVxLbEavpJNRj4pE81f6B_Vy-BmJML1O8VYSpKrI5cVV1cZqQMrWjlXofYum8FZIPHzqTDstAsjyfoG\",\"fulfills\":null,\"owners_before\":[\"Gvm7JXfRpLH8DXJfbMHhnDFJx3V5T1xJxVQj4jbRCFaR\"]}],\"metadata\":null,\"operation\":\"CREATE\",\"outputs\":[{\"amount\":\"10\",\"condition\":{\"details\":{\"public_key\":\"2ofT86tdyAR3V7c3Q61thPcQ5i7v7ZJMGDUWe6difcuc\",\"type\":\"ed25519-sha-256\"},\"uri\":\"ni:///sha-256;O-jNXGcD8x_xG4j5Vta_gc1N-v_1mOqIcRbrJkS_9gw?fpt=ed25519-sha-256&cost=131072\"},\"public_keys\":[\"2ofT86tdyAR3V7c3Q61thPcQ5i7v7ZJMGDUWe6difcuc\"]}],\"version\":\"2.0\"}'\n"
     ]
    },
    {
     "ename": "TimeoutError",
     "evalue": "[ConnectionError(MaxRetryError(\"HTTPConnectionPool(host='120.0.0.1', port=8000): Max retries exceeded with url: /v1/transactions/commit (Caused by NewConnectionError('<urllib3.connection.HTTPConnection object at 0x7f22ea22d030>: Failed to establish a new connection: [Errno 111] Connection refused'))\")), ConnectTimeout(MaxRetryError(\"HTTPConnectionPool(host='120.0.0.1', port=8000): Max retries exceeded with url: /v1/transactions/commit (Caused by ConnectTimeoutError(<urllib3.connection.HTTPConnection object at 0x7f22ea22c0d0>, 'Connection to 120.0.0.1 timed out. (connect timeout=3.8142692307891846)'))\"))]",
     "output_type": "error",
     "traceback": [
      "\u001b[0;31m---------------------------------------------------------------------------\u001b[0m",
      "\u001b[0;31mTimeoutError\u001b[0m                              Traceback (most recent call last)",
      "Cell \u001b[0;32mIn[10], line 28\u001b[0m\n\u001b[1;32m     25\u001b[0m \u001b[39m# fulfill the tnx\u001b[39;00m\n\u001b[1;32m     26\u001b[0m fulfilled_token_tx \u001b[39m=\u001b[39m db\u001b[39m.\u001b[39mtransactions\u001b[39m.\u001b[39mfulfill(prepared_token_tx, private_keys\u001b[39m=\u001b[39malice\u001b[39m.\u001b[39mprivate_key)\n\u001b[0;32m---> 28\u001b[0m db\u001b[39m.\u001b[39;49mtransactions\u001b[39m.\u001b[39;49msend_commit(fulfilled_token_tx)\n",
      "File \u001b[0;32m~/Desktop/expolab/nexres_nft_market/backend/nexres_sdk/resdb_driver/driver.py:395\u001b[0m, in \u001b[0;36mTransactionsEndpoint.send_commit\u001b[0;34m(self, transaction, headers)\u001b[0m\n\u001b[1;32m    388\u001b[0m \u001b[39m# return self.transport.forward_request(\u001b[39;00m\n\u001b[1;32m    389\u001b[0m \u001b[39m#     method='POST',\u001b[39;00m\n\u001b[1;32m    390\u001b[0m \u001b[39m#     path=self.path,\u001b[39;00m\n\u001b[1;32m    391\u001b[0m \u001b[39m#     json=transaction,\u001b[39;00m\n\u001b[1;32m    392\u001b[0m \u001b[39m#     params={'mode': 'commit'},\u001b[39;00m\n\u001b[1;32m    393\u001b[0m \u001b[39m#     headers=headers)\u001b[39;00m\n\u001b[1;32m    394\u001b[0m path \u001b[39m=\u001b[39m \u001b[39mself\u001b[39m\u001b[39m.\u001b[39mpath \u001b[39m+\u001b[39m \u001b[39m\"\u001b[39m\u001b[39mcommit\u001b[39m\u001b[39m\"\u001b[39m\n\u001b[0;32m--> 395\u001b[0m \u001b[39mreturn\u001b[39;00m \u001b[39mself\u001b[39;49m\u001b[39m.\u001b[39;49mtransport\u001b[39m.\u001b[39;49mforward_request(\n\u001b[1;32m    396\u001b[0m     method\u001b[39m=\u001b[39;49m\u001b[39m\"\u001b[39;49m\u001b[39mPOST\u001b[39;49m\u001b[39m\"\u001b[39;49m, path\u001b[39m=\u001b[39;49mpath, json\u001b[39m=\u001b[39;49mtransaction, headers\u001b[39m=\u001b[39;49mheaders\n\u001b[1;32m    397\u001b[0m )\n",
      "File \u001b[0;32m~/Desktop/expolab/nexres_nft_market/backend/nexres_sdk/resdb_driver/transport.py:89\u001b[0m, in \u001b[0;36mTransport.forward_request\u001b[0;34m(self, method, path, json, params, headers)\u001b[0m\n\u001b[1;32m     86\u001b[0m         \u001b[39mif\u001b[39;00m timeout \u001b[39mis\u001b[39;00m \u001b[39mnot\u001b[39;00m \u001b[39mNone\u001b[39;00m:\n\u001b[1;32m     87\u001b[0m             timeout \u001b[39m-\u001b[39m\u001b[39m=\u001b[39m elapsed\n\u001b[0;32m---> 89\u001b[0m \u001b[39mraise\u001b[39;00m \u001b[39mTimeoutError\u001b[39;00m(error_trace)\n",
      "\u001b[0;31mTimeoutError\u001b[0m: [ConnectionError(MaxRetryError(\"HTTPConnectionPool(host='120.0.0.1', port=8000): Max retries exceeded with url: /v1/transactions/commit (Caused by NewConnectionError('<urllib3.connection.HTTPConnection object at 0x7f22ea22d030>: Failed to establish a new connection: [Errno 111] Connection refused'))\")), ConnectTimeout(MaxRetryError(\"HTTPConnectionPool(host='120.0.0.1', port=8000): Max retries exceeded with url: /v1/transactions/commit (Caused by ConnectTimeoutError(<urllib3.connection.HTTPConnection object at 0x7f22ea22c0d0>, 'Connection to 120.0.0.1 timed out. (connect timeout=3.8142692307891846)'))\"))]"
     ]
    }
   ],
   "source": [
    "from resdb_driver import Resdb\n",
    "db_root_url = \"120.0.0.1:8000\"\n",
    "db = Resdb(db_root_url)\n",
    "\n",
    "from resdb_driver.crypto import generate_keypair\n",
    "\n",
    "alice, bob = generate_keypair(), generate_keypair()\n",
    "\n",
    "# create a digital asset for Alice\n",
    "game_boy_token = {\n",
    "    \"data\": {\n",
    "        \"token_for\": {\"game_boy\": {\"serial_number\": \"LR35902\"}},\n",
    "        \"description\": \"Time share token. Each token equals one hour of usage.\",\n",
    "    },\n",
    "}\n",
    "\n",
    "# prepare the transaction with the digital asset and issue 10 tokens for Bob\n",
    "prepared_token_tx = db.transactions.prepare(\n",
    "    operation=\"CREATE\",\n",
    "    signers=alice.public_key,\n",
    "    recipients=[([bob.public_key], 10)],\n",
    "    asset=game_boy_token,\n",
    ")\n",
    "\n",
    "# fulfill the tnx\n",
    "fulfilled_token_tx = db.transactions.fulfill(prepared_token_tx, private_keys=alice.private_key)\n",
    "\n",
    "db.transactions.send_commit(fulfilled_token_tx)"
   ]
  },
  {
   "cell_type": "code",
   "execution_count": 3,
   "id": "2ed804d4",
   "metadata": {},
   "outputs": [
    {
     "name": "stdout",
     "output_type": "stream",
     "text": [
      "HASH DATA <class 'str'>, data='{\"asset\":{\"data\":{\"description\":\"Time share token. Each token equals one hour of usage.\",\"token_for\":{\"game_boy\":{\"serial_number\":\"LR35902\"}}}},\"id\":null,\"inputs\":[{\"fulfillment\":\"pGSAIGZF4OEWtsQksuD-ll_YbSyho8J0hXWugng1hRDf8PgmgUDXmEOdqbCb-Jf0Qyzlc9HddLmeaTuKIR_GM-q3LTF6N6wQnoVIzO2d8aXXeisCnvpOP2w2GcWk6lRyyHEPVK0N\",\"fulfills\":null,\"owners_before\":[\"7tEPPYrTGAqxDuzusAhmgiKrWZvCJVkrgFERkGm5vCUu\"]}],\"metadata\":null,\"operation\":\"CREATE\",\"outputs\":[{\"amount\":\"10\",\"condition\":{\"details\":{\"public_key\":\"13QdGDB712FPsQnK6Cz9P2irp3BjxMV2bbmBQzFHTDhf\",\"type\":\"ed25519-sha-256\"},\"uri\":\"ni:///sha-256;TVpamUa6nkNHdiOjohUgk9OMv5fUuBGg5exmyn9oOfg?fpt=ed25519-sha-256&cost=131072\"},\"public_keys\":[\"13QdGDB712FPsQnK6Cz9P2irp3BjxMV2bbmBQzFHTDhf\"]}],\"version\":\"2.0\"}'\n"
     ]
    },
    {
     "data": {
      "text/plain": [
       "'id: e1de2336526ee01df5b47ef17aeb4eff9201429c77dcacee84b58ca1467c5397'"
      ]
     },
     "execution_count": 3,
     "metadata": {},
     "output_type": "execute_result"
    }
   ],
   "source": [
    "from resdb_driver import Resdb\n",
    "db_root_url = \"http://0.0.0.0:18000\"\n",
    "db = Resdb(db_root_url)\n",
    "\n",
    "from resdb_driver.crypto import generate_keypair\n",
    "\n",
    "alice, bob = generate_keypair(), generate_keypair()\n",
    "\n",
    "# create a digital asset for Alice\n",
    "game_boy_token = {\n",
    "    \"data\": {\n",
    "        \"token_for\": {\"game_boy\": {\"serial_number\": \"LR35902\"}},\n",
    "        \"description\": \"Time share token. Each token equals one hour of usage.\",\n",
    "    },\n",
    "}\n",
    "\n",
    "# prepare the transaction with the digital asset and issue 10 tokens for Bob\n",
    "prepared_token_tx = db.transactions.prepare(\n",
    "    operation=\"CREATE\",\n",
    "    signers=alice.public_key,\n",
    "    recipients=[([bob.public_key], 10)],\n",
    "    asset=game_boy_token,\n",
    ")\n",
    "\n",
    "# fulfill the tnx\n",
    "fulfilled_token_tx = db.transactions.fulfill(prepared_token_tx, private_keys=alice.private_key)\n",
    "\n",
    "db.transactions.send_commit(fulfilled_token_tx)"
   ]
  },
  {
   "cell_type": "code",
   "execution_count": 9,
   "id": "839fb5cd",
   "metadata": {},
   "outputs": [],
   "source": [
    "from resdb_driver import Resdb\n",
    "db_root_url = \"localhost:18000\"\n",
    "db = Resdb(db_root_url)\n",
    "\n",
    "from resdb_driver.crypto import generate_keypair"
   ]
  },
  {
   "cell_type": "code",
   "execution_count": 10,
   "id": "89a7fc07",
   "metadata": {},
   "outputs": [],
   "source": [
    "alice, bob = generate_keypair(), generate_keypair()"
   ]
  },
  {
   "cell_type": "code",
   "execution_count": 12,
   "id": "2124db12",
   "metadata": {},
   "outputs": [
    {
     "data": {
      "text/plain": [
       "CryptoKeypair(private_key='4mUboQvpPLwKu6jy1gJWGSdX2UnKBSDm9eFQFt3SbbrR', public_key='63FVZHKSiv6wQA6dJmUaf7epm2tffoGSre7ZcqEfTs9u')"
      ]
     },
     "execution_count": 12,
     "metadata": {},
     "output_type": "execute_result"
    }
   ],
   "source": [
    "alice"
   ]
  },
  {
   "cell_type": "code",
   "execution_count": 13,
   "id": "06890dc5",
   "metadata": {},
   "outputs": [
    {
     "data": {
      "text/plain": [
       "CryptoKeypair(private_key='FfkJDNR8cHjpEnCQD9UteyH3qgzUUedRUmuXL5HtK9yd', public_key='ResC1TiWWd8GK7773SczXC6vPypp2jy4vPuSinhbK2E')"
      ]
     },
     "execution_count": 13,
     "metadata": {},
     "output_type": "execute_result"
    }
   ],
   "source": [
    "bob"
   ]
  },
  {
   "cell_type": "code",
   "execution_count": 14,
   "id": "f5b7c4f2",
   "metadata": {},
   "outputs": [
    {
     "data": {
      "text/plain": [
       "'4mUboQvpPLwKu6jy1gJWGSdX2UnKBSDm9eFQFt3SbbrR'"
      ]
     },
     "execution_count": 14,
     "metadata": {},
     "output_type": "execute_result"
    }
   ],
   "source": [
    "alice.private_key"
   ]
  },
  {
   "cell_type": "code",
   "execution_count": 11,
   "id": "32e91d16",
   "metadata": {},
   "outputs": [
    {
     "name": "stdout",
     "output_type": "stream",
     "text": [
      "HASH DATA <class 'str'>, data='{\"asset\":{\"data\":{\"description\":\"Time share token. Each token equals one hour of usage.\",\"token_for\":{\"game_boy\":{\"serial_number\":\"LR35902\"}}}},\"id\":null,\"inputs\":[{\"fulfillment\":\"pGSAIErd-5lIWwLjH94AUWysqMEBBNymwC2PjSGr3TDsUagcgUCoEShbEnEVn0rua2zaUS5i6VUnITmEGx721VSu5VvVigCVmVDD1vgytY3U9BipMdsXPmw3OBWjybgfyVk95VoC\",\"fulfills\":null,\"owners_before\":[\"63FVZHKSiv6wQA6dJmUaf7epm2tffoGSre7ZcqEfTs9u\"]}],\"metadata\":null,\"operation\":\"CREATE\",\"outputs\":[{\"amount\":\"10\",\"condition\":{\"details\":{\"public_key\":\"ResC1TiWWd8GK7773SczXC6vPypp2jy4vPuSinhbK2E\",\"type\":\"ed25519-sha-256\"},\"uri\":\"ni:///sha-256;jaglWTWLQR4TkY0mu5qqeBtebN0O1b4IvI1cNrtvi-g?fpt=ed25519-sha-256&cost=131072\"},\"public_keys\":[\"ResC1TiWWd8GK7773SczXC6vPypp2jy4vPuSinhbK2E\"]}],\"version\":\"2.0\"}'\n"
     ]
    },
    {
     "data": {
      "text/plain": [
       "'id: 22df3f11de4c94d91ef58d65af6b5f90fcc6340b23e9f29382ee57f68e049be9'"
      ]
     },
     "execution_count": 11,
     "metadata": {},
     "output_type": "execute_result"
    }
   ],
   "source": [
    "# create a digital asset for Alice\n",
    "game_boy_token = {\n",
    "    \"data\": {\n",
    "        \"token_for\": {\"game_boy\": {\"serial_number\": \"LR35902\"}},\n",
    "        \"description\": \"Time share token. Each token equals one hour of usage.\",\n",
    "    },\n",
    "}\n",
    "\n",
    "# prepare the transaction with the digital asset and issue 10 tokens for Bob\n",
    "prepared_token_tx = db.transactions.prepare(\n",
    "    operation=\"CREATE\",\n",
    "    signers=alice.public_key,\n",
    "    recipients=[([bob.public_key], 10)],\n",
    "    asset=game_boy_token,\n",
    ")\n",
    "\n",
    "# fulfill the tnx\n",
    "fulfilled_token_tx = db.transactions.fulfill(prepared_token_tx, private_keys=alice.private_key)\n",
    "\n",
    "db.transactions.send_commit(fulfilled_token_tx)"
   ]
  },
  {
   "cell_type": "code",
   "execution_count": 1,
   "id": "d938d3fb",
   "metadata": {},
   "outputs": [
    {
     "name": "stdout",
     "output_type": "stream",
     "text": [
      "HASH DATA <class 'str'>, data='{\"asset\":{\"data\":{\"description\":\"Love share token. Each token represents infinite Love.\",\"token_for\":{\"love_token\":{\"serial_number\":\"HK143\"}}}},\"id\":null,\"inputs\":[{\"fulfillment\":\"pGSAIClPuDD2Kj-GvIUNpBdsJAXn0jvw4iJxmZpGhFtiQ90igUD_WSNDxewjKHj79mYh-zqQPtM1suDFc279v_CEn836NBzO6rebCCs9kfr4aaozRIYaxJzLsZhpRw2J_z-sl8wH\",\"fulfills\":null,\"owners_before\":[\"3nGDks4zr3rC6zMFTyxyjmJ3yL2KhxW6zpgSLGd3yct9\"]}],\"metadata\":null,\"operation\":\"CREATE\",\"outputs\":[{\"amount\":\"10\",\"condition\":{\"details\":{\"public_key\":\"7zXXV6XRSjCySpdKnbEE6spY9jPxrhtWiA6ThvWATYUE\",\"type\":\"ed25519-sha-256\"},\"uri\":\"ni:///sha-256;_2T9Zb71rijHUEp26pGUkjIRFlnQA_-N4yjaeIcxsK0?fpt=ed25519-sha-256&cost=131072\"},\"public_keys\":[\"7zXXV6XRSjCySpdKnbEE6spY9jPxrhtWiA6ThvWATYUE\"]}],\"version\":\"2.0\"}'\n"
     ]
    }
   ],
   "source": [
    "from resdb_driver import Resdb\n",
    "\n",
    "db_root_url = \"localhost:18000\"\n",
    "\n",
    "db = Resdb(db_root_url)\n",
    "\n",
    "from resdb_driver.crypto import generate_keypair\n",
    "\n",
    "kaustubh, honey = generate_keypair(), generate_keypair()\n",
    "\n",
    "# create a digital asset for Alice\n",
    "love_token = {\n",
    "    \"data\": {\n",
    "        \"token_for\": {\"love_token\": {\"serial_number\": \"HK143\"}},\n",
    "        \"description\": \"Love share token. Each token represents infinite Love.\",\n",
    "    },\n",
    "}\n",
    "\n",
    "# prepare the transaction with the digital asset and issue 10 tokens for Bob\n",
    "prepared_token_tx = db.transactions.prepare(\n",
    "    operation=\"CREATE\",\n",
    "    signers=kaustubh.public_key,\n",
    "    recipients=[([honey.public_key], 10)],\n",
    "    asset=love_token,\n",
    ")\n",
    "\n",
    "# fulfill the tnx\n",
    "fulfilled_token_tx = db.transactions.fulfill(prepared_token_tx, private_keys=kaustubh.private_key)\n",
    "\n",
    "# db.transactions.send_commit(fulfilled_token_tx)"
   ]
  },
  {
   "cell_type": "code",
   "execution_count": 2,
   "id": "42a1436e",
   "metadata": {},
   "outputs": [
    {
     "data": {
      "text/plain": [
       "{'inputs': [{'owners_before': ['BGYjVh3np9yeH96oW8W3SciUFJ8ibZc5ZYTFr9WXkR7R'],\n",
       "   'fulfills': None,\n",
       "   'fulfillment': 'pGSAIJiQdi4M82hZXFU8vk4dx_de8rzbf_0JvAvxTxRnuJ8MgUCHfLcKdEGkD8Ok2quSHLkIjA5yu0u1t9acNwUvM50p3BJAa3O3AdaJCr7r2k2i4qenDGcgYKLq7nL9OieSP1sN'}],\n",
       " 'outputs': [{'public_keys': ['4Tts8gB1YdFv8UCiBLEpcXmVSpbAg6hrjNSJt1DBK4yM'],\n",
       "   'condition': {'details': {'type': 'ed25519-sha-256',\n",
       "     'public_key': '4Tts8gB1YdFv8UCiBLEpcXmVSpbAg6hrjNSJt1DBK4yM'},\n",
       "    'uri': 'ni:///sha-256;COl0r1_kpB8OCwp-MpbBQnz-JXTgqT_wV53eVQFPpTc?fpt=ed25519-sha-256&cost=131072'},\n",
       "   'amount': '10'}],\n",
       " 'operation': 'CREATE',\n",
       " 'metadata': None,\n",
       " 'asset': {'data': {'token_for': {'love_token': {'serial_number': 'HK143'}},\n",
       "   'description': 'Love share token. Each token represents infinite Love.'}},\n",
       " 'version': '2.0',\n",
       " 'id': 'f8414fba59573bb62ffd3029a09c82e4a978705b6891a4146e128b932097cf23'}"
      ]
     },
     "execution_count": 2,
     "metadata": {},
     "output_type": "execute_result"
    }
   ],
   "source": [
    "fulfilled_token_tx"
   ]
  },
  {
   "cell_type": "code",
   "execution_count": 3,
   "id": "0328fe76",
   "metadata": {},
   "outputs": [],
   "source": [
    "tx_reciept = db.transactions.send_commit(fulfilled_token_tx)"
   ]
  },
  {
   "cell_type": "code",
   "execution_count": 4,
   "id": "4c9ca771",
   "metadata": {},
   "outputs": [
    {
     "data": {
      "text/plain": [
       "str"
      ]
     },
     "execution_count": 4,
     "metadata": {},
     "output_type": "execute_result"
    }
   ],
   "source": [
    "type(tx_reciept)"
   ]
  },
  {
   "cell_type": "code",
   "execution_count": 5,
   "id": "b4891b53",
   "metadata": {},
   "outputs": [
    {
     "data": {
      "text/plain": [
       "'id: f8414fba59573bb62ffd3029a09c82e4a978705b6891a4146e128b932097cf23'"
      ]
     },
     "execution_count": 5,
     "metadata": {},
     "output_type": "execute_result"
    }
   ],
   "source": [
    "tx_reciept"
   ]
  },
  {
   "cell_type": "code",
   "execution_count": 6,
   "id": "15e42d0c",
   "metadata": {},
   "outputs": [],
   "source": [
    "str_txr_id = 'e88d76138b65d3a6cceb2f855cb9d4beafde04aefe83bfdcb0e5ef3ff7b92d77'"
   ]
  },
  {
   "cell_type": "code",
   "execution_count": 7,
   "id": "399cb1b7",
   "metadata": {},
   "outputs": [],
   "source": [
    "tx_info = db.transactions.retrieve(str_txr_id)"
   ]
  },
  {
   "cell_type": "code",
   "execution_count": 8,
   "id": "ea35cf2f",
   "metadata": {},
   "outputs": [
    {
     "data": {
      "text/plain": [
       "''"
      ]
     },
     "execution_count": 8,
     "metadata": {},
     "output_type": "execute_result"
    }
   ],
   "source": [
    "tx_info"
   ]
  },
  {
   "cell_type": "code",
   "execution_count": 67,
   "id": "70a4a5c5",
   "metadata": {},
   "outputs": [
    {
     "ename": "NotFoundError",
     "evalue": "(404, '404 Not Found\\r\\n', None, 'http://localhost:18000/v1/transactions/')",
     "output_type": "error",
     "traceback": [
      "\u001b[0;31m---------------------------------------------------------------------------\u001b[0m",
      "\u001b[0;31mNotFoundError\u001b[0m                             Traceback (most recent call last)",
      "Cell \u001b[0;32mIn[67], line 1\u001b[0m\n\u001b[0;32m----> 1\u001b[0m asset_info \u001b[39m=\u001b[39m db\u001b[39m.\u001b[39;49mtransactions\u001b[39m.\u001b[39;49mget(asset_id\u001b[39m=\u001b[39;49m\u001b[39m\"\u001b[39;49m\u001b[39m17dc87182842fbdb87eb98b36789ae8a7da3353441e1c63be600aa3e9c96b1a5\u001b[39;49m\u001b[39m\"\u001b[39;49m, operation\u001b[39m=\u001b[39;49m\u001b[39m'\u001b[39;49m\u001b[39mCREATE\u001b[39;49m\u001b[39m'\u001b[39;49m)\n",
      "File \u001b[0;32m~/Desktop/nexres/nexres_nft_market/nexres_sdk/resdb_driver/driver.py:329\u001b[0m, in \u001b[0;36mTransactionsEndpoint.get\u001b[0;34m(self, asset_id, operation, headers)\u001b[0m\n\u001b[1;32m    294\u001b[0m \u001b[39mdef\u001b[39;00m \u001b[39mget\u001b[39m(\u001b[39mself\u001b[39m, \u001b[39m*\u001b[39m, asset_id, operation\u001b[39m=\u001b[39m\u001b[39mNone\u001b[39;00m, headers\u001b[39m=\u001b[39m\u001b[39mNone\u001b[39;00m):\n\u001b[1;32m    295\u001b[0m     \u001b[39m\"\"\"Given an asset id, get its list of transactions (and\u001b[39;00m\n\u001b[1;32m    296\u001b[0m \u001b[39m    optionally filter for only ``'CREATE'`` or ``'TRANSFER'``\u001b[39;00m\n\u001b[1;32m    297\u001b[0m \u001b[39m    transactions).\u001b[39;00m\n\u001b[0;32m   (...)\u001b[0m\n\u001b[1;32m    327\u001b[0m \n\u001b[1;32m    328\u001b[0m \u001b[39m    \"\"\"\u001b[39;00m\n\u001b[0;32m--> 329\u001b[0m     \u001b[39mreturn\u001b[39;00m \u001b[39mself\u001b[39;49m\u001b[39m.\u001b[39;49mtransport\u001b[39m.\u001b[39;49mforward_request(\n\u001b[1;32m    330\u001b[0m         method\u001b[39m=\u001b[39;49m\u001b[39m\"\u001b[39;49m\u001b[39mGET\u001b[39;49m\u001b[39m\"\u001b[39;49m,\n\u001b[1;32m    331\u001b[0m         path\u001b[39m=\u001b[39;49m\u001b[39mself\u001b[39;49m\u001b[39m.\u001b[39;49mpath,\n\u001b[1;32m    332\u001b[0m         params\u001b[39m=\u001b[39;49m{\u001b[39m\"\u001b[39;49m\u001b[39masset_id\u001b[39;49m\u001b[39m\"\u001b[39;49m: asset_id, \u001b[39m\"\u001b[39;49m\u001b[39moperation\u001b[39;49m\u001b[39m\"\u001b[39;49m: operation},\n\u001b[1;32m    333\u001b[0m         headers\u001b[39m=\u001b[39;49mheaders,\n\u001b[1;32m    334\u001b[0m     )\n",
      "File \u001b[0;32m~/Desktop/nexres/nexres_nft_market/nexres_sdk/resdb_driver/transport.py:70\u001b[0m, in \u001b[0;36mTransport.forward_request\u001b[0;34m(self, method, path, json, params, headers)\u001b[0m\n\u001b[1;32m     68\u001b[0m start \u001b[39m=\u001b[39m time()\n\u001b[1;32m     69\u001b[0m \u001b[39mtry\u001b[39;00m:\n\u001b[0;32m---> 70\u001b[0m     response \u001b[39m=\u001b[39m connection\u001b[39m.\u001b[39;49mrequest(\n\u001b[1;32m     71\u001b[0m         method\u001b[39m=\u001b[39;49mmethod,\n\u001b[1;32m     72\u001b[0m         path\u001b[39m=\u001b[39;49mpath,\n\u001b[1;32m     73\u001b[0m         params\u001b[39m=\u001b[39;49mparams,\n\u001b[1;32m     74\u001b[0m         json\u001b[39m=\u001b[39;49mjson,\n\u001b[1;32m     75\u001b[0m         headers\u001b[39m=\u001b[39;49mheaders,\n\u001b[1;32m     76\u001b[0m         timeout\u001b[39m=\u001b[39;49mtimeout,\n\u001b[1;32m     77\u001b[0m         backoff_cap\u001b[39m=\u001b[39;49mbackoff_cap,\n\u001b[1;32m     78\u001b[0m     )\n\u001b[1;32m     79\u001b[0m \u001b[39mexcept\u001b[39;00m \u001b[39mConnectionError\u001b[39;00m \u001b[39mas\u001b[39;00m err:\n\u001b[1;32m     80\u001b[0m     error_trace\u001b[39m.\u001b[39mappend(err)\n",
      "File \u001b[0;32m~/Desktop/nexres/nexres_nft_market/nexres_sdk/resdb_driver/connection.py:89\u001b[0m, in \u001b[0;36mConnection.request\u001b[0;34m(self, method, path, json, params, headers, timeout, backoff_cap, **kwargs)\u001b[0m\n\u001b[1;32m     87\u001b[0m timeout \u001b[39m=\u001b[39m timeout \u001b[39mif\u001b[39;00m timeout \u001b[39mis\u001b[39;00m \u001b[39mNone\u001b[39;00m \u001b[39melse\u001b[39;00m timeout \u001b[39m-\u001b[39m backoff_timedelta\n\u001b[1;32m     88\u001b[0m \u001b[39mtry\u001b[39;00m:\n\u001b[0;32m---> 89\u001b[0m     response \u001b[39m=\u001b[39m \u001b[39mself\u001b[39;49m\u001b[39m.\u001b[39;49m_request(\n\u001b[1;32m     90\u001b[0m         method\u001b[39m=\u001b[39;49mmethod,\n\u001b[1;32m     91\u001b[0m         timeout\u001b[39m=\u001b[39;49mtimeout,\n\u001b[1;32m     92\u001b[0m         url\u001b[39m=\u001b[39;49m\u001b[39mself\u001b[39;49m\u001b[39m.\u001b[39;49mnode_url \u001b[39m+\u001b[39;49m path \u001b[39mif\u001b[39;49;00m path \u001b[39melse\u001b[39;49;00m \u001b[39mself\u001b[39;49m\u001b[39m.\u001b[39;49mnode_url,\n\u001b[1;32m     93\u001b[0m         json\u001b[39m=\u001b[39;49mjson,\n\u001b[1;32m     94\u001b[0m         params\u001b[39m=\u001b[39;49mparams,\n\u001b[1;32m     95\u001b[0m         headers\u001b[39m=\u001b[39;49mheaders,\n\u001b[1;32m     96\u001b[0m         \u001b[39m*\u001b[39;49m\u001b[39m*\u001b[39;49mkwargs,\n\u001b[1;32m     97\u001b[0m     )\n\u001b[1;32m     98\u001b[0m \u001b[39mexcept\u001b[39;00m \u001b[39mConnectionError\u001b[39;00m \u001b[39mas\u001b[39;00m err:\n\u001b[1;32m     99\u001b[0m     connExc \u001b[39m=\u001b[39m err\n",
      "File \u001b[0;32m~/Desktop/nexres/nexres_nft_market/nexres_sdk/resdb_driver/connection.py:132\u001b[0m, in \u001b[0;36mConnection._request\u001b[0;34m(self, **kwargs)\u001b[0m\n\u001b[1;32m    130\u001b[0m \u001b[39mif\u001b[39;00m \u001b[39mnot\u001b[39;00m (\u001b[39m200\u001b[39m \u001b[39m<\u001b[39m\u001b[39m=\u001b[39m response\u001b[39m.\u001b[39mstatus_code \u001b[39m<\u001b[39m \u001b[39m300\u001b[39m):\n\u001b[1;32m    131\u001b[0m     exc_cls \u001b[39m=\u001b[39m HTTP_EXCEPTIONS\u001b[39m.\u001b[39mget(response\u001b[39m.\u001b[39mstatus_code, TransportError)\n\u001b[0;32m--> 132\u001b[0m     \u001b[39mraise\u001b[39;00m exc_cls(response\u001b[39m.\u001b[39mstatus_code, text, json, kwargs[\u001b[39m\"\u001b[39m\u001b[39murl\u001b[39m\u001b[39m\"\u001b[39m])\n\u001b[1;32m    133\u001b[0m data \u001b[39m=\u001b[39m json \u001b[39mif\u001b[39;00m json \u001b[39mis\u001b[39;00m \u001b[39mnot\u001b[39;00m \u001b[39mNone\u001b[39;00m \u001b[39melse\u001b[39;00m text\n\u001b[1;32m    134\u001b[0m \u001b[39mreturn\u001b[39;00m HttpResponse(response\u001b[39m.\u001b[39mstatus_code, response\u001b[39m.\u001b[39mheaders, data)\n",
      "\u001b[0;31mNotFoundError\u001b[0m: (404, '404 Not Found\\r\\n', None, 'http://localhost:18000/v1/transactions/')"
     ]
    }
   ],
   "source": [
    "asset_info = db.transactions.get(asset_id=\"17dc87182842fbdb87eb98b36789ae8a7da3353441e1c63be600aa3e9c96b1a5\", operation='CREATE')"
   ]
  },
  {
   "cell_type": "code",
   "execution_count": null,
   "id": "027ea959",
   "metadata": {},
   "outputs": [],
   "source": []
  },
  {
   "cell_type": "code",
   "execution_count": null,
   "id": "d987e3f4",
   "metadata": {},
   "outputs": [],
   "source": []
  },
  {
   "cell_type": "code",
   "execution_count": null,
   "id": "2284c6a1",
   "metadata": {},
   "outputs": [],
   "source": []
  },
  {
   "cell_type": "code",
   "execution_count": null,
   "id": "8bb42e58",
   "metadata": {},
   "outputs": [
    {
     "ename": "TypeError",
     "evalue": "TransactionsEndpoint.get() takes 1 positional argument but 2 were given",
     "output_type": "error",
     "traceback": [
      "\u001b[0;31m---------------------------------------------------------------------------\u001b[0m",
      "\u001b[0;31mTypeError\u001b[0m                                 Traceback (most recent call last)",
      "Cell \u001b[0;32mIn[32], line 1\u001b[0m\n\u001b[0;32m----> 1\u001b[0m foo_get \u001b[39m=\u001b[39m db\u001b[39m.\u001b[39;49mtransactions\u001b[39m.\u001b[39;49mget(str_txr_id)\n",
      "\u001b[0;31mTypeError\u001b[0m: TransactionsEndpoint.get() takes 1 positional argument but 2 were given"
     ]
    }
   ],
   "source": [
    "foo_get = db.transactions.get(str_txr_id)"
   ]
  },
  {
   "cell_type": "code",
   "execution_count": null,
   "id": "ceab1dac",
   "metadata": {},
   "outputs": [
    {
     "ename": "NotImplementedError",
     "evalue": "",
     "output_type": "error",
     "traceback": [
      "\u001b[0;31m---------------------------------------------------------------------------\u001b[0m",
      "\u001b[0;31mNotImplementedError\u001b[0m                       Traceback (most recent call last)",
      "Cell \u001b[0;32mIn[35], line 1\u001b[0m\n\u001b[0;32m----> 1\u001b[0m foo_get \u001b[39m=\u001b[39m db\u001b[39m.\u001b[39;49mget_transaction(str_txr_id)\n",
      "File \u001b[0;32m~/Desktop/nexres/nexres_nft_market/nexres_sdk/resdb_driver/driver.py:143\u001b[0m, in \u001b[0;36mResdb.get_transaction\u001b[0;34m(self, txid)\u001b[0m\n\u001b[1;32m    141\u001b[0m \u001b[39mdef\u001b[39;00m \u001b[39mget_transaction\u001b[39m(\u001b[39mself\u001b[39m, txid):\n\u001b[1;32m    142\u001b[0m     \u001b[39m# TODO\u001b[39;00m\n\u001b[0;32m--> 143\u001b[0m     \u001b[39mraise\u001b[39;00m \u001b[39mNotImplementedError\u001b[39;00m\n",
      "\u001b[0;31mNotImplementedError\u001b[0m: "
     ]
    }
   ],
   "source": [
    "foo_get = db.get_transaction(str_txr_id)"
   ]
  },
  {
   "cell_type": "code",
   "execution_count": null,
   "id": "66b0730d",
   "metadata": {},
   "outputs": [
    {
     "ename": "NotFoundError",
     "evalue": "(404, '404 Not Found\\r\\n', None, 'http://localhost:18000/v1/outputs/')",
     "output_type": "error",
     "traceback": [
      "\u001b[0;31m---------------------------------------------------------------------------\u001b[0m",
      "\u001b[0;31mNotFoundError\u001b[0m                             Traceback (most recent call last)",
      "Cell \u001b[0;32mIn[38], line 1\u001b[0m\n\u001b[0;32m----> 1\u001b[0m foo_get \u001b[39m=\u001b[39m db\u001b[39m.\u001b[39;49moutputs\u001b[39m.\u001b[39;49mget(kaustubh\u001b[39m.\u001b[39;49mpublic_key)\n",
      "File \u001b[0;32m~/Desktop/nexres/nexres_nft_market/nexres_sdk/resdb_driver/driver.py:451\u001b[0m, in \u001b[0;36mOutputsEndpoint.get\u001b[0;34m(self, public_key, spent, headers)\u001b[0m\n\u001b[1;32m    424\u001b[0m \u001b[39mdef\u001b[39;00m \u001b[39mget\u001b[39m(\u001b[39mself\u001b[39m, public_key, spent\u001b[39m=\u001b[39m\u001b[39mNone\u001b[39;00m, headers\u001b[39m=\u001b[39m\u001b[39mNone\u001b[39;00m):\n\u001b[1;32m    425\u001b[0m     \u001b[39m\"\"\"Get transaction outputs by public key. The public_key parameter\u001b[39;00m\n\u001b[1;32m    426\u001b[0m \u001b[39m    must be a base58 encoded ed25519 public key associated with\u001b[39;00m\n\u001b[1;32m    427\u001b[0m \u001b[39m    transaction output ownership.\u001b[39;00m\n\u001b[0;32m   (...)\u001b[0m\n\u001b[1;32m    449\u001b[0m \n\u001b[1;32m    450\u001b[0m \u001b[39m    \"\"\"\u001b[39;00m\n\u001b[0;32m--> 451\u001b[0m     \u001b[39mreturn\u001b[39;00m \u001b[39mself\u001b[39;49m\u001b[39m.\u001b[39;49mtransport\u001b[39m.\u001b[39;49mforward_request(\n\u001b[1;32m    452\u001b[0m         method\u001b[39m=\u001b[39;49m\u001b[39m\"\u001b[39;49m\u001b[39mGET\u001b[39;49m\u001b[39m\"\u001b[39;49m,\n\u001b[1;32m    453\u001b[0m         path\u001b[39m=\u001b[39;49m\u001b[39mself\u001b[39;49m\u001b[39m.\u001b[39;49mpath,\n\u001b[1;32m    454\u001b[0m         params\u001b[39m=\u001b[39;49m{\u001b[39m\"\u001b[39;49m\u001b[39mpublic_key\u001b[39;49m\u001b[39m\"\u001b[39;49m: public_key, \u001b[39m\"\u001b[39;49m\u001b[39mspent\u001b[39;49m\u001b[39m\"\u001b[39;49m: spent},\n\u001b[1;32m    455\u001b[0m         headers\u001b[39m=\u001b[39;49mheaders,\n\u001b[1;32m    456\u001b[0m     )\n",
      "File \u001b[0;32m~/Desktop/nexres/nexres_nft_market/nexres_sdk/resdb_driver/transport.py:70\u001b[0m, in \u001b[0;36mTransport.forward_request\u001b[0;34m(self, method, path, json, params, headers)\u001b[0m\n\u001b[1;32m     68\u001b[0m start \u001b[39m=\u001b[39m time()\n\u001b[1;32m     69\u001b[0m \u001b[39mtry\u001b[39;00m:\n\u001b[0;32m---> 70\u001b[0m     response \u001b[39m=\u001b[39m connection\u001b[39m.\u001b[39;49mrequest(\n\u001b[1;32m     71\u001b[0m         method\u001b[39m=\u001b[39;49mmethod,\n\u001b[1;32m     72\u001b[0m         path\u001b[39m=\u001b[39;49mpath,\n\u001b[1;32m     73\u001b[0m         params\u001b[39m=\u001b[39;49mparams,\n\u001b[1;32m     74\u001b[0m         json\u001b[39m=\u001b[39;49mjson,\n\u001b[1;32m     75\u001b[0m         headers\u001b[39m=\u001b[39;49mheaders,\n\u001b[1;32m     76\u001b[0m         timeout\u001b[39m=\u001b[39;49mtimeout,\n\u001b[1;32m     77\u001b[0m         backoff_cap\u001b[39m=\u001b[39;49mbackoff_cap,\n\u001b[1;32m     78\u001b[0m     )\n\u001b[1;32m     79\u001b[0m \u001b[39mexcept\u001b[39;00m \u001b[39mConnectionError\u001b[39;00m \u001b[39mas\u001b[39;00m err:\n\u001b[1;32m     80\u001b[0m     error_trace\u001b[39m.\u001b[39mappend(err)\n",
      "File \u001b[0;32m~/Desktop/nexres/nexres_nft_market/nexres_sdk/resdb_driver/connection.py:89\u001b[0m, in \u001b[0;36mConnection.request\u001b[0;34m(self, method, path, json, params, headers, timeout, backoff_cap, **kwargs)\u001b[0m\n\u001b[1;32m     87\u001b[0m timeout \u001b[39m=\u001b[39m timeout \u001b[39mif\u001b[39;00m timeout \u001b[39mis\u001b[39;00m \u001b[39mNone\u001b[39;00m \u001b[39melse\u001b[39;00m timeout \u001b[39m-\u001b[39m backoff_timedelta\n\u001b[1;32m     88\u001b[0m \u001b[39mtry\u001b[39;00m:\n\u001b[0;32m---> 89\u001b[0m     response \u001b[39m=\u001b[39m \u001b[39mself\u001b[39;49m\u001b[39m.\u001b[39;49m_request(\n\u001b[1;32m     90\u001b[0m         method\u001b[39m=\u001b[39;49mmethod,\n\u001b[1;32m     91\u001b[0m         timeout\u001b[39m=\u001b[39;49mtimeout,\n\u001b[1;32m     92\u001b[0m         url\u001b[39m=\u001b[39;49m\u001b[39mself\u001b[39;49m\u001b[39m.\u001b[39;49mnode_url \u001b[39m+\u001b[39;49m path \u001b[39mif\u001b[39;49;00m path \u001b[39melse\u001b[39;49;00m \u001b[39mself\u001b[39;49m\u001b[39m.\u001b[39;49mnode_url,\n\u001b[1;32m     93\u001b[0m         json\u001b[39m=\u001b[39;49mjson,\n\u001b[1;32m     94\u001b[0m         params\u001b[39m=\u001b[39;49mparams,\n\u001b[1;32m     95\u001b[0m         headers\u001b[39m=\u001b[39;49mheaders,\n\u001b[1;32m     96\u001b[0m         \u001b[39m*\u001b[39;49m\u001b[39m*\u001b[39;49mkwargs,\n\u001b[1;32m     97\u001b[0m     )\n\u001b[1;32m     98\u001b[0m \u001b[39mexcept\u001b[39;00m \u001b[39mConnectionError\u001b[39;00m \u001b[39mas\u001b[39;00m err:\n\u001b[1;32m     99\u001b[0m     connExc \u001b[39m=\u001b[39m err\n",
      "File \u001b[0;32m~/Desktop/nexres/nexres_nft_market/nexres_sdk/resdb_driver/connection.py:132\u001b[0m, in \u001b[0;36mConnection._request\u001b[0;34m(self, **kwargs)\u001b[0m\n\u001b[1;32m    130\u001b[0m \u001b[39mif\u001b[39;00m \u001b[39mnot\u001b[39;00m (\u001b[39m200\u001b[39m \u001b[39m<\u001b[39m\u001b[39m=\u001b[39m response\u001b[39m.\u001b[39mstatus_code \u001b[39m<\u001b[39m \u001b[39m300\u001b[39m):\n\u001b[1;32m    131\u001b[0m     exc_cls \u001b[39m=\u001b[39m HTTP_EXCEPTIONS\u001b[39m.\u001b[39mget(response\u001b[39m.\u001b[39mstatus_code, TransportError)\n\u001b[0;32m--> 132\u001b[0m     \u001b[39mraise\u001b[39;00m exc_cls(response\u001b[39m.\u001b[39mstatus_code, text, json, kwargs[\u001b[39m\"\u001b[39m\u001b[39murl\u001b[39m\u001b[39m\"\u001b[39m])\n\u001b[1;32m    133\u001b[0m data \u001b[39m=\u001b[39m json \u001b[39mif\u001b[39;00m json \u001b[39mis\u001b[39;00m \u001b[39mnot\u001b[39;00m \u001b[39mNone\u001b[39;00m \u001b[39melse\u001b[39;00m text\n\u001b[1;32m    134\u001b[0m \u001b[39mreturn\u001b[39;00m HttpResponse(response\u001b[39m.\u001b[39mstatus_code, response\u001b[39m.\u001b[39mheaders, data)\n",
      "\u001b[0;31mNotFoundError\u001b[0m: (404, '404 Not Found\\r\\n', None, 'http://localhost:18000/v1/outputs/')"
     ]
    }
   ],
   "source": [
    "foo_get = db.outputs.get(kaustubh.public_key)"
   ]
  },
  {
   "cell_type": "code",
   "execution_count": null,
   "id": "3035c781",
   "metadata": {},
   "outputs": [],
   "source": []
  },
  {
   "attachments": {},
   "cell_type": "markdown",
   "id": "737b6b64",
   "metadata": {},
   "source": [
    "### TRANSFER TESTS"
   ]
  },
  {
   "cell_type": "code",
   "execution_count": 13,
   "id": "7edcee26",
   "metadata": {},
   "outputs": [
    {
     "name": "stdout",
     "output_type": "stream",
     "text": [
      "HASH DATA <class 'str'>, data='{\"asset\":{\"data\":{\"description\":\"Time share token. Each token equals one hour of usage.\",\"token_for\":{\"game_boy\":{\"serial_number\":\"LR35902\"}}}},\"id\":null,\"inputs\":[{\"fulfillment\":\"pGSAIIjyLeAH_iRBmA98XjwNyp624GojLb7lhWEFDONowqZfgUB8oHAvgSZXvsDsf1FsrOruS2WX8pesGID-qjJ39IuO9EdeMAF_P-Yn7K6RRy-UBaXdlB58QCt_xSs05UkjYNQI\",\"fulfills\":null,\"owners_before\":[\"ADadd4AkdrBpq89cmapGd6RCi9zD7n1pK1FwJHeZC4ML\"]}],\"metadata\":null,\"operation\":\"CREATE\",\"outputs\":[{\"amount\":\"10\",\"condition\":{\"details\":{\"public_key\":\"BjqsAykfTQSrEqLKv7GEJ7RNZYuD9in1bu1aE4i13VN5\",\"type\":\"ed25519-sha-256\"},\"uri\":\"ni:///sha-256;W_XkV44le4h3E1Xmy0V9ORy8o6gycDMBIYFwR6Xdhuw?fpt=ed25519-sha-256&cost=131072\"},\"public_keys\":[\"BjqsAykfTQSrEqLKv7GEJ7RNZYuD9in1bu1aE4i13VN5\"]}],\"version\":\"2.0\"}'\n"
     ]
    }
   ],
   "source": [
    "from resdb_driver import Resdb\n",
    "\n",
    "db_root_url = \"http://0.0.0.0:18000\"\n",
    "\n",
    "db = Resdb(db_root_url)\n",
    "\n",
    "from resdb_driver.crypto import generate_keypair\n",
    "\n",
    "alice, bob = generate_keypair(), generate_keypair()\n",
    "\n",
    "# create a digital asset for Alice\n",
    "game_boy_token = {\n",
    "    \"data\": {\n",
    "        \"token_for\": {\"game_boy\": {\"serial_number\": \"LR35902\"}},\n",
    "        \"description\": \"Time share token. Each token equals one hour of usage.\",\n",
    "    },\n",
    "}\n",
    "\n",
    "# prepare the transaction with the digital asset and issue 10 tokens for Bob\n",
    "prepared_token_tx = db.transactions.prepare(\n",
    "    operation=\"CREATE\",\n",
    "    signers=alice.public_key,\n",
    "    recipients=[([bob.public_key], 10)],\n",
    "    asset=game_boy_token,\n",
    ")\n",
    "\n",
    "# fulfill the tnx\n",
    "fulfilled_token_tx = db.transactions.fulfill(prepared_token_tx, private_keys=alice.private_key)"
   ]
  },
  {
   "cell_type": "code",
   "execution_count": 14,
   "id": "f6988b3d",
   "metadata": {},
   "outputs": [
    {
     "data": {
      "text/plain": [
       "{'inputs': [{'owners_before': ['ADadd4AkdrBpq89cmapGd6RCi9zD7n1pK1FwJHeZC4ML'],\n",
       "   'fulfills': None,\n",
       "   'fulfillment': 'pGSAIIjyLeAH_iRBmA98XjwNyp624GojLb7lhWEFDONowqZfgUB8oHAvgSZXvsDsf1FsrOruS2WX8pesGID-qjJ39IuO9EdeMAF_P-Yn7K6RRy-UBaXdlB58QCt_xSs05UkjYNQI'}],\n",
       " 'outputs': [{'public_keys': ['BjqsAykfTQSrEqLKv7GEJ7RNZYuD9in1bu1aE4i13VN5'],\n",
       "   'condition': {'details': {'type': 'ed25519-sha-256',\n",
       "     'public_key': 'BjqsAykfTQSrEqLKv7GEJ7RNZYuD9in1bu1aE4i13VN5'},\n",
       "    'uri': 'ni:///sha-256;W_XkV44le4h3E1Xmy0V9ORy8o6gycDMBIYFwR6Xdhuw?fpt=ed25519-sha-256&cost=131072'},\n",
       "   'amount': '10'}],\n",
       " 'operation': 'CREATE',\n",
       " 'metadata': None,\n",
       " 'asset': {'data': {'token_for': {'game_boy': {'serial_number': 'LR35902'}},\n",
       "   'description': 'Time share token. Each token equals one hour of usage.'}},\n",
       " 'version': '2.0',\n",
       " 'id': '612c8b1e2d7ece7c8e0b8ccf634d2a70a45972673de052ea2a6285dd83242c79'}"
      ]
     },
     "execution_count": 14,
     "metadata": {},
     "output_type": "execute_result"
    }
   ],
   "source": [
    "fulfilled_token_tx"
   ]
  },
  {
   "cell_type": "code",
   "execution_count": 15,
   "id": "ce27df9c",
   "metadata": {},
   "outputs": [
    {
     "data": {
      "text/plain": [
       "'id: 612c8b1e2d7ece7c8e0b8ccf634d2a70a45972673de052ea2a6285dd83242c79'"
      ]
     },
     "execution_count": 15,
     "metadata": {},
     "output_type": "execute_result"
    }
   ],
   "source": [
    "db.transactions.send_commit(fulfilled_token_tx)"
   ]
  },
  {
   "cell_type": "code",
   "execution_count": 16,
   "id": "c01d7271",
   "metadata": {},
   "outputs": [
    {
     "data": {
      "text/plain": [
       "{'inputs': [{'owners_before': ['ADadd4AkdrBpq89cmapGd6RCi9zD7n1pK1FwJHeZC4ML'],\n",
       "   'fulfills': None,\n",
       "   'fulfillment': 'pGSAIIjyLeAH_iRBmA98XjwNyp624GojLb7lhWEFDONowqZfgUB8oHAvgSZXvsDsf1FsrOruS2WX8pesGID-qjJ39IuO9EdeMAF_P-Yn7K6RRy-UBaXdlB58QCt_xSs05UkjYNQI'}],\n",
       " 'outputs': [{'public_keys': ['BjqsAykfTQSrEqLKv7GEJ7RNZYuD9in1bu1aE4i13VN5'],\n",
       "   'condition': {'details': {'type': 'ed25519-sha-256',\n",
       "     'public_key': 'BjqsAykfTQSrEqLKv7GEJ7RNZYuD9in1bu1aE4i13VN5'},\n",
       "    'uri': 'ni:///sha-256;W_XkV44le4h3E1Xmy0V9ORy8o6gycDMBIYFwR6Xdhuw?fpt=ed25519-sha-256&cost=131072'},\n",
       "   'amount': '10'}],\n",
       " 'operation': 'CREATE',\n",
       " 'metadata': None,\n",
       " 'asset': {'data': {'token_for': {'game_boy': {'serial_number': 'LR35902'}},\n",
       "   'description': 'Time share token. Each token equals one hour of usage.'}},\n",
       " 'version': '2.0',\n",
       " 'id': '612c8b1e2d7ece7c8e0b8ccf634d2a70a45972673de052ea2a6285dd83242c79'}"
      ]
     },
     "execution_count": 16,
     "metadata": {},
     "output_type": "execute_result"
    }
   ],
   "source": [
    "str_txr_id = '612c8b1e2d7ece7c8e0b8ccf634d2a70a45972673de052ea2a6285dd83242c79'\n",
    "tx_info = db.transactions.retrieve(str_txr_id)\n",
    "tx_info"
   ]
  },
  {
   "cell_type": "code",
   "execution_count": 17,
   "id": "e51ba8d7",
   "metadata": {},
   "outputs": [],
   "source": [
    "ryan = generate_keypair()"
   ]
  },
  {
   "cell_type": "code",
   "execution_count": 19,
   "id": "25188ba9",
   "metadata": {},
   "outputs": [],
   "source": [
    "transfer_asset = {\"id\": fulfilled_token_tx[\"id\"]}\n",
    "output_index = 0\n",
    "output = fulfilled_token_tx[\"outputs\"][output_index]\n",
    "transfer_input = {\n",
    "    \"fulfillment\": output[\"condition\"][\"details\"],\n",
    "    \"fulfills\": {\"output_index\": output_index, \"transaction_id\": transfer_asset[\"id\"]},\n",
    "    \"owners_before\": output[\"public_keys\"],\n",
    "}"
   ]
  },
  {
   "cell_type": "code",
   "execution_count": 20,
   "id": "48b35b07",
   "metadata": {},
   "outputs": [
    {
     "data": {
      "text/plain": [
       "{'fulfillment': {'type': 'ed25519-sha-256',\n",
       "  'public_key': 'BjqsAykfTQSrEqLKv7GEJ7RNZYuD9in1bu1aE4i13VN5'},\n",
       " 'fulfills': {'output_index': 0,\n",
       "  'transaction_id': '612c8b1e2d7ece7c8e0b8ccf634d2a70a45972673de052ea2a6285dd83242c79'},\n",
       " 'owners_before': ['BjqsAykfTQSrEqLKv7GEJ7RNZYuD9in1bu1aE4i13VN5']}"
      ]
     },
     "execution_count": 20,
     "metadata": {},
     "output_type": "execute_result"
    }
   ],
   "source": [
    "transfer_input"
   ]
  },
  {
   "cell_type": "code",
   "execution_count": null,
   "id": "3e6ef889",
   "metadata": {},
   "outputs": [],
   "source": []
  },
  {
   "cell_type": "code",
   "execution_count": 21,
   "id": "537a74e3",
   "metadata": {},
   "outputs": [],
   "source": [
    "prepared_transfer_tx = db.transactions.prepare(\n",
    "    operation=\"TRANSFER\",\n",
    "    asset=transfer_asset,\n",
    "    inputs=transfer_input,\n",
    "        recipients=[([ryan.public_key], 10)],\n",
    ")"
   ]
  },
  {
   "cell_type": "code",
   "execution_count": 22,
   "id": "9a3a16b5",
   "metadata": {},
   "outputs": [
    {
     "data": {
      "text/plain": [
       "'ADadd4AkdrBpq89cmapGd6RCi9zD7n1pK1FwJHeZC4ML'"
      ]
     },
     "execution_count": 22,
     "metadata": {},
     "output_type": "execute_result"
    }
   ],
   "source": [
    "alice.public_key"
   ]
  },
  {
   "cell_type": "code",
   "execution_count": 23,
   "id": "41fde34a",
   "metadata": {},
   "outputs": [
    {
     "data": {
      "text/plain": [
       "'BjqsAykfTQSrEqLKv7GEJ7RNZYuD9in1bu1aE4i13VN5'"
      ]
     },
     "execution_count": 23,
     "metadata": {},
     "output_type": "execute_result"
    }
   ],
   "source": [
    "bob.public_key"
   ]
  },
  {
   "cell_type": "code",
   "execution_count": 24,
   "id": "dceb6284",
   "metadata": {},
   "outputs": [
    {
     "data": {
      "text/plain": [
       "'2Gm7Jeuz8LT66aGbMsuRoXU7dfF67HYFanB3wYExEepv'"
      ]
     },
     "execution_count": 24,
     "metadata": {},
     "output_type": "execute_result"
    }
   ],
   "source": [
    "ryan.public_key"
   ]
  },
  {
   "attachments": {},
   "cell_type": "markdown",
   "id": "449173e3",
   "metadata": {},
   "source": [
    "ali"
   ]
  },
  {
   "cell_type": "code",
   "execution_count": 25,
   "id": "4045acb0",
   "metadata": {},
   "outputs": [
    {
     "data": {
      "text/plain": [
       "{'inputs': [{'owners_before': ['BjqsAykfTQSrEqLKv7GEJ7RNZYuD9in1bu1aE4i13VN5'],\n",
       "   'fulfills': {'transaction_id': '612c8b1e2d7ece7c8e0b8ccf634d2a70a45972673de052ea2a6285dd83242c79',\n",
       "    'output_index': 0},\n",
       "   'fulfillment': {'type': 'ed25519-sha-256',\n",
       "    'public_key': 'BjqsAykfTQSrEqLKv7GEJ7RNZYuD9in1bu1aE4i13VN5'}}],\n",
       " 'outputs': [{'public_keys': ['2Gm7Jeuz8LT66aGbMsuRoXU7dfF67HYFanB3wYExEepv'],\n",
       "   'condition': {'details': {'type': 'ed25519-sha-256',\n",
       "     'public_key': '2Gm7Jeuz8LT66aGbMsuRoXU7dfF67HYFanB3wYExEepv'},\n",
       "    'uri': 'ni:///sha-256;EXDG86kDUuNBBw68lRa1zmTwdC07L5ngfSSvH6ATDGw?fpt=ed25519-sha-256&cost=131072'},\n",
       "   'amount': '10'}],\n",
       " 'operation': 'TRANSFER',\n",
       " 'metadata': None,\n",
       " 'asset': {'id': '612c8b1e2d7ece7c8e0b8ccf634d2a70a45972673de052ea2a6285dd83242c79'},\n",
       " 'version': '2.0',\n",
       " 'id': None}"
      ]
     },
     "execution_count": 25,
     "metadata": {},
     "output_type": "execute_result"
    }
   ],
   "source": [
    "prepared_transfer_tx"
   ]
  },
  {
   "cell_type": "code",
   "execution_count": 26,
   "id": "97252ccf",
   "metadata": {},
   "outputs": [
    {
     "name": "stdout",
     "output_type": "stream",
     "text": [
      "HASH DATA <class 'str'>, data='{\"asset\":{\"id\":\"612c8b1e2d7ece7c8e0b8ccf634d2a70a45972673de052ea2a6285dd83242c79\"},\"id\":null,\"inputs\":[{\"fulfillment\":\"pGSAIJ-Og96m6qul-uY33ZcQBi8HbB8q3lKqpWpw0ol7CtvmgUBfB63OZogA6CpgRbALYWlgZhH9DEsIoUI90-AZKSaNml51PDt-P8cX0NXQzlor62ZqsGcemzViaxOozhwTwbYL\",\"fulfills\":{\"output_index\":0,\"transaction_id\":\"612c8b1e2d7ece7c8e0b8ccf634d2a70a45972673de052ea2a6285dd83242c79\"},\"owners_before\":[\"BjqsAykfTQSrEqLKv7GEJ7RNZYuD9in1bu1aE4i13VN5\"]}],\"metadata\":null,\"operation\":\"TRANSFER\",\"outputs\":[{\"amount\":\"10\",\"condition\":{\"details\":{\"public_key\":\"2Gm7Jeuz8LT66aGbMsuRoXU7dfF67HYFanB3wYExEepv\",\"type\":\"ed25519-sha-256\"},\"uri\":\"ni:///sha-256;EXDG86kDUuNBBw68lRa1zmTwdC07L5ngfSSvH6ATDGw?fpt=ed25519-sha-256&cost=131072\"},\"public_keys\":[\"2Gm7Jeuz8LT66aGbMsuRoXU7dfF67HYFanB3wYExEepv\"]}],\"version\":\"2.0\"}'\n"
     ]
    }
   ],
   "source": [
    "fulfilled_transfer_tx = db.transactions.fulfill(\n",
    "    prepared_transfer_tx, private_keys=bob.private_key\n",
    ")"
   ]
  },
  {
   "cell_type": "code",
   "execution_count": 27,
   "id": "f133ca10",
   "metadata": {},
   "outputs": [
    {
     "data": {
      "text/plain": [
       "{'inputs': [{'owners_before': ['BjqsAykfTQSrEqLKv7GEJ7RNZYuD9in1bu1aE4i13VN5'],\n",
       "   'fulfills': {'transaction_id': '612c8b1e2d7ece7c8e0b8ccf634d2a70a45972673de052ea2a6285dd83242c79',\n",
       "    'output_index': 0},\n",
       "   'fulfillment': 'pGSAIJ-Og96m6qul-uY33ZcQBi8HbB8q3lKqpWpw0ol7CtvmgUBfB63OZogA6CpgRbALYWlgZhH9DEsIoUI90-AZKSaNml51PDt-P8cX0NXQzlor62ZqsGcemzViaxOozhwTwbYL'}],\n",
       " 'outputs': [{'public_keys': ['2Gm7Jeuz8LT66aGbMsuRoXU7dfF67HYFanB3wYExEepv'],\n",
       "   'condition': {'details': {'type': 'ed25519-sha-256',\n",
       "     'public_key': '2Gm7Jeuz8LT66aGbMsuRoXU7dfF67HYFanB3wYExEepv'},\n",
       "    'uri': 'ni:///sha-256;EXDG86kDUuNBBw68lRa1zmTwdC07L5ngfSSvH6ATDGw?fpt=ed25519-sha-256&cost=131072'},\n",
       "   'amount': '10'}],\n",
       " 'operation': 'TRANSFER',\n",
       " 'metadata': None,\n",
       " 'asset': {'id': '612c8b1e2d7ece7c8e0b8ccf634d2a70a45972673de052ea2a6285dd83242c79'},\n",
       " 'version': '2.0',\n",
       " 'id': '3c61fe7fe3ef72589c8bad1560c76500b02945542b25af51136c57c8ba819a7b'}"
      ]
     },
     "execution_count": 27,
     "metadata": {},
     "output_type": "execute_result"
    }
   ],
   "source": [
    "fulfilled_transfer_tx"
   ]
  },
  {
   "cell_type": "code",
   "execution_count": 28,
   "id": "40e9f52d",
   "metadata": {},
   "outputs": [],
   "source": [
    "sent_transfer_tx = db.transactions.send_commit(fulfilled_transfer_tx)"
   ]
  },
  {
   "cell_type": "code",
   "execution_count": 29,
   "id": "161bba97",
   "metadata": {},
   "outputs": [
    {
     "data": {
      "text/plain": [
       "'id: 3c61fe7fe3ef72589c8bad1560c76500b02945542b25af51136c57c8ba819a7b'"
      ]
     },
     "execution_count": 29,
     "metadata": {},
     "output_type": "execute_result"
    }
   ],
   "source": [
    "sent_transfer_tx"
   ]
  },
  {
   "cell_type": "code",
   "execution_count": 30,
   "id": "f1c09664",
   "metadata": {},
   "outputs": [],
   "source": [
    "str_txr_id = '3c61fe7fe3ef72589c8bad1560c76500b02945542b25af51136c57c8ba819a7b'\n",
    "tx_info = db.transactions.retrieve(str_txr_id)"
   ]
  },
  {
   "cell_type": "code",
   "execution_count": 31,
   "id": "b826b75e",
   "metadata": {},
   "outputs": [
    {
     "data": {
      "text/plain": [
       "{'inputs': [{'owners_before': ['BjqsAykfTQSrEqLKv7GEJ7RNZYuD9in1bu1aE4i13VN5'],\n",
       "   'fulfills': {'transaction_id': '612c8b1e2d7ece7c8e0b8ccf634d2a70a45972673de052ea2a6285dd83242c79',\n",
       "    'output_index': 0},\n",
       "   'fulfillment': 'pGSAIJ-Og96m6qul-uY33ZcQBi8HbB8q3lKqpWpw0ol7CtvmgUBfB63OZogA6CpgRbALYWlgZhH9DEsIoUI90-AZKSaNml51PDt-P8cX0NXQzlor62ZqsGcemzViaxOozhwTwbYL'}],\n",
       " 'outputs': [{'public_keys': ['2Gm7Jeuz8LT66aGbMsuRoXU7dfF67HYFanB3wYExEepv'],\n",
       "   'condition': {'details': {'type': 'ed25519-sha-256',\n",
       "     'public_key': '2Gm7Jeuz8LT66aGbMsuRoXU7dfF67HYFanB3wYExEepv'},\n",
       "    'uri': 'ni:///sha-256;EXDG86kDUuNBBw68lRa1zmTwdC07L5ngfSSvH6ATDGw?fpt=ed25519-sha-256&cost=131072'},\n",
       "   'amount': '10'}],\n",
       " 'operation': 'TRANSFER',\n",
       " 'metadata': None,\n",
       " 'asset': {'id': '612c8b1e2d7ece7c8e0b8ccf634d2a70a45972673de052ea2a6285dd83242c79'},\n",
       " 'version': '2.0',\n",
       " 'id': '3c61fe7fe3ef72589c8bad1560c76500b02945542b25af51136c57c8ba819a7b'}"
      ]
     },
     "execution_count": 31,
     "metadata": {},
     "output_type": "execute_result"
    }
   ],
   "source": [
    "tx_info"
   ]
  },
  {
   "cell_type": "code",
   "execution_count": 43,
   "id": "cb3da328",
   "metadata": {},
   "outputs": [
    {
     "ename": "TypeError",
     "evalue": "'MetadataEndpoint' object is not callable",
     "output_type": "error",
     "traceback": [
      "\u001b[0;31m---------------------------------------------------------------------------\u001b[0m",
      "\u001b[0;31mTypeError\u001b[0m                                 Traceback (most recent call last)",
      "Cell \u001b[0;32mIn[43], line 1\u001b[0m\n\u001b[0;32m----> 1\u001b[0m asset_info \u001b[39m=\u001b[39m db\u001b[39m.\u001b[39;49mmetadata()\n",
      "\u001b[0;31mTypeError\u001b[0m: 'MetadataEndpoint' object is not callable"
     ]
    }
   ],
   "source": [
    "\n"
   ]
  },
  {
   "cell_type": "code",
   "execution_count": 39,
   "id": "e0fe2d12",
   "metadata": {},
   "outputs": [
    {
     "data": {
      "text/plain": [
       "<resdb_driver.driver.AssetsEndpoint at 0x7f4867007dc0>"
      ]
     },
     "execution_count": 39,
     "metadata": {},
     "output_type": "execute_result"
    }
   ],
   "source": [
    "asset_info"
   ]
  },
  {
   "cell_type": "code",
   "execution_count": null,
   "id": "33866404",
   "metadata": {},
   "outputs": [],
   "source": []
  },
  {
   "cell_type": "code",
   "execution_count": null,
   "id": "36879755",
   "metadata": {},
   "outputs": [],
   "source": []
  },
  {
   "cell_type": "code",
   "execution_count": null,
   "id": "20b111aa",
   "metadata": {},
   "outputs": [],
   "source": []
  },
  {
   "cell_type": "code",
   "execution_count": null,
   "id": "9d69a460",
   "metadata": {},
   "outputs": [],
   "source": []
  },
  {
   "cell_type": "code",
   "execution_count": null,
   "id": "c47df8c2",
   "metadata": {},
   "outputs": [],
   "source": []
  },
  {
   "cell_type": "code",
   "execution_count": null,
   "id": "45a6a699",
   "metadata": {},
   "outputs": [],
   "source": []
  },
  {
   "cell_type": "code",
   "execution_count": null,
   "id": "119c9c09",
   "metadata": {},
   "outputs": [],
   "source": []
  },
  {
   "attachments": {},
   "cell_type": "markdown",
   "id": "f4f09651",
   "metadata": {},
   "source": [
    "# Update Metadata"
   ]
  },
  {
   "cell_type": "code",
   "execution_count": 1,
   "id": "1c0087c4",
   "metadata": {},
   "outputs": [
    {
     "name": "stdout",
     "output_type": "stream",
     "text": [
      "HASH DATA <class 'str'>, data='{\"asset\":{\"data\":{\"description\":\"Time share token. Each token equals one hour of usage.\",\"token_for\":{\"game_boy\":{\"serial_number\":\"LR35902\"}}}},\"id\":null,\"inputs\":[{\"fulfillment\":\"pGSAIN3xlpiabPPp89j5GfaK9Uy9E4CKs38ZSo05yeGgJf-UgUAL0r46JFY-Yyn7H8ru7zS_ZV8GkZ4JEuZnqX6lvcUobLL7XVNk-9Qj_83GHW1OKEhFQV-oVEIo_fb4sBjN20UI\",\"fulfills\":null,\"owners_before\":[\"FwNmG3VNZcmWrvwmp81S2obfUXfWsmCn61Bnyu1gXaSf\"]}],\"metadata\":{\"data\":\"DODO\"},\"operation\":\"CREATE\",\"outputs\":[{\"amount\":\"10\",\"condition\":{\"details\":{\"public_key\":\"4qGiJy6qpQ9SmEpUQGGDV8aQtc8gYFTqUTdtcdjPgux2\",\"type\":\"ed25519-sha-256\"},\"uri\":\"ni:///sha-256;8LOBFZHjBifcLYxiJEdWxPmNteeLNAdmps4jl9u4Xqs?fpt=ed25519-sha-256&cost=131072\"},\"public_keys\":[\"4qGiJy6qpQ9SmEpUQGGDV8aQtc8gYFTqUTdtcdjPgux2\"]}],\"version\":\"2.0\"}'\n"
     ]
    }
   ],
   "source": [
    "from resdb_driver.crypto import generate_keypair\n",
    "from resdb_driver import Resdb\n",
    "\n",
    "db_root_url = \"http://0.0.0.0:18000\"\n",
    "\n",
    "db = Resdb(db_root_url)\n",
    "\n",
    "\n",
    "alice, bob = generate_keypair(), generate_keypair()\n",
    "\n",
    "# create a digital asset for Alice\n",
    "game_boy_token = {\n",
    "    \"data\": {\n",
    "        \"token_for\": {\"game_boy\": {\"serial_number\": \"LR35902\"}},\n",
    "        \"description\": \"Time share token. Each token equals one hour of usage.\",\n",
    "    },\n",
    "}\n",
    "\n",
    "# prepare the transaction with the digital asset and issue 10 tokens for Bob\n",
    "prepared_token_tx = db.transactions.prepare(\n",
    "    operation=\"CREATE\",\n",
    "    signers=alice.public_key,\n",
    "    recipients=[([bob.public_key], 10)],\n",
    "    asset=game_boy_token,\n",
    "    metadata={\"data\":\"DODO\"}\n",
    ")\n",
    "\n",
    "# fulfill the tnx\n",
    "fulfilled_token_tx = db.transactions.fulfill(\n",
    "    prepared_token_tx, private_keys=alice.private_key)"
   ]
  },
  {
   "cell_type": "code",
   "execution_count": 2,
   "id": "55dd3277",
   "metadata": {},
   "outputs": [
    {
     "data": {
      "text/plain": [
       "{'inputs': [{'owners_before': ['FwNmG3VNZcmWrvwmp81S2obfUXfWsmCn61Bnyu1gXaSf'],\n",
       "   'fulfills': None,\n",
       "   'fulfillment': 'pGSAIN3xlpiabPPp89j5GfaK9Uy9E4CKs38ZSo05yeGgJf-UgUAL0r46JFY-Yyn7H8ru7zS_ZV8GkZ4JEuZnqX6lvcUobLL7XVNk-9Qj_83GHW1OKEhFQV-oVEIo_fb4sBjN20UI'}],\n",
       " 'outputs': [{'public_keys': ['4qGiJy6qpQ9SmEpUQGGDV8aQtc8gYFTqUTdtcdjPgux2'],\n",
       "   'condition': {'details': {'type': 'ed25519-sha-256',\n",
       "     'public_key': '4qGiJy6qpQ9SmEpUQGGDV8aQtc8gYFTqUTdtcdjPgux2'},\n",
       "    'uri': 'ni:///sha-256;8LOBFZHjBifcLYxiJEdWxPmNteeLNAdmps4jl9u4Xqs?fpt=ed25519-sha-256&cost=131072'},\n",
       "   'amount': '10'}],\n",
       " 'operation': 'CREATE',\n",
       " 'metadata': {'data': 'DODO'},\n",
       " 'asset': {'data': {'token_for': {'game_boy': {'serial_number': 'LR35902'}},\n",
       "   'description': 'Time share token. Each token equals one hour of usage.'}},\n",
       " 'version': '2.0',\n",
       " 'id': 'a4f54ed6dae7a85401e408cf3cde8bcad586487977f838a77eb04c43bba91691'}"
      ]
     },
     "execution_count": 2,
     "metadata": {},
     "output_type": "execute_result"
    }
   ],
   "source": [
    "fulfilled_token_tx\n"
   ]
  },
  {
   "cell_type": "code",
   "execution_count": 3,
   "id": "49f28530",
   "metadata": {},
   "outputs": [],
   "source": [
    "tx_reciept = db.transactions.send_commit(fulfilled_token_tx)\n",
    "tx_reciept_id = tx_reciept[4:]"
   ]
  },
  {
   "cell_type": "code",
   "execution_count": 4,
   "id": "f2b08ba3",
   "metadata": {},
   "outputs": [
    {
     "data": {
      "text/plain": [
       "'a4f54ed6dae7a85401e408cf3cde8bcad586487977f838a77eb04c43bba91691'"
      ]
     },
     "execution_count": 4,
     "metadata": {},
     "output_type": "execute_result"
    }
   ],
   "source": [
    "tx_reciept_id\n"
   ]
  },
  {
   "cell_type": "code",
   "execution_count": 5,
   "id": "348d5db4",
   "metadata": {},
   "outputs": [
    {
     "data": {
      "text/plain": [
       "{'inputs': [{'owners_before': ['FwNmG3VNZcmWrvwmp81S2obfUXfWsmCn61Bnyu1gXaSf'],\n",
       "   'fulfills': None,\n",
       "   'fulfillment': 'pGSAIN3xlpiabPPp89j5GfaK9Uy9E4CKs38ZSo05yeGgJf-UgUAL0r46JFY-Yyn7H8ru7zS_ZV8GkZ4JEuZnqX6lvcUobLL7XVNk-9Qj_83GHW1OKEhFQV-oVEIo_fb4sBjN20UI'}],\n",
       " 'outputs': [{'public_keys': ['4qGiJy6qpQ9SmEpUQGGDV8aQtc8gYFTqUTdtcdjPgux2'],\n",
       "   'condition': {'details': {'type': 'ed25519-sha-256',\n",
       "     'public_key': '4qGiJy6qpQ9SmEpUQGGDV8aQtc8gYFTqUTdtcdjPgux2'},\n",
       "    'uri': 'ni:///sha-256;8LOBFZHjBifcLYxiJEdWxPmNteeLNAdmps4jl9u4Xqs?fpt=ed25519-sha-256&cost=131072'},\n",
       "   'amount': '10'}],\n",
       " 'operation': 'CREATE',\n",
       " 'metadata': {'data': 'DODO'},\n",
       " 'asset': {'data': {'token_for': {'game_boy': {'serial_number': 'LR35902'}},\n",
       "   'description': 'Time share token. Each token equals one hour of usage.'}},\n",
       " 'version': '2.0',\n",
       " 'id': 'a4f54ed6dae7a85401e408cf3cde8bcad586487977f838a77eb04c43bba91691'}"
      ]
     },
     "execution_count": 5,
     "metadata": {},
     "output_type": "execute_result"
    }
   ],
   "source": [
    "tx_info = db.transactions.retrieve(tx_reciept_id)\n",
    "tx_info"
   ]
  },
  {
   "cell_type": "code",
   "execution_count": 6,
   "id": "8f9d0a6e",
   "metadata": {},
   "outputs": [],
   "source": [
    "transfer_asset = {\"id\": fulfilled_token_tx[\"id\"]}\n",
    "output_index = 0\n",
    "output = fulfilled_token_tx[\"outputs\"][output_index]\n",
    "transfer_input = {\n",
    "    \"fulfillment\": output[\"condition\"][\"details\"],\n",
    "    \"fulfills\": {\"output_index\": output_index, \"transaction_id\": transfer_asset[\"id\"]},\n",
    "    \"owners_before\": output[\"public_keys\"],\n",
    "}"
   ]
  },
  {
   "cell_type": "code",
   "execution_count": 7,
   "id": "fd32a9b5",
   "metadata": {},
   "outputs": [
    {
     "data": {
      "text/plain": [
       "{'fulfillment': {'type': 'ed25519-sha-256',\n",
       "  'public_key': '4qGiJy6qpQ9SmEpUQGGDV8aQtc8gYFTqUTdtcdjPgux2'},\n",
       " 'fulfills': {'output_index': 0,\n",
       "  'transaction_id': 'a4f54ed6dae7a85401e408cf3cde8bcad586487977f838a77eb04c43bba91691'},\n",
       " 'owners_before': ['4qGiJy6qpQ9SmEpUQGGDV8aQtc8gYFTqUTdtcdjPgux2']}"
      ]
     },
     "execution_count": 7,
     "metadata": {},
     "output_type": "execute_result"
    }
   ],
   "source": [
    "transfer_input"
   ]
  },
  {
   "cell_type": "code",
   "execution_count": 8,
   "id": "d1f133ae",
   "metadata": {},
   "outputs": [],
   "source": [
    "prepared_transfer_tx = db.transactions.prepare(\n",
    "    operation=\"TRANSFER\",\n",
    "    asset=transfer_asset,\n",
    "    inputs=transfer_input,\n",
    "    metadata={\"data\":\"2323\"},\n",
    "    recipients=[(\n",
    "                [bob.public_key],\n",
    "                 10\n",
    "                 )],\n",
    ")"
   ]
  },
  {
   "cell_type": "code",
   "execution_count": 9,
   "id": "0bb6b338",
   "metadata": {},
   "outputs": [
    {
     "data": {
      "text/plain": [
       "{'inputs': [{'owners_before': ['4qGiJy6qpQ9SmEpUQGGDV8aQtc8gYFTqUTdtcdjPgux2'],\n",
       "   'fulfills': {'transaction_id': 'a4f54ed6dae7a85401e408cf3cde8bcad586487977f838a77eb04c43bba91691',\n",
       "    'output_index': 0},\n",
       "   'fulfillment': {'type': 'ed25519-sha-256',\n",
       "    'public_key': '4qGiJy6qpQ9SmEpUQGGDV8aQtc8gYFTqUTdtcdjPgux2'}}],\n",
       " 'outputs': [{'public_keys': ['4qGiJy6qpQ9SmEpUQGGDV8aQtc8gYFTqUTdtcdjPgux2'],\n",
       "   'condition': {'details': {'type': 'ed25519-sha-256',\n",
       "     'public_key': '4qGiJy6qpQ9SmEpUQGGDV8aQtc8gYFTqUTdtcdjPgux2'},\n",
       "    'uri': 'ni:///sha-256;8LOBFZHjBifcLYxiJEdWxPmNteeLNAdmps4jl9u4Xqs?fpt=ed25519-sha-256&cost=131072'},\n",
       "   'amount': '10'}],\n",
       " 'operation': 'TRANSFER',\n",
       " 'metadata': {'data': '2323'},\n",
       " 'asset': {'id': 'a4f54ed6dae7a85401e408cf3cde8bcad586487977f838a77eb04c43bba91691'},\n",
       " 'version': '2.0',\n",
       " 'id': None}"
      ]
     },
     "execution_count": 9,
     "metadata": {},
     "output_type": "execute_result"
    }
   ],
   "source": [
    "prepared_transfer_tx"
   ]
  },
  {
   "cell_type": "code",
   "execution_count": 10,
   "id": "1f6d785e",
   "metadata": {},
   "outputs": [
    {
     "name": "stdout",
     "output_type": "stream",
     "text": [
      "HASH DATA <class 'str'>, data='{\"asset\":{\"id\":\"a4f54ed6dae7a85401e408cf3cde8bcad586487977f838a77eb04c43bba91691\"},\"id\":null,\"inputs\":[{\"fulfillment\":\"pGSAIDjwtJuKDgVDej6R-s4egKN3pZWtzBtYqwy74bbGD4r_gUB8cwQQaov-vK2uBTiK46cDPO84SLlgxpx7KtFLPEnC_cBH9rSRx36l9zIqxWJ1AoMY8vXrtHp91-vzF_zTS-8M\",\"fulfills\":{\"output_index\":0,\"transaction_id\":\"a4f54ed6dae7a85401e408cf3cde8bcad586487977f838a77eb04c43bba91691\"},\"owners_before\":[\"4qGiJy6qpQ9SmEpUQGGDV8aQtc8gYFTqUTdtcdjPgux2\"]}],\"metadata\":{\"data\":\"2323\"},\"operation\":\"TRANSFER\",\"outputs\":[{\"amount\":\"10\",\"condition\":{\"details\":{\"public_key\":\"4qGiJy6qpQ9SmEpUQGGDV8aQtc8gYFTqUTdtcdjPgux2\",\"type\":\"ed25519-sha-256\"},\"uri\":\"ni:///sha-256;8LOBFZHjBifcLYxiJEdWxPmNteeLNAdmps4jl9u4Xqs?fpt=ed25519-sha-256&cost=131072\"},\"public_keys\":[\"4qGiJy6qpQ9SmEpUQGGDV8aQtc8gYFTqUTdtcdjPgux2\"]}],\"version\":\"2.0\"}'\n"
     ]
    }
   ],
   "source": [
    "fulfilled_transfer_tx = db.transactions.fulfill(\n",
    "    prepared_transfer_tx,\n",
    "    private_keys=bob.private_key\n",
    ")"
   ]
  },
  {
   "cell_type": "code",
   "execution_count": 11,
   "id": "cf734a50",
   "metadata": {},
   "outputs": [
    {
     "data": {
      "text/plain": [
       "{'inputs': [{'owners_before': ['4qGiJy6qpQ9SmEpUQGGDV8aQtc8gYFTqUTdtcdjPgux2'],\n",
       "   'fulfills': {'transaction_id': 'a4f54ed6dae7a85401e408cf3cde8bcad586487977f838a77eb04c43bba91691',\n",
       "    'output_index': 0},\n",
       "   'fulfillment': 'pGSAIDjwtJuKDgVDej6R-s4egKN3pZWtzBtYqwy74bbGD4r_gUB8cwQQaov-vK2uBTiK46cDPO84SLlgxpx7KtFLPEnC_cBH9rSRx36l9zIqxWJ1AoMY8vXrtHp91-vzF_zTS-8M'}],\n",
       " 'outputs': [{'public_keys': ['4qGiJy6qpQ9SmEpUQGGDV8aQtc8gYFTqUTdtcdjPgux2'],\n",
       "   'condition': {'details': {'type': 'ed25519-sha-256',\n",
       "     'public_key': '4qGiJy6qpQ9SmEpUQGGDV8aQtc8gYFTqUTdtcdjPgux2'},\n",
       "    'uri': 'ni:///sha-256;8LOBFZHjBifcLYxiJEdWxPmNteeLNAdmps4jl9u4Xqs?fpt=ed25519-sha-256&cost=131072'},\n",
       "   'amount': '10'}],\n",
       " 'operation': 'TRANSFER',\n",
       " 'metadata': {'data': '2323'},\n",
       " 'asset': {'id': 'a4f54ed6dae7a85401e408cf3cde8bcad586487977f838a77eb04c43bba91691'},\n",
       " 'version': '2.0',\n",
       " 'id': 'febb8e43827d15b9ca3e79fe5bf16d877ad9327d38391037396ea496aafd5217'}"
      ]
     },
     "execution_count": 11,
     "metadata": {},
     "output_type": "execute_result"
    }
   ],
   "source": [
    "fulfilled_transfer_tx"
   ]
  },
  {
   "cell_type": "code",
   "execution_count": 12,
   "id": "9ac66b74",
   "metadata": {},
   "outputs": [],
   "source": [
    "transfer_tx = db.transactions.send_commit(fulfilled_transfer_tx)\n",
    "transfer_tx_id = transfer_tx[4:]"
   ]
  },
  {
   "cell_type": "code",
   "execution_count": 13,
   "id": "24659592",
   "metadata": {},
   "outputs": [
    {
     "data": {
      "text/plain": [
       "{'inputs': [{'owners_before': ['4qGiJy6qpQ9SmEpUQGGDV8aQtc8gYFTqUTdtcdjPgux2'],\n",
       "   'fulfills': {'transaction_id': 'a4f54ed6dae7a85401e408cf3cde8bcad586487977f838a77eb04c43bba91691',\n",
       "    'output_index': 0},\n",
       "   'fulfillment': 'pGSAIDjwtJuKDgVDej6R-s4egKN3pZWtzBtYqwy74bbGD4r_gUB8cwQQaov-vK2uBTiK46cDPO84SLlgxpx7KtFLPEnC_cBH9rSRx36l9zIqxWJ1AoMY8vXrtHp91-vzF_zTS-8M'}],\n",
       " 'outputs': [{'public_keys': ['4qGiJy6qpQ9SmEpUQGGDV8aQtc8gYFTqUTdtcdjPgux2'],\n",
       "   'condition': {'details': {'type': 'ed25519-sha-256',\n",
       "     'public_key': '4qGiJy6qpQ9SmEpUQGGDV8aQtc8gYFTqUTdtcdjPgux2'},\n",
       "    'uri': 'ni:///sha-256;8LOBFZHjBifcLYxiJEdWxPmNteeLNAdmps4jl9u4Xqs?fpt=ed25519-sha-256&cost=131072'},\n",
       "   'amount': '10'}],\n",
       " 'operation': 'TRANSFER',\n",
       " 'metadata': {'data': '2323'},\n",
       " 'asset': {'id': 'a4f54ed6dae7a85401e408cf3cde8bcad586487977f838a77eb04c43bba91691'},\n",
       " 'version': '2.0',\n",
       " 'id': 'febb8e43827d15b9ca3e79fe5bf16d877ad9327d38391037396ea496aafd5217'}"
      ]
     },
     "execution_count": 13,
     "metadata": {},
     "output_type": "execute_result"
    }
   ],
   "source": [
    "tx_info = db.transactions.retrieve(transfer_tx_id)\n",
    "tx_info"
   ]
  },
  {
   "cell_type": "code",
   "execution_count": 14,
   "id": "8d32cf5e",
   "metadata": {},
   "outputs": [
    {
     "data": {
      "text/plain": [
       "''"
      ]
     },
     "execution_count": 14,
     "metadata": {},
     "output_type": "execute_result"
    }
   ],
   "source": [
    "tx_info = db.transactions.retrieve(\"098d96616250d3595f1f397aab546cd49aa0e117ffce862c3a1107fdd401fc7b\")\n",
    "tx_info\n"
   ]
  },
  {
   "cell_type": "code",
   "execution_count": null,
   "id": "a8a81a36",
   "metadata": {},
   "outputs": [],
   "source": []
  },
  {
   "cell_type": "code",
   "execution_count": null,
   "id": "f21658c7",
   "metadata": {},
   "outputs": [],
   "source": []
  },
  {
   "attachments": {},
   "cell_type": "markdown",
   "id": "a882e49c",
   "metadata": {},
   "source": [
    "# NFT Experiments"
   ]
  },
  {
   "cell_type": "code",
   "execution_count": 2,
   "id": "adab57bd",
   "metadata": {},
   "outputs": [
    {
     "name": "stdout",
     "output_type": "stream",
     "text": [
      "HASH DATA <class 'str'>, data='{\"asset\":{\"data\":{\"description\":\"Time share token. Each token equals one hour of usage.\",\"token_for\":{\"game_boy\":{\"serial_number\":\"LR35902\"}}}},\"id\":null,\"inputs\":[{\"fulfillment\":\"pGSAIFOOaUJofAorUUwc5PXug-MB_a5SVOe-PwzZauzJ_FzkgUAv3Z1Ci7AogEwr7KsU1-1eBAazj91UjBlSzz4OlqiolVexmK0AulsfkgwwSRJL5lHGYrF3HS96H8E6bxuOA4MA\",\"fulfills\":null,\"owners_before\":[\"6dAni5nfawjKiyskfo5pmd5RowcYX7bMxrneE9L27mdm\"]}],\"metadata\":null,\"operation\":\"CREATE\",\"outputs\":[{\"amount\":\"10\",\"condition\":{\"details\":{\"public_key\":\"jKBScrB7CTgCfqaMTnitx7eQjrWk9vt2FLVpfESGPoo\",\"type\":\"ed25519-sha-256\"},\"uri\":\"ni:///sha-256;PM6pXYG5UukNv06jrZSujd5lpWq2QKp5Us8YELIEaNQ?fpt=ed25519-sha-256&cost=131072\"},\"public_keys\":[\"jKBScrB7CTgCfqaMTnitx7eQjrWk9vt2FLVpfESGPoo\"]}],\"version\":\"2.0\"}'\n"
     ]
    },
    {
     "data": {
      "text/plain": [
       "{'inputs': [{'owners_before': ['6dAni5nfawjKiyskfo5pmd5RowcYX7bMxrneE9L27mdm'],\n",
       "   'fulfills': None,\n",
       "   'fulfillment': 'pGSAIFOOaUJofAorUUwc5PXug-MB_a5SVOe-PwzZauzJ_FzkgUAv3Z1Ci7AogEwr7KsU1-1eBAazj91UjBlSzz4OlqiolVexmK0AulsfkgwwSRJL5lHGYrF3HS96H8E6bxuOA4MA'}],\n",
       " 'outputs': [{'public_keys': ['jKBScrB7CTgCfqaMTnitx7eQjrWk9vt2FLVpfESGPoo'],\n",
       "   'condition': {'details': {'type': 'ed25519-sha-256',\n",
       "     'public_key': 'jKBScrB7CTgCfqaMTnitx7eQjrWk9vt2FLVpfESGPoo'},\n",
       "    'uri': 'ni:///sha-256;PM6pXYG5UukNv06jrZSujd5lpWq2QKp5Us8YELIEaNQ?fpt=ed25519-sha-256&cost=131072'},\n",
       "   'amount': '10'}],\n",
       " 'operation': 'CREATE',\n",
       " 'metadata': None,\n",
       " 'asset': {'data': {'token_for': {'game_boy': {'serial_number': 'LR35902'}},\n",
       "   'description': 'Time share token. Each token equals one hour of usage.'}},\n",
       " 'version': '2.0',\n",
       " 'id': 'b08b1659a46614d127b1002c7501f0191e126fa25c557c2aa91bb29d29c59186'}"
      ]
     },
     "execution_count": 2,
     "metadata": {},
     "output_type": "execute_result"
    }
   ],
   "source": [
    "from resdb_driver.crypto import generate_keypair\n",
    "from resdb_driver import Resdb\n",
    "\n",
    "db_root_url = \"http://0.0.0.0:18000\"\n",
    "\n",
    "db = Resdb(db_root_url)\n",
    "\n",
    "\n",
    "alice, bob = generate_keypair(), generate_keypair()\n",
    "\n",
    "# create a digital asset for Alice\n",
    "game_boy_token = {\n",
    "    \"data\": {\n",
    "        \"token_for\": {\"game_boy\": {\"serial_number\": \"LR35902\"}},\n",
    "        \"description\": \"Time share token. Each token equals one hour of usage.\",\n",
    "    },\n",
    "}\n",
    "\n",
    "# prepare the transaction with the digital asset and issue 10 tokens for Bob\n",
    "prepared_token_tx = db.transactions.prepare(\n",
    "    operation=\"CREATE\",\n",
    "    signers=alice.public_key,\n",
    "    recipients=[([bob.public_key], 10)],\n",
    "    asset=game_boy_token,\n",
    ")\n",
    "\n",
    "# fulfill the tnx\n",
    "fulfilled_token_tx = db.transactions.fulfill(\n",
    "    prepared_token_tx, private_keys=alice.private_key)\n",
    "\n",
    "db.transactions.send_commit(fulfilled_token_tx)\n",
    "\n",
    "tx_reciept = db.transactions.send_commit(fulfilled_token_tx)\n",
    "tx_reciept_id = tx_reciept[4:]\n",
    "\n",
    "tx_info = db.transactions.retrieve(tx_reciept_id)\n",
    "tx_info\n"
   ]
  },
  {
   "cell_type": "code",
   "execution_count": 3,
   "id": "96e85f34",
   "metadata": {},
   "outputs": [],
   "source": [
    "from resdb_driver.crypto import generate_keypair\n",
    "from resdb_driver import Resdb\n",
    "\n",
    "db_root_url = \"http://0.0.0.0:18000\"\n",
    "db = Resdb(db_root_url)\n",
    "alice, bob = generate_keypair(), generate_keypair()"
   ]
  },
  {
   "cell_type": "code",
   "execution_count": 8,
   "id": "fa08a40f",
   "metadata": {},
   "outputs": [],
   "source": [
    "# create a digital asset for Alice\n",
    "game_boy_token = {\n",
    "    \"data\": {\n",
    "        \"token_for\": {\"game_boy\": {\"serial_number\": \"LR35902\"}},\n",
    "        \"description\": \"Time share token. Each token equals one hour of usage.\",\n",
    "    },\n",
    "}\n"
   ]
  },
  {
   "cell_type": "code",
   "execution_count": 10,
   "id": "a86ee90d",
   "metadata": {},
   "outputs": [
    {
     "data": {
      "text/plain": [
       "'LR35902'"
      ]
     },
     "execution_count": 10,
     "metadata": {},
     "output_type": "execute_result"
    }
   ],
   "source": [
    "game_boy_token[\"data\"][\"token_for\"][\"game_boy\"][\"serial_number\"]"
   ]
  },
  {
   "cell_type": "code",
   "execution_count": 13,
   "id": "4b79c64f",
   "metadata": {},
   "outputs": [],
   "source": [
    "# create a digital asset for Alice\n",
    "nft_token = {\n",
    "    \"data\": {\n",
    "        \"nft-name\": \"Monkey\",\n",
    "        \"ipfs_file_url\": \"https://www.youtube.com/watch?v=opyPkipNNhE\",\n",
    "        \"creator_name\": \"KoKo\",\n",
    "        \"creator_external_link\": \"https://github.com/kaustubhKVS\",\n",
    "        \"supply\": \"10\",\n",
    "        \"description\": \"New Monkey Videos\",\n",
    "    },\n",
    "    \"stats\": {\n",
    "        \"cost\":\"10\",\n",
    "        \"currency\":\"BTC\",\n",
    "        \"views\":\"12\",\n",
    "    },\n",
    "}"
   ]
  },
  {
   "cell_type": "code",
   "execution_count": 29,
   "id": "e69a8394",
   "metadata": {},
   "outputs": [],
   "source": [
    "# create a digital asset for Alice\n",
    "nft_token = {\n",
    "    \"data\": {\n",
    "        \"nft-name\": \"Monkey\",\n",
    "        \"ipfs_file_url\": \"https://www.youtube.com/watch?v=opyPkipNNhE\",\n",
    "        \"creator_name\": \"KoKo\",\n",
    "        \"creator_external_link\": \"https://github.com/kaustubhKVS\",\n",
    "        \"supply\": 10,\n",
    "        \"description\": \"New Monkey Videos\",\n",
    "    },\n",
    "    \"stats\": {\n",
    "        \"cost\": 10,\n",
    "        \"currency\": \"BTC\",\n",
    "        \"views\": 12,\n",
    "    },\n",
    "}"
   ]
  },
  {
   "attachments": {},
   "cell_type": "markdown",
   "id": "888e21b9",
   "metadata": {},
   "source": [
    "data:\n",
    "    nft_name\n",
    "    ipfs_file_url\n",
    "    creator_name\n",
    "    creator_external_link\n",
    "    description\n",
    "    supply\n",
    "stats:\n",
    "    cost:\n",
    "    currency:\n",
    "    views:"
   ]
  },
  {
   "cell_type": "code",
   "execution_count": 87,
   "id": "b43251eb",
   "metadata": {},
   "outputs": [
    {
     "name": "stdout",
     "output_type": "stream",
     "text": [
      "HASH DATA <class 'str'>, data='{\"asset\":{\"data\":{\"cost\":1.2,\"creator_external_link\":\"https://github.com/kaustubhKVS\",\"creator_name\":\"KoKo\",\"currency\":\"BTC\",\"description\":\"New Monkey Videos\",\"ipfs_file_url\":\"https://www.youtube.com/watch?v=opyPkipNNhE\",\"nft_name\":\"Monkey Dance\",\"supply\":10,\"view\":10}},\"id\":null,\"inputs\":[{\"fulfillment\":\"pGSAIM98RJiOVT5DpTV76y0OOTfVX62paOw5EwufSMEgwF2agUDhoSM9GrerTaC9hoqp1Fs0Q8LO7I9iptn0n4WyzhPn1IS0BeN5gAaFJkZZsjC3SnJazx1qAwqCVO4oKpb1358H\",\"fulfills\":null,\"owners_before\":[\"ExwJCuonyMo4ZgrBw6Qwv4HRKSbVQiBmcagPWGC4SRgm\"]}],\"metadata\":null,\"operation\":\"CREATE\",\"outputs\":[{\"amount\":\"10\",\"condition\":{\"details\":{\"public_key\":\"4wWqBHtNan1LfieGN1hHBu2W2DNFfXZ3L3xu3CSXKSni\",\"type\":\"ed25519-sha-256\"},\"uri\":\"ni:///sha-256;_kkwtz-tTwivwhfoRQPD0A9vjTH_-M8uBd05lsyUOLk?fpt=ed25519-sha-256&cost=131072\"},\"public_keys\":[\"4wWqBHtNan1LfieGN1hHBu2W2DNFfXZ3L3xu3CSXKSni\"]}],\"version\":\"2.0\"}'\n"
     ]
    }
   ],
   "source": [
    "# prepare the transaction with the digital asset and issue 10 tokens for Bob\n",
    "prepared_token_tx = db.transactions.prepare(\n",
    "    operation=\"CREATE\",\n",
    "    signers=alice.public_key,\n",
    "    recipients=[([bob.public_key], 10)],\n",
    "    asset=koko_NFT.to_asset(),\n",
    ")\n",
    "\n",
    "# fulfill the tnx\n",
    "fulfilled_token_tx = db.transactions.fulfill(\n",
    "    prepared_token_tx, private_keys=alice.private_key)"
   ]
  },
  {
   "cell_type": "code",
   "execution_count": 88,
   "id": "5ff7f566",
   "metadata": {},
   "outputs": [],
   "source": [
    "tx_reciept = db.transactions.send_commit(fulfilled_token_tx)\n",
    "tx_reciept_id = tx_reciept[4:]"
   ]
  },
  {
   "cell_type": "code",
   "execution_count": 4,
   "id": "80fb9050",
   "metadata": {},
   "outputs": [
    {
     "data": {
      "text/plain": [
       "{'inputs': [{'owners_before': ['FF8MwG4ib63dXH3h92ubmhugPJyZjbYMH4F7PiGDMhAV'],\n",
       "   'fulfills': None,\n",
       "   'fulfillment': 'pGSAINOiEkRvMEzqqqAgwRDx4Tj7Mb_2vCuvXrLREgT5ZaFGgUB5vNgFwGD2QvppKr7mgLT3vLNu92cOiXgU9yGdyoeopiGicj48rA1Eh90eE5NyB9VIxJG71A6Ldy3vgbkaspQH'}],\n",
       " 'outputs': [{'public_keys': ['CG8WcPoAkgydKuKTuTtzdt1pRC1FyMbSDSFN27b9VYru'],\n",
       "   'condition': {'details': {'type': 'ed25519-sha-256',\n",
       "     'public_key': 'CG8WcPoAkgydKuKTuTtzdt1pRC1FyMbSDSFN27b9VYru'},\n",
       "    'uri': 'ni:///sha-256;dvMLyDh_3zbagc9Nm2Q-SZ4yWTESp9VI2xuHreB0Wko?fpt=ed25519-sha-256&cost=131072'},\n",
       "   'amount': '10'}],\n",
       " 'operation': 'CREATE',\n",
       " 'metadata': None,\n",
       " 'asset': {'data': {'nft_name': 'dodo',\n",
       "   'ipfs_file_url': 'dodo',\n",
       "   'creator_name': 'dodo',\n",
       "   'supply': 10,\n",
       "   'description': 'dodo',\n",
       "   'cost': 10.0,\n",
       "   'currency': 'dodo',\n",
       "   'creator_external_link': 'dodo',\n",
       "   'view': 11}},\n",
       " 'version': '2.0',\n",
       " 'id': 'f654e7a33dcdc31c25f3ec056fda575ad939f0581f0553bbd5c4f87c44bb2830'}"
      ]
     },
     "execution_count": 4,
     "metadata": {},
     "output_type": "execute_result"
    }
   ],
   "source": [
    "tx_info = db.transactions.retrieve('f654e7a33dcdc31c25f3ec056fda575ad939f0581f0553bbd5c4f87c44bb2830')\n",
    "tx_info"
   ]
  },
  {
   "cell_type": "code",
   "execution_count": 11,
   "id": "42b92c0b",
   "metadata": {},
   "outputs": [
    {
     "data": {
      "text/plain": [
       "'Time share token. Each token equals one hour of usage.'"
      ]
     },
     "execution_count": 11,
     "metadata": {},
     "output_type": "execute_result"
    }
   ],
   "source": [
    "tx_info[\"asset\"][\"data\"][\"description\"]"
   ]
  },
  {
   "cell_type": "code",
   "execution_count": null,
   "id": "c50a00ba",
   "metadata": {},
   "outputs": [],
   "source": []
  },
  {
   "cell_type": "code",
   "execution_count": null,
   "id": "c32dfadb",
   "metadata": {},
   "outputs": [],
   "source": []
  },
  {
   "cell_type": "code",
   "execution_count": null,
   "id": "7b2b11b6",
   "metadata": {},
   "outputs": [],
   "source": []
  },
  {
   "cell_type": "code",
   "execution_count": 65,
   "id": "59ff0a58",
   "metadata": {},
   "outputs": [],
   "source": [
    "from pydantic import BaseModel\n",
    "\n",
    "\n",
    "class Todo(BaseModel):\n",
    "        title: str\n",
    "        description: str\n",
    "        \n",
    "        def to_asset(self):\n",
    "                asset ={\"data\": self.dict()}\n",
    "                return asset "
   ]
  },
  {
   "cell_type": "code",
   "execution_count": 66,
   "id": "e12e06e6",
   "metadata": {},
   "outputs": [],
   "source": [
    "item = Todo(title=\"asdasd\",description=\"asdasd\")"
   ]
  },
  {
   "cell_type": "code",
   "execution_count": 67,
   "id": "e129a165",
   "metadata": {},
   "outputs": [],
   "source": [
    "x = item.to_asset()"
   ]
  },
  {
   "cell_type": "code",
   "execution_count": 68,
   "id": "c145a9e2",
   "metadata": {},
   "outputs": [
    {
     "data": {
      "text/plain": [
       "{'data': {'title': 'asdasd', 'description': 'asdasd'}}"
      ]
     },
     "execution_count": 68,
     "metadata": {},
     "output_type": "execute_result"
    }
   ],
   "source": [
    "x"
   ]
  },
  {
   "cell_type": "code",
   "execution_count": 63,
   "id": "366688f8",
   "metadata": {},
   "outputs": [],
   "source": [
    "# create a digital asset for Alice\n",
    "nft_token = {\n",
    "    \"data\": {\n",
    "        \"nft-name\": \"Monkey\",\n",
    "        \"ipfs_file_url\": \"https://www.youtube.com/watch?v=opyPkipNNhE\",\n",
    "        \"creator_name\": \"KoKo\",\n",
    "        \"creator_external_link\": \"https://github.com/kaustubhKVS\",\n",
    "        \"supply\": 10,\n",
    "        \"description\": \"New Monkey Videos\",\n",
    "    },\n",
    "    \"stats\": {\n",
    "        \"cost\": 10,\n",
    "        \"currency\": \"BTC\",\n",
    "        \"views\": 12,\n",
    "    },\n"
   ]
  },
  {
   "cell_type": "code",
   "execution_count": 94,
   "id": "6aec8504",
   "metadata": {},
   "outputs": [],
   "source": [
    "from pydantic import BaseModel\n",
    "\n",
    "class ResNFT(BaseModel):\n",
    "    nft_name: str\n",
    "    ipfs_file_url: str\n",
    "    creator_name: str\n",
    "    creator_external_link = 'NULL'\n",
    "    supply: int\n",
    "    description: str\n",
    "    cost: float\n",
    "    currency: str\n",
    "    view = 1\n",
    "\n",
    "    def to_asset(self):\n",
    "        asset = {\"data\": self.dict()}\n",
    "        return asset"
   ]
  },
  {
   "cell_type": "code",
   "execution_count": 84,
   "id": "b6a3205c",
   "metadata": {},
   "outputs": [],
   "source": [
    "koko_NFT = ResNFT(nft_name='Monkey Dance',\n",
    "                  ipfs_file_url='https://www.youtube.com/watch?v=opyPkipNNhE',\n",
    "                  creator_name='KoKo',\n",
    "                  creator_external_link='https://github.com/kaustubhKVS',\n",
    "                  supply=10,\n",
    "                  description='New Monkey Videos',\n",
    "                  cost=1.2,\n",
    "                  currency=\"BTC\",\n",
    "                  view=10)"
   ]
  },
  {
   "cell_type": "code",
   "execution_count": 86,
   "id": "082d2fc7",
   "metadata": {},
   "outputs": [
    {
     "data": {
      "text/plain": [
       "{'data': {'nft_name': 'Monkey Dance',\n",
       "  'ipfs_file_url': 'https://www.youtube.com/watch?v=opyPkipNNhE',\n",
       "  'creator_name': 'KoKo',\n",
       "  'creator_external_link': 'https://github.com/kaustubhKVS',\n",
       "  'supply': 10,\n",
       "  'description': 'New Monkey Videos',\n",
       "  'cost': 1.2,\n",
       "  'currency': 'BTC',\n",
       "  'view': 10}}"
      ]
     },
     "execution_count": 86,
     "metadata": {},
     "output_type": "execute_result"
    }
   ],
   "source": [
    "koko_NFT.to_asset()"
   ]
  },
  {
   "cell_type": "code",
   "execution_count": 95,
   "id": "ad9ace71",
   "metadata": {},
   "outputs": [],
   "source": [
    "koko_NFT = ResNFT(nft_name='Monkey Dance',\n",
    "                  ipfs_file_url='https://www.youtube.com/watch?v=opyPkipNNhE',\n",
    "                  creator_name='KoKo',\n",
    "                  \n",
    "                  supply=10,\n",
    "                  description='New Monkey Videos',\n",
    "                  cost=1.2,\n",
    "                  currency=\"BTC\",\n",
    "                  )\n"
   ]
  },
  {
   "cell_type": "code",
   "execution_count": 93,
   "id": "a1798a8d",
   "metadata": {},
   "outputs": [
    {
     "data": {
      "text/plain": [
       "ResNFT(nft_name='Monkey Dance', ipfs_file_url='https://www.youtube.com/watch?v=opyPkipNNhE', creator_name='KoKo', supply=10, description='New Monkey Videos', cost=1.2, currency='BTC', creator_external_link='Dodo', view=1)"
      ]
     },
     "execution_count": 93,
     "metadata": {},
     "output_type": "execute_result"
    }
   ],
   "source": [
    "koko_NFT"
   ]
  },
  {
   "cell_type": "code",
   "execution_count": null,
   "id": "202fa0e4",
   "metadata": {},
   "outputs": [],
   "source": [
    "def construct(cls: Type['Model'], values: 'DictAny', fields_set: 'SetStr') -> 'Model':\n"
   ]
  },
  {
   "cell_type": "code",
   "execution_count": 5,
   "id": "8632880c",
   "metadata": {},
   "outputs": [],
   "source": [
    "from pydantic import BaseModel\n",
    "\n",
    "\n",
    "class ResNFT(BaseModel):\n",
    "    nft_name: str\n",
    "    ipfs_file_url: str\n",
    "    creator_name: str\n",
    "    creator_external_link = 'NULL'\n",
    "    supply: int\n",
    "    description: str\n",
    "    cost: float\n",
    "    currency: str\n",
    "    view = 1\n",
    "\n",
    "    def to_asset(self):\n",
    "        asset = {\"data\": self.dict()}\n",
    "        return asset\n"
   ]
  },
  {
   "cell_type": "code",
   "execution_count": 16,
   "id": "0a32d0ca",
   "metadata": {},
   "outputs": [],
   "source": [
    "koko_NFT = ResNFT(nft_name='Monkey Dance',\n",
    "                  ipfs_file_url='https://www.youtube.com/watch?v=opyPkipNNhE',\n",
    "                  creator_name='KoKo',\n",
    "                  supply=10,\n",
    "                  description='New Monkey Videos',\n",
    "                  cost=1.2,\n",
    "                  currency=\"BTC\",\n",
    "                  )\n"
   ]
  },
  {
   "cell_type": "code",
   "execution_count": 14,
   "id": "e9ad6466",
   "metadata": {},
   "outputs": [],
   "source": [
    "koko_NFT = koko_NFT.construct()"
   ]
  },
  {
   "cell_type": "code",
   "execution_count": 17,
   "id": "45ef13a3",
   "metadata": {},
   "outputs": [
    {
     "data": {
      "text/plain": [
       "ResNFT(creator_external_link='NULL', view=1)"
      ]
     },
     "execution_count": 17,
     "metadata": {},
     "output_type": "execute_result"
    }
   ],
   "source": [
    "koko_NFT"
   ]
  },
  {
   "cell_type": "code",
   "execution_count": 13,
   "id": "3a09f7f5",
   "metadata": {},
   "outputs": [
    {
     "data": {
      "text/plain": [
       "ResNFT(nft_name='Monkey Dance', ipfs_file_url='https://www.youtube.com/watch?v=opyPkipNNhE', creator_name='KoKo', supply=10, description='New Monkey Videos', cost=1.2, currency='BTC', creator_external_link='NULL', view=1)"
      ]
     },
     "execution_count": 13,
     "metadata": {},
     "output_type": "execute_result"
    }
   ],
   "source": [
    "koko_NFT"
   ]
  },
  {
   "cell_type": "code",
   "execution_count": 19,
   "id": "d1c399a9",
   "metadata": {},
   "outputs": [],
   "source": [
    "class ResNFT(BaseModel):\n",
    "    nft_name = 'NULL'\n",
    "    ipfs_file_url = 'NULL'\n",
    "    creator_name = 'NULL'\n",
    "    creator_external_link = 'NULL'\n",
    "    supply = 0\n",
    "    description = 'NULL'\n",
    "    cost = 0\n",
    "    currency = 'BTC'\n",
    "    view = 1\n",
    "    tx_id = 'NULL'\n",
    "\n",
    "    def to_asset(self):\n",
    "        asset = {\"data\": self.dict()}\n",
    "        return asset\n",
    "\n",
    "    def set_tx_id(self, tx_id: str):\n",
    "        self.tx_id = tx_id\n",
    "        return self\n",
    "\n",
    "    class Config:\n",
    "        orm_mode = True"
   ]
  },
  {
   "cell_type": "code",
   "execution_count": 20,
   "id": "62fc19e4",
   "metadata": {},
   "outputs": [],
   "source": [
    "koko_NFT = ResNFT(nft_name='Monkey Dance',\n",
    "                  ipfs_file_url='https://www.youtube.com/watch?v=opyPkipNNhE',\n",
    "                  creator_name='KoKo',\n",
    "                  supply=10,\n",
    "                  description='New Monkey Videos',\n",
    "                  cost=1.2,\n",
    "                  currency=\"BTC\",\n",
    "                  )\n"
   ]
  },
  {
   "cell_type": "code",
   "execution_count": 21,
   "id": "fba33261",
   "metadata": {},
   "outputs": [
    {
     "data": {
      "text/plain": [
       "ResNFT(nft_name='Monkey Dance', ipfs_file_url='https://www.youtube.com/watch?v=opyPkipNNhE', creator_name='KoKo', creator_external_link='NULL', supply=10, description='New Monkey Videos', cost=1, currency='BTC', view=1, tx_id='NULL')"
      ]
     },
     "execution_count": 21,
     "metadata": {},
     "output_type": "execute_result"
    }
   ],
   "source": [
    "koko_NFT"
   ]
  },
  {
   "cell_type": "code",
   "execution_count": 22,
   "id": "9a4029c3",
   "metadata": {},
   "outputs": [
    {
     "data": {
      "text/plain": [
       "ResNFT(nft_name='Monkey Dance', ipfs_file_url='https://www.youtube.com/watch?v=opyPkipNNhE', creator_name='KoKo', creator_external_link='NULL', supply=10, description='New Monkey Videos', cost=1, currency='BTC', view=1, tx_id='adawkyhv555')"
      ]
     },
     "execution_count": 22,
     "metadata": {},
     "output_type": "execute_result"
    }
   ],
   "source": [
    "koko_NFT.set_tx_id('adawkyhv555')"
   ]
  },
  {
   "cell_type": "code",
   "execution_count": null,
   "id": "aecf4d55",
   "metadata": {},
   "outputs": [],
   "source": []
  },
  {
   "attachments": {},
   "cell_type": "markdown",
   "id": "4db54210",
   "metadata": {},
   "source": [
    "# IPFS Setup"
   ]
  },
  {
   "cell_type": "code",
   "execution_count": 1,
   "id": "19942608",
   "metadata": {},
   "outputs": [],
   "source": [
    "import requests"
   ]
  },
  {
   "cell_type": "code",
   "execution_count": 2,
   "id": "d4ac3717",
   "metadata": {},
   "outputs": [],
   "source": [
    "projectId = \"2LkKKs2P0WHLeEpFea4jvgjjlg5\"\n",
    "projectSecret = \"835219553340760a540e0e67ce5e9da8\"\n",
    "endpoint = \"https://ipfs.infura.io:5001\""
   ]
  },
  {
   "cell_type": "code",
   "execution_count": 3,
   "id": "c58438be",
   "metadata": {},
   "outputs": [],
   "source": [
    "### CREATE AN ARRAY OF TEST FILES ###\n",
    "files = {\n",
    "    'file': 'myNFT.png'\n",
    "}"
   ]
  },
  {
   "cell_type": "code",
   "execution_count": 4,
   "id": "5bffeaf2",
   "metadata": {},
   "outputs": [
    {
     "name": "stdout",
     "output_type": "stream",
     "text": [
      "docs\t   __pycache__\trequirements.txt  test_driver.py  test.py\n",
      "myNFT.jpg  README.md\tresdb_driver\t  test.ipynb\t  update_metadata.ipynb\n"
     ]
    }
   ],
   "source": [
    "!ls"
   ]
  },
  {
   "cell_type": "code",
   "execution_count": 5,
   "id": "d424975b",
   "metadata": {},
   "outputs": [],
   "source": [
    "### ADD FILE TO IPFS AND SAVE THE HASH ###\n",
    "response1 = requests.post(endpoint + '/api/v0/add',\n",
    "                          files=files, auth=(projectId, projectSecret))"
   ]
  },
  {
   "cell_type": "code",
   "execution_count": 6,
   "id": "78fae479",
   "metadata": {},
   "outputs": [
    {
     "name": "stdout",
     "output_type": "stream",
     "text": [
      "<Response [200]>\n",
      "QmWtBbpKST49AQFLx8HAdwwjUu7HBP2wrtAH1x8df5qrVm\n"
     ]
    }
   ],
   "source": [
    "print(response1)\n",
    "hash = response1.text.split(\",\")[1].split(\":\")[1].replace('\"', '')\n",
    "print(hash)"
   ]
  },
  {
   "cell_type": "code",
   "execution_count": 7,
   "id": "4b646884",
   "metadata": {},
   "outputs": [],
   "source": [
    "### READ FILE WITH HASH ###\n",
    "params = {\n",
    "    'arg': hash\n",
    "}"
   ]
  },
  {
   "cell_type": "code",
   "execution_count": 19,
   "id": "5133c4e3",
   "metadata": {},
   "outputs": [
    {
     "name": "stdout",
     "output_type": "stream",
     "text": [
      "<Response [200]>\n"
     ]
    }
   ],
   "source": [
    "print(response1)\n"
   ]
  },
  {
   "cell_type": "code",
   "execution_count": 20,
   "id": "4009ec01",
   "metadata": {},
   "outputs": [],
   "source": [
    "hash = response1.text.split(\",\")[1].split(\":\")[1].replace('\"','')"
   ]
  },
  {
   "cell_type": "code",
   "execution_count": 22,
   "id": "47995470",
   "metadata": {},
   "outputs": [
    {
     "name": "stdout",
     "output_type": "stream",
     "text": [
      "QmWtBbpKST49AQFLx8HAdwwjUu7HBP2wrtAH1x8df5qrVm\n"
     ]
    }
   ],
   "source": [
    "print(hash)\n"
   ]
  },
  {
   "cell_type": "code",
   "execution_count": 8,
   "id": "c80a12a2",
   "metadata": {},
   "outputs": [],
   "source": [
    "response2 = requests.post(endpoint + '/api/v0/cat',\n",
    "                          params=params, auth=(projectId, projectSecret))"
   ]
  },
  {
   "cell_type": "code",
   "execution_count": 9,
   "id": "b0e232dc",
   "metadata": {},
   "outputs": [
    {
     "data": {
      "text/plain": [
       "<urllib3.response.HTTPResponse at 0x7fab63ec8790>"
      ]
     },
     "execution_count": 9,
     "metadata": {},
     "output_type": "execute_result"
    }
   ],
   "source": [
    "response2.raw"
   ]
  },
  {
   "cell_type": "code",
   "execution_count": 26,
   "id": "aca7af16",
   "metadata": {},
   "outputs": [
    {
     "data": {
      "text/plain": [
       "'myNFT.png'"
      ]
     },
     "execution_count": 26,
     "metadata": {},
     "output_type": "execute_result"
    }
   ],
   "source": [
    "response2.text"
   ]
  },
  {
   "cell_type": "code",
   "execution_count": null,
   "id": "286aa733",
   "metadata": {},
   "outputs": [],
   "source": [
    "### REMOVE OBJECT WITH PIN/RM ###\n",
    "response3 = requests.post(endpoint + '/api/v0/pin/rm',\n",
    "                          params=params, auth=(projectId, projectSecret))\n",
    "print(response3.json())"
   ]
  },
  {
   "cell_type": "code",
   "execution_count": 10,
   "id": "031489fc",
   "metadata": {},
   "outputs": [
    {
     "data": {
      "text/plain": [
       "{'Access-Control-Allow-Headers': 'X-Stream-Output, X-Chunked-Output, X-Content-Length', 'Access-Control-Expose-Headers': 'X-Stream-Output, X-Chunked-Output, X-Content-Length', 'Content-Type': 'text/plain', 'Date': 'Sat, 18 Feb 2023 12:38:17 GMT', 'Server': 'kubo/0.17.0', 'Trailer': 'X-Stream-Error', 'Vary': 'Origin, Origin', 'X-Content-Length': '9', 'X-Robots-Tag': 'noindex', 'X-Stream-Output': '1', 'Transfer-Encoding': 'chunked'}"
      ]
     },
     "execution_count": 10,
     "metadata": {},
     "output_type": "execute_result"
    }
   ],
   "source": [
    "response2.headers"
   ]
  },
  {
   "cell_type": "code",
   "execution_count": 17,
   "id": "ed5871f0",
   "metadata": {},
   "outputs": [
    {
     "data": {
      "text/plain": [
       "'myNFT.png'"
      ]
     },
     "execution_count": 17,
     "metadata": {},
     "output_type": "execute_result"
    }
   ],
   "source": [
    "response2.text"
   ]
  },
  {
   "cell_type": "code",
   "execution_count": 18,
   "id": "628c9af1",
   "metadata": {},
   "outputs": [
    {
     "data": {
      "text/plain": [
       "'https://ipfs.infura.io:5001/api/v0/cat?arg=QmWtBbpKST49AQFLx8HAdwwjUu7HBP2wrtAH1x8df5qrVm'"
      ]
     },
     "execution_count": 18,
     "metadata": {},
     "output_type": "execute_result"
    }
   ],
   "source": [
    "response2.url"
   ]
  },
  {
   "cell_type": "code",
   "execution_count": null,
   "id": "45ad3d17",
   "metadata": {},
   "outputs": [],
   "source": []
  },
  {
   "cell_type": "code",
   "execution_count": null,
   "id": "2c4c9c81",
   "metadata": {},
   "outputs": [],
   "source": []
  },
  {
   "cell_type": "code",
   "execution_count": 24,
   "id": "313a4772",
   "metadata": {},
   "outputs": [
    {
     "name": "stdout",
     "output_type": "stream",
     "text": [
      "<Response [200]>\n",
      "Qmf7Ss2Q2iUcHvWjqZAVYLqZ11t1sPo7g7LDHEdcFphAVp\n"
     ]
    }
   ],
   "source": [
    "file = \"myNFT.jpg\"\n",
    "with open(file, \"rb\") as a_file:\n",
    "    file_dict = {\"myNFT.jpg\": a_file}\n",
    "    response1 = requests.post(\n",
    "        endpoint + '/api/v0/add', files=file_dict, auth=(projectId, projectSecret))\n",
    "    print(response1)\n",
    "    hash = response1.text.split(\",\")[1].split(\":\")[1].replace('\"', '')\n",
    "    print(hash)\n"
   ]
  },
  {
   "cell_type": "code",
   "execution_count": 25,
   "id": "9172a5fc",
   "metadata": {},
   "outputs": [
    {
     "name": "stdout",
     "output_type": "stream",
     "text": [
      "Qmf7Ss2Q2iUcHvWjqZAVYLqZ11t1sPo7g7LDHEdcFphAVp\n"
     ]
    }
   ],
   "source": [
    "print(hash)\n"
   ]
  },
  {
   "cell_type": "code",
   "execution_count": null,
   "id": "f36a17ee",
   "metadata": {},
   "outputs": [],
   "source": []
  },
  {
   "cell_type": "code",
   "execution_count": null,
   "id": "df1db43c",
   "metadata": {},
   "outputs": [],
   "source": []
  },
  {
   "cell_type": "code",
   "execution_count": null,
   "id": "063a648f",
   "metadata": {},
   "outputs": [],
   "source": []
  },
  {
   "cell_type": "code",
   "execution_count": null,
   "id": "2192aa3a",
   "metadata": {},
   "outputs": [],
   "source": []
  },
  {
   "attachments": {},
   "cell_type": "markdown",
   "id": "95a02472",
   "metadata": {},
   "source": [
    "# NFT BaseModel Pydantic"
   ]
  },
  {
   "cell_type": "code",
   "execution_count": 2,
   "id": "c206ae63",
   "metadata": {},
   "outputs": [
    {
     "name": "stdout",
     "output_type": "stream",
     "text": [
      "HASH DATA <class 'str'>, data='{\"asset\":{\"data\":{\"description\":\"Time share token. Each token equals one hour of usage.\",\"token_for\":{\"game_boy\":{\"serial_number\":\"LR35902\"}}}},\"id\":null,\"inputs\":[{\"fulfillment\":\"pGSAIN9iIm1TLD4tZuNjwtGymBQ5V1gyBM0XEgU5t_C4CymugUAC2A-bBtIQ8wZ8rOa7-AUcXtmpEPo9JMXTQya5nJ5zex4YC-rIC-L2GOS6lhNfNygev-tA4JCpNsLRNH45i-0A\",\"fulfills\":null,\"owners_before\":[\"G2zi28djeK1s2a22Zi6HSw5fTrPWxeobrKXYtVE9s989\"]}],\"metadata\":null,\"operation\":\"CREATE\",\"outputs\":[{\"amount\":\"10\",\"condition\":{\"details\":{\"public_key\":\"JCwrXK9LgmCMUhbGpaUQ5z7WT1ixXiXkXPJumd85Uh5P\",\"type\":\"ed25519-sha-256\"},\"uri\":\"ni:///sha-256;PqfiQNFIyykcHl-F9YmMD1-Gbqonxucp3Oev5rEHi3c?fpt=ed25519-sha-256&cost=131072\"},\"public_keys\":[\"JCwrXK9LgmCMUhbGpaUQ5z7WT1ixXiXkXPJumd85Uh5P\"]}],\"version\":\"2.0\"}'\n"
     ]
    },
    {
     "data": {
      "text/plain": [
       "{'inputs': [{'owners_before': ['G2zi28djeK1s2a22Zi6HSw5fTrPWxeobrKXYtVE9s989'],\n",
       "   'fulfills': None,\n",
       "   'fulfillment': 'pGSAIN9iIm1TLD4tZuNjwtGymBQ5V1gyBM0XEgU5t_C4CymugUAC2A-bBtIQ8wZ8rOa7-AUcXtmpEPo9JMXTQya5nJ5zex4YC-rIC-L2GOS6lhNfNygev-tA4JCpNsLRNH45i-0A'}],\n",
       " 'outputs': [{'public_keys': ['JCwrXK9LgmCMUhbGpaUQ5z7WT1ixXiXkXPJumd85Uh5P'],\n",
       "   'condition': {'details': {'type': 'ed25519-sha-256',\n",
       "     'public_key': 'JCwrXK9LgmCMUhbGpaUQ5z7WT1ixXiXkXPJumd85Uh5P'},\n",
       "    'uri': 'ni:///sha-256;PqfiQNFIyykcHl-F9YmMD1-Gbqonxucp3Oev5rEHi3c?fpt=ed25519-sha-256&cost=131072'},\n",
       "   'amount': '10'}],\n",
       " 'operation': 'CREATE',\n",
       " 'metadata': None,\n",
       " 'asset': {'data': {'token_for': {'game_boy': {'serial_number': 'LR35902'}},\n",
       "   'description': 'Time share token. Each token equals one hour of usage.'}},\n",
       " 'version': '2.0',\n",
       " 'id': 'e17e7968d57b5d7895fc473c1b35279bbc8549756cdf2b33cea11d7f25064cfc'}"
      ]
     },
     "execution_count": 2,
     "metadata": {},
     "output_type": "execute_result"
    }
   ],
   "source": [
    "from resdb_driver.crypto import generate_keypair\n",
    "from resdb_driver import Resdb\n",
    "\n",
    "db_root_url = \"http://0.0.0.0:18000\"\n",
    "\n",
    "db = Resdb(db_root_url)\n",
    "\n",
    "\n",
    "alice, bob = generate_keypair(), generate_keypair()\n",
    "\n",
    "# create a digital asset for Alice\n",
    "game_boy_token = {\n",
    "    \"data\": {\n",
    "        \"token_for\": {\"game_boy\": {\"serial_number\": \"LR35902\"}},\n",
    "        \"description\": \"Time share token. Each token equals one hour of usage.\",\n",
    "    },\n",
    "}\n",
    "\n",
    "# prepare the transaction with the digital asset and issue 10 tokens for Bob\n",
    "prepared_token_tx = db.transactions.prepare(\n",
    "    operation=\"CREATE\",\n",
    "    signers=alice.public_key,\n",
    "    recipients=[([bob.public_key], 10)],\n",
    "    asset=game_boy_token,\n",
    ")\n",
    "\n",
    "# fulfill the tnx\n",
    "fulfilled_token_tx = db.transactions.fulfill(\n",
    "    prepared_token_tx, private_keys=alice.private_key)\n",
    "\n",
    "db.transactions.send_commit(fulfilled_token_tx)\n",
    "\n",
    "tx_reciept = db.transactions.send_commit(fulfilled_token_tx)\n",
    "tx_reciept_id = tx_reciept[4:]\n",
    "\n",
    "tx_info = db.transactions.retrieve(tx_reciept_id)\n",
    "tx_info\n"
   ]
  },
  {
   "cell_type": "code",
   "execution_count": 12,
   "id": "cf1e1187",
   "metadata": {},
   "outputs": [],
   "source": [
    "from pydantic import BaseModel\n",
    "\n",
    "class ResNFT(BaseModel):\n",
    "    nft_name = 'NULL'\n",
    "    ipfs_file_url = 'NULL'\n",
    "    creator_name = 'NULL'\n",
    "    creator_external_link = 'NULL'\n",
    "    supply = 0\n",
    "    description = 'NULL'\n",
    "    cost = 0\n",
    "    currency = 'BTC'\n",
    "    view = 1\n",
    "    tx_id = 'NULL'\n",
    "\n",
    "    def to_asset(self):\n",
    "        asset = {\"data\": self.dict()}\n",
    "        return asset\n",
    "\n",
    "    def set_tx_id(self, tx_id: str):\n",
    "        self.tx_id = tx_id\n",
    "        return self\n",
    "\n",
    "    class Config:\n",
    "        orm_mode = True"
   ]
  },
  {
   "cell_type": "code",
   "execution_count": 13,
   "id": "eeb516ba",
   "metadata": {},
   "outputs": [],
   "source": [
    "koko_NFT = ResNFT(nft_name='Monkey Dance',\n",
    "                  ipfs_file_url='https://www.youtube.com/watch?v=opyPkipNNhE',\n",
    "                  creator_name='KoKo',\n",
    "                  supply=10,\n",
    "                  description='New Monkey Videos',\n",
    "                  cost=1.2,\n",
    "                  currency=\"BTC\",\n",
    "                  )\n"
   ]
  },
  {
   "cell_type": "code",
   "execution_count": 14,
   "id": "b76fd09c",
   "metadata": {},
   "outputs": [
    {
     "data": {
      "text/plain": [
       "ResNFT(nft_name='Monkey Dance', ipfs_file_url='https://www.youtube.com/watch?v=opyPkipNNhE', creator_name='KoKo', creator_external_link='NULL', supply=10, description='New Monkey Videos', cost=1, currency='BTC', view=1, tx_id='NULL')"
      ]
     },
     "execution_count": 14,
     "metadata": {},
     "output_type": "execute_result"
    }
   ],
   "source": [
    "koko_NFT"
   ]
  },
  {
   "cell_type": "code",
   "execution_count": 15,
   "id": "364df68d",
   "metadata": {},
   "outputs": [
    {
     "data": {
      "text/plain": [
       "int"
      ]
     },
     "execution_count": 15,
     "metadata": {},
     "output_type": "execute_result"
    }
   ],
   "source": [
    "type(koko_NFT.supply)"
   ]
  },
  {
   "cell_type": "code",
   "execution_count": 1,
   "id": "048ea775",
   "metadata": {},
   "outputs": [],
   "source": [
    "tx_id= \"3012dfc5613cfe93f2b5eeefa59404b4e678d42af2ed7a3e42920bb7c4a2bcc7\"\n"
   ]
  },
  {
   "cell_type": "code",
   "execution_count": 3,
   "id": "72735992",
   "metadata": {},
   "outputs": [],
   "source": [
    "tx_info = db.transactions.retrieve(tx_id)\n"
   ]
  },
  {
   "cell_type": "code",
   "execution_count": 4,
   "id": "5d9c0035",
   "metadata": {},
   "outputs": [
    {
     "data": {
      "text/plain": [
       "{'inputs': [{'owners_before': ['BHrAN3ruWaUQJU741gnAUhMQCf1MxCwota4r81UPUjqa'],\n",
       "   'fulfills': None,\n",
       "   'fulfillment': 'pGSAIJjlv8yEar5CzyD6cCA68gFvgQ9T_KFAuPqR_QGtawDhgUADRXBZh4W_aOPk1-JNSXE8Olihaq4INDpBbdsF-WPJnRI5iXllabeLf1IMaBcqqJIPTkPFe4GnUZFxSJkkhYQL'}],\n",
       " 'outputs': [{'public_keys': ['bvGnBSmbwN45tf9EtsjwyEYtgKFby14ckLtK7MDbNDW'],\n",
       "   'condition': {'details': {'type': 'ed25519-sha-256',\n",
       "     'public_key': 'bvGnBSmbwN45tf9EtsjwyEYtgKFby14ckLtK7MDbNDW'},\n",
       "    'uri': 'ni:///sha-256;8groeuV3VkyMQ0-htN_rq1aPoG_UipS8E_FCiO1u0VA?fpt=ed25519-sha-256&cost=131072'},\n",
       "   'amount': '10'}],\n",
       " 'operation': 'CREATE',\n",
       " 'metadata': None,\n",
       " 'asset': {'data': {'nft_name': 'Monkey Dance',\n",
       "   'ipfs_file_url': 'https://www.youtube.com/watch?v=opyPkipNNhE',\n",
       "   'creator_name': 'KoKo',\n",
       "   'supply': 10,\n",
       "   'description': 'New Monkey Videos',\n",
       "   'cost': 5.0,\n",
       "   'currency': 'BTC',\n",
       "   'creator_external_link': 'https://github.com/kaustubhKVS',\n",
       "   'view': 2,\n",
       "   'tx_id': 'NULL'}},\n",
       " 'version': '2.0',\n",
       " 'id': '3012dfc5613cfe93f2b5eeefa59404b4e678d42af2ed7a3e42920bb7c4a2bcc7'}"
      ]
     },
     "execution_count": 4,
     "metadata": {},
     "output_type": "execute_result"
    }
   ],
   "source": [
    "tx_info"
   ]
  },
  {
   "cell_type": "code",
   "execution_count": null,
   "id": "265b1e51",
   "metadata": {},
   "outputs": [],
   "source": [
    "19401097fdc226040cdcb935cab6945babdb86648be518bff293192e95fb2594\n"
   ]
  },
  {
   "cell_type": "code",
   "execution_count": 13,
   "id": "027043db",
   "metadata": {},
   "outputs": [
    {
     "data": {
      "text/plain": [
       "{'inputs': [{'owners_before': ['8xo98nqZpciyZeAJXQsqHxtnXBvHHmHMMTXyNpDHu4JY'],\n",
       "   'fulfills': None,\n",
       "   'fulfillment': 'pGSAIHZM7IZ6xsc_3spEtTngJtky8jUKiDvikoE6492U1t5FgUB3hJRtEw7t__kdBj1ToOXIfKl5Ooh6FyTcQCofjbE9Bk5NIyC8j89tc5a8R7SQ11eiO6wsAxJYOvE6f82w_XcC'}],\n",
       " 'outputs': [{'public_keys': ['129dwUyhiHp4na7YG4rEvtRTJN6vHgQHFf2ttLYj4LKE'],\n",
       "   'condition': {'details': {'type': 'ed25519-sha-256',\n",
       "     'public_key': '129dwUyhiHp4na7YG4rEvtRTJN6vHgQHFf2ttLYj4LKE'},\n",
       "    'uri': 'ni:///sha-256;0jt-98rFVMbHIlSZWREIu4tqUkd5FEx2663fDkhJ6pc?fpt=ed25519-sha-256&cost=131072'},\n",
       "   'amount': '10'}],\n",
       " 'operation': 'CREATE',\n",
       " 'metadata': None,\n",
       " 'asset': {'data': {'nft_name': 'Monkey Dance',\n",
       "   'ipfs_file_url': 'https://www.youtube.com/watch?v=opyPkipNNhE',\n",
       "   'creator_name': 'KoKo',\n",
       "   'supply': 10,\n",
       "   'description': 'New Monkey Videos',\n",
       "   'cost': 5.0,\n",
       "   'currency': 'BTC',\n",
       "   'creator_external_link': 'https://github.com/kaustubhKVS',\n",
       "   'view': 2,\n",
       "   'tx_id': 'NULL'}},\n",
       " 'version': '2.0',\n",
       " 'id': '98c0d4c757969442e3507eb32d7e6da512fb9932b4e334f9878ec04b6901ad80'}"
      ]
     },
     "execution_count": 13,
     "metadata": {},
     "output_type": "execute_result"
    }
   ],
   "source": [
    "tx_id = \"98c0d4c757969442e3507eb32d7e6da512fb9932b4e334f9878ec04b6901ad80\"\n",
    "\n",
    "tx_info = db.transactions.retrieve(tx_id)\n",
    "\n",
    "tx_info\n"
   ]
  },
  {
   "cell_type": "code",
   "execution_count": 14,
   "id": "5e16efc4",
   "metadata": {},
   "outputs": [
    {
     "data": {
      "text/plain": [
       "{'nft_name': 'Monkey Dance',\n",
       " 'ipfs_file_url': 'https://www.youtube.com/watch?v=opyPkipNNhE',\n",
       " 'creator_name': 'KoKo',\n",
       " 'supply': 10,\n",
       " 'description': 'New Monkey Videos',\n",
       " 'cost': 5.0,\n",
       " 'currency': 'BTC',\n",
       " 'creator_external_link': 'https://github.com/kaustubhKVS',\n",
       " 'view': 2,\n",
       " 'tx_id': 'NULL'}"
      ]
     },
     "execution_count": 14,
     "metadata": {},
     "output_type": "execute_result"
    }
   ],
   "source": [
    "tx_info[\"asset\"][\"data\"]"
   ]
  },
  {
   "cell_type": "code",
   "execution_count": 15,
   "id": "a2f07589",
   "metadata": {},
   "outputs": [],
   "source": [
    "collection = []"
   ]
  },
  {
   "cell_type": "code",
   "execution_count": 16,
   "id": "ad0064c3",
   "metadata": {},
   "outputs": [],
   "source": [
    "collection.append(tx_info[\"asset\"]['data'])"
   ]
  },
  {
   "cell_type": "code",
   "execution_count": 17,
   "id": "2f0a873b",
   "metadata": {},
   "outputs": [
    {
     "data": {
      "text/plain": [
       "[{'nft_name': 'Monkey Dance',\n",
       "  'ipfs_file_url': 'https://www.youtube.com/watch?v=opyPkipNNhE',\n",
       "  'creator_name': 'KoKo',\n",
       "  'supply': 10,\n",
       "  'description': 'New Monkey Videos',\n",
       "  'cost': 5.0,\n",
       "  'currency': 'BTC',\n",
       "  'creator_external_link': 'https://github.com/kaustubhKVS',\n",
       "  'view': 2,\n",
       "  'tx_id': 'NULL'}]"
      ]
     },
     "execution_count": 17,
     "metadata": {},
     "output_type": "execute_result"
    }
   ],
   "source": [
    "collection"
   ]
  },
  {
   "cell_type": "code",
   "execution_count": 19,
   "id": "58fe4d57",
   "metadata": {},
   "outputs": [],
   "source": [
    "nft_id_list = [\n",
    "    \"bef05eed8d9615ca3a3e1ebcf08a221064368e8db6ce21d3f6bccd969f2e8713\",\n",
    "    \"6f42327bc974c13a7c24490725728510c34409d5e28df11e106e302fd4d8ba69\"\n",
    "]\n"
   ]
  },
  {
   "cell_type": "code",
   "execution_count": 26,
   "id": "2bac07b8",
   "metadata": {},
   "outputs": [],
   "source": [
    "# async def fetch_all_nft():\n",
    "    \n",
    "#     all_nft_data = []\n",
    "\n",
    "#     async for nft_id in nft_id_list:\n",
    "#         print(nft_id)\n",
    "\n",
    "#     # return todos\n",
    "\n",
    "# await fetch_all_nft()"
   ]
  },
  {
   "cell_type": "code",
   "execution_count": 31,
   "id": "29e8cc66",
   "metadata": {},
   "outputs": [],
   "source": [
    "async def fetch_all_nft():\n",
    "\n",
    "    all_nft_data = []\n",
    "\n",
    "    for nft_id in nft_id_list:\n",
    "        nft_info = db.transactions.retrieve(nft_id)\n",
    "        all_nft_data.append(tx_info[\"asset\"][\"data\"])\n",
    "\n",
    "    return all_nft_data"
   ]
  },
  {
   "cell_type": "code",
   "execution_count": 32,
   "id": "45d4413a",
   "metadata": {},
   "outputs": [],
   "source": [
    "data = await fetch_all_nft()"
   ]
  },
  {
   "cell_type": "code",
   "execution_count": 33,
   "id": "a06b74f7",
   "metadata": {},
   "outputs": [
    {
     "data": {
      "text/plain": [
       "[{'nft_name': 'Monkey Dance',\n",
       "  'ipfs_file_url': 'https://www.youtube.com/watch?v=opyPkipNNhE',\n",
       "  'creator_name': 'KoKo',\n",
       "  'supply': 10,\n",
       "  'description': 'New Monkey Videos',\n",
       "  'cost': 5.0,\n",
       "  'currency': 'BTC',\n",
       "  'creator_external_link': 'https://github.com/kaustubhKVS',\n",
       "  'view': 2,\n",
       "  'tx_id': 'NULL'},\n",
       " {'nft_name': 'Monkey Dance',\n",
       "  'ipfs_file_url': 'https://www.youtube.com/watch?v=opyPkipNNhE',\n",
       "  'creator_name': 'KoKo',\n",
       "  'supply': 10,\n",
       "  'description': 'New Monkey Videos',\n",
       "  'cost': 5.0,\n",
       "  'currency': 'BTC',\n",
       "  'creator_external_link': 'https://github.com/kaustubhKVS',\n",
       "  'view': 2,\n",
       "  'tx_id': 'NULL'}]"
      ]
     },
     "execution_count": 33,
     "metadata": {},
     "output_type": "execute_result"
    }
   ],
   "source": [
    "data"
   ]
  },
  {
   "cell_type": "code",
   "execution_count": null,
   "id": "f5e22592",
   "metadata": {},
   "outputs": [],
   "source": []
  }
 ],
 "metadata": {
  "kernelspec": {
   "display_name": "nftmarketplace",
   "language": "python",
   "name": "python3"
  },
  "language_info": {
   "codemirror_mode": {
    "name": "ipython",
    "version": 3
   },
   "file_extension": ".py",
   "mimetype": "text/x-python",
   "name": "python",
   "nbconvert_exporter": "python",
   "pygments_lexer": "ipython3",
   "version": "3.10.9"
  },
  "vscode": {
   "interpreter": {
    "hash": "4e2f8eed63b1a0f8f2814d2bbe8b025f27967f41c4526b247e01325ba0e34255"
   }
  }
 },
 "nbformat": 4,
 "nbformat_minor": 5
}
