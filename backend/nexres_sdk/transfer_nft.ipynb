{
 "cells": [
  {
   "cell_type": "markdown",
   "metadata": {},
   "source": [
    "### TRANSFER TESTS"
   ]
  },
  {
   "cell_type": "code",
   "execution_count": 7,
   "metadata": {},
   "outputs": [
    {
     "name": "stdout",
     "output_type": "stream",
     "text": [
      "HASH DATA <class 'str'>, data='{\"asset\":{\"data\":{\"description\":\"Time share token. Each token equals one hour of usage.\",\"token_for\":{\"game_boy\":{\"serial_number\":\"LR35902\"}}}},\"id\":null,\"inputs\":[{\"fulfillment\":\"pGSAIAigS8kMlSGBqjGRbv6A7UTxfKs00TCXtWtSBg6LV0FQgUAKc3BDtN1pv_RecB4cwdpR72P2RY2yoSUqHvKr30Hzx55S6s2iYQR3aCKnDT5qKyWozZzq_dv78V0jY2_-hB8I\",\"fulfills\":null,\"owners_before\":[\"ag2dtzQv4VryfMf4PwMGrF62z5VJdotGevEb9h1Xc8X\"]}],\"metadata\":null,\"operation\":\"CREATE\",\"outputs\":[{\"amount\":\"10\",\"condition\":{\"details\":{\"public_key\":\"9r3gGXRT29RcgnTJJQdhASK58jUAwRYbCxqSkMX2MfGG\",\"type\":\"ed25519-sha-256\"},\"uri\":\"ni:///sha-256;yMJBPxxgE46ag7G6rPMunL9o4KRASqH5YpFCJQQYLew?fpt=ed25519-sha-256&cost=131072\"},\"public_keys\":[\"9r3gGXRT29RcgnTJJQdhASK58jUAwRYbCxqSkMX2MfGG\"]}],\"version\":\"2.0\"}'\n"
     ]
    }
   ],
   "source": [
    "from resdb_driver import Resdb\n",
    "\n",
    "db_root_url = \"http://0.0.0.0:18000\"\n",
    "\n",
    "db = Resdb(db_root_url)\n",
    "\n",
    "from resdb_driver.crypto import generate_keypair\n",
    "\n",
    "alice, bob = generate_keypair(), generate_keypair()\n",
    "\n",
    "# create a digital asset for Alice\n",
    "game_boy_token = {\n",
    "    \"data\": {\n",
    "        \"token_for\": {\"game_boy\": {\"serial_number\": \"LR35902\"}},\n",
    "        \"description\": \"Time share token. Each token equals one hour of usage.\",\n",
    "    },\n",
    "}\n",
    "\n",
    "# prepare the transaction with the digital asset and issue 10 tokens for Bob\n",
    "prepared_token_tx = db.transactions.prepare(\n",
    "    operation=\"CREATE\",\n",
    "    signers=alice.public_key,\n",
    "    recipients=[([bob.public_key], 10)],\n",
    "    asset=game_boy_token,\n",
    ")\n",
    "\n",
    "# fulfill the tnx\n",
    "fulfilled_token_tx = db.transactions.fulfill(prepared_token_tx, private_keys=alice.private_key)"
   ]
  },
  {
   "cell_type": "code",
   "execution_count": 8,
   "metadata": {},
   "outputs": [
    {
     "data": {
      "text/plain": [
       "{'inputs': [{'owners_before': ['ag2dtzQv4VryfMf4PwMGrF62z5VJdotGevEb9h1Xc8X'],\n",
       "   'fulfills': None,\n",
       "   'fulfillment': 'pGSAIAigS8kMlSGBqjGRbv6A7UTxfKs00TCXtWtSBg6LV0FQgUAKc3BDtN1pv_RecB4cwdpR72P2RY2yoSUqHvKr30Hzx55S6s2iYQR3aCKnDT5qKyWozZzq_dv78V0jY2_-hB8I'}],\n",
       " 'outputs': [{'public_keys': ['9r3gGXRT29RcgnTJJQdhASK58jUAwRYbCxqSkMX2MfGG'],\n",
       "   'condition': {'details': {'type': 'ed25519-sha-256',\n",
       "     'public_key': '9r3gGXRT29RcgnTJJQdhASK58jUAwRYbCxqSkMX2MfGG'},\n",
       "    'uri': 'ni:///sha-256;yMJBPxxgE46ag7G6rPMunL9o4KRASqH5YpFCJQQYLew?fpt=ed25519-sha-256&cost=131072'},\n",
       "   'amount': '10'}],\n",
       " 'operation': 'CREATE',\n",
       " 'metadata': None,\n",
       " 'asset': {'data': {'token_for': {'game_boy': {'serial_number': 'LR35902'}},\n",
       "   'description': 'Time share token. Each token equals one hour of usage.'}},\n",
       " 'version': '2.0',\n",
       " 'id': 'a824630c1877c2db861f8e70facb5f91d48c374f84d36d6c3345f9abb596dbf1'}"
      ]
     },
     "execution_count": 8,
     "metadata": {},
     "output_type": "execute_result"
    }
   ],
   "source": [
    "fulfilled_token_tx"
   ]
  },
  {
   "cell_type": "code",
   "execution_count": 9,
   "metadata": {},
   "outputs": [
    {
     "ename": "TransportError",
     "evalue": "(500, 'id: a824630c1877c2db861f8e70facb5f91d48c374f84d36d6c3345f9abb596dbf1', None, 'http://0.0.0.0:18000/v1/transactions/commit')",
     "output_type": "error",
     "traceback": [
      "\u001b[0;31m---------------------------------------------------------------------------\u001b[0m",
      "\u001b[0;31mTransportError\u001b[0m                            Traceback (most recent call last)",
      "\u001b[1;32m/home/kvshetenex/Desktop/expolab/nexres_nft_market/backend/nexres_sdk/transfer_nft.ipynb Cell 4\u001b[0m line \u001b[0;36m1\n\u001b[0;32m----> <a href='vscode-notebook-cell:/home/kvshetenex/Desktop/expolab/nexres_nft_market/backend/nexres_sdk/transfer_nft.ipynb#W3sZmlsZQ%3D%3D?line=0'>1</a>\u001b[0m tx_reciept \u001b[39m=\u001b[39m db\u001b[39m.\u001b[39;49mtransactions\u001b[39m.\u001b[39;49msend_commit(fulfilled_token_tx)\n\u001b[1;32m      <a href='vscode-notebook-cell:/home/kvshetenex/Desktop/expolab/nexres_nft_market/backend/nexres_sdk/transfer_nft.ipynb#W3sZmlsZQ%3D%3D?line=1'>2</a>\u001b[0m tx_reciept_id \u001b[39m=\u001b[39m tx_reciept[\u001b[39m4\u001b[39m:]\n",
      "File \u001b[0;32m~/Desktop/expolab/nexres_nft_market/backend/nexres_sdk/resdb_driver/driver.py:395\u001b[0m, in \u001b[0;36mTransactionsEndpoint.send_commit\u001b[0;34m(self, transaction, headers)\u001b[0m\n\u001b[1;32m    388\u001b[0m \u001b[39m# return self.transport.forward_request(\u001b[39;00m\n\u001b[1;32m    389\u001b[0m \u001b[39m#     method='POST',\u001b[39;00m\n\u001b[1;32m    390\u001b[0m \u001b[39m#     path=self.path,\u001b[39;00m\n\u001b[1;32m    391\u001b[0m \u001b[39m#     json=transaction,\u001b[39;00m\n\u001b[1;32m    392\u001b[0m \u001b[39m#     params={'mode': 'commit'},\u001b[39;00m\n\u001b[1;32m    393\u001b[0m \u001b[39m#     headers=headers)\u001b[39;00m\n\u001b[1;32m    394\u001b[0m path \u001b[39m=\u001b[39m \u001b[39mself\u001b[39m\u001b[39m.\u001b[39mpath \u001b[39m+\u001b[39m \u001b[39m\"\u001b[39m\u001b[39mcommit\u001b[39m\u001b[39m\"\u001b[39m\n\u001b[0;32m--> 395\u001b[0m \u001b[39mreturn\u001b[39;00m \u001b[39mself\u001b[39;49m\u001b[39m.\u001b[39;49mtransport\u001b[39m.\u001b[39;49mforward_request(\n\u001b[1;32m    396\u001b[0m     method\u001b[39m=\u001b[39;49m\u001b[39m\"\u001b[39;49m\u001b[39mPOST\u001b[39;49m\u001b[39m\"\u001b[39;49m, path\u001b[39m=\u001b[39;49mpath, json\u001b[39m=\u001b[39;49mtransaction, headers\u001b[39m=\u001b[39;49mheaders\n\u001b[1;32m    397\u001b[0m )\n",
      "File \u001b[0;32m~/Desktop/expolab/nexres_nft_market/backend/nexres_sdk/resdb_driver/transport.py:70\u001b[0m, in \u001b[0;36mTransport.forward_request\u001b[0;34m(self, method, path, json, params, headers)\u001b[0m\n\u001b[1;32m     68\u001b[0m start \u001b[39m=\u001b[39m time()\n\u001b[1;32m     69\u001b[0m \u001b[39mtry\u001b[39;00m:\n\u001b[0;32m---> 70\u001b[0m     response \u001b[39m=\u001b[39m connection\u001b[39m.\u001b[39;49mrequest(\n\u001b[1;32m     71\u001b[0m         method\u001b[39m=\u001b[39;49mmethod,\n\u001b[1;32m     72\u001b[0m         path\u001b[39m=\u001b[39;49mpath,\n\u001b[1;32m     73\u001b[0m         params\u001b[39m=\u001b[39;49mparams,\n\u001b[1;32m     74\u001b[0m         json\u001b[39m=\u001b[39;49mjson,\n\u001b[1;32m     75\u001b[0m         headers\u001b[39m=\u001b[39;49mheaders,\n\u001b[1;32m     76\u001b[0m         timeout\u001b[39m=\u001b[39;49mtimeout,\n\u001b[1;32m     77\u001b[0m         backoff_cap\u001b[39m=\u001b[39;49mbackoff_cap,\n\u001b[1;32m     78\u001b[0m     )\n\u001b[1;32m     79\u001b[0m \u001b[39mexcept\u001b[39;00m \u001b[39mConnectionError\u001b[39;00m \u001b[39mas\u001b[39;00m err:\n\u001b[1;32m     80\u001b[0m     error_trace\u001b[39m.\u001b[39mappend(err)\n",
      "File \u001b[0;32m~/Desktop/expolab/nexres_nft_market/backend/nexres_sdk/resdb_driver/connection.py:89\u001b[0m, in \u001b[0;36mConnection.request\u001b[0;34m(self, method, path, json, params, headers, timeout, backoff_cap, **kwargs)\u001b[0m\n\u001b[1;32m     87\u001b[0m timeout \u001b[39m=\u001b[39m timeout \u001b[39mif\u001b[39;00m timeout \u001b[39mis\u001b[39;00m \u001b[39mNone\u001b[39;00m \u001b[39melse\u001b[39;00m timeout \u001b[39m-\u001b[39m backoff_timedelta\n\u001b[1;32m     88\u001b[0m \u001b[39mtry\u001b[39;00m:\n\u001b[0;32m---> 89\u001b[0m     response \u001b[39m=\u001b[39m \u001b[39mself\u001b[39;49m\u001b[39m.\u001b[39;49m_request(\n\u001b[1;32m     90\u001b[0m         method\u001b[39m=\u001b[39;49mmethod,\n\u001b[1;32m     91\u001b[0m         timeout\u001b[39m=\u001b[39;49mtimeout,\n\u001b[1;32m     92\u001b[0m         url\u001b[39m=\u001b[39;49m\u001b[39mself\u001b[39;49m\u001b[39m.\u001b[39;49mnode_url \u001b[39m+\u001b[39;49m path \u001b[39mif\u001b[39;49;00m path \u001b[39melse\u001b[39;49;00m \u001b[39mself\u001b[39;49m\u001b[39m.\u001b[39;49mnode_url,\n\u001b[1;32m     93\u001b[0m         json\u001b[39m=\u001b[39;49mjson,\n\u001b[1;32m     94\u001b[0m         params\u001b[39m=\u001b[39;49mparams,\n\u001b[1;32m     95\u001b[0m         headers\u001b[39m=\u001b[39;49mheaders,\n\u001b[1;32m     96\u001b[0m         \u001b[39m*\u001b[39;49m\u001b[39m*\u001b[39;49mkwargs,\n\u001b[1;32m     97\u001b[0m     )\n\u001b[1;32m     98\u001b[0m \u001b[39mexcept\u001b[39;00m \u001b[39mConnectionError\u001b[39;00m \u001b[39mas\u001b[39;00m err:\n\u001b[1;32m     99\u001b[0m     connExc \u001b[39m=\u001b[39m err\n",
      "File \u001b[0;32m~/Desktop/expolab/nexres_nft_market/backend/nexres_sdk/resdb_driver/connection.py:132\u001b[0m, in \u001b[0;36mConnection._request\u001b[0;34m(self, **kwargs)\u001b[0m\n\u001b[1;32m    130\u001b[0m \u001b[39mif\u001b[39;00m \u001b[39mnot\u001b[39;00m (\u001b[39m200\u001b[39m \u001b[39m<\u001b[39m\u001b[39m=\u001b[39m response\u001b[39m.\u001b[39mstatus_code \u001b[39m<\u001b[39m \u001b[39m300\u001b[39m):\n\u001b[1;32m    131\u001b[0m     exc_cls \u001b[39m=\u001b[39m HTTP_EXCEPTIONS\u001b[39m.\u001b[39mget(response\u001b[39m.\u001b[39mstatus_code, TransportError)\n\u001b[0;32m--> 132\u001b[0m     \u001b[39mraise\u001b[39;00m exc_cls(response\u001b[39m.\u001b[39mstatus_code, text, json, kwargs[\u001b[39m\"\u001b[39m\u001b[39murl\u001b[39m\u001b[39m\"\u001b[39m])\n\u001b[1;32m    133\u001b[0m data \u001b[39m=\u001b[39m json \u001b[39mif\u001b[39;00m json \u001b[39mis\u001b[39;00m \u001b[39mnot\u001b[39;00m \u001b[39mNone\u001b[39;00m \u001b[39melse\u001b[39;00m text\n\u001b[1;32m    134\u001b[0m \u001b[39mreturn\u001b[39;00m HttpResponse(response\u001b[39m.\u001b[39mstatus_code, response\u001b[39m.\u001b[39mheaders, data)\n",
      "\u001b[0;31mTransportError\u001b[0m: (500, 'id: a824630c1877c2db861f8e70facb5f91d48c374f84d36d6c3345f9abb596dbf1', None, 'http://0.0.0.0:18000/v1/transactions/commit')"
     ]
    }
   ],
   "source": [
    "tx_reciept = db.transactions.send_commit(fulfilled_token_tx)\n",
    "tx_reciept_id = tx_reciept[4:]"
   ]
  },
  {
   "cell_type": "code",
   "execution_count": null,
   "metadata": {},
   "outputs": [
    {
     "data": {
      "text/plain": [
       "{'inputs': [{'owners_before': ['ADadd4AkdrBpq89cmapGd6RCi9zD7n1pK1FwJHeZC4ML'],\n",
       "   'fulfills': None,\n",
       "   'fulfillment': 'pGSAIIjyLeAH_iRBmA98XjwNyp624GojLb7lhWEFDONowqZfgUB8oHAvgSZXvsDsf1FsrOruS2WX8pesGID-qjJ39IuO9EdeMAF_P-Yn7K6RRy-UBaXdlB58QCt_xSs05UkjYNQI'}],\n",
       " 'outputs': [{'public_keys': ['BjqsAykfTQSrEqLKv7GEJ7RNZYuD9in1bu1aE4i13VN5'],\n",
       "   'condition': {'details': {'type': 'ed25519-sha-256',\n",
       "     'public_key': 'BjqsAykfTQSrEqLKv7GEJ7RNZYuD9in1bu1aE4i13VN5'},\n",
       "    'uri': 'ni:///sha-256;W_XkV44le4h3E1Xmy0V9ORy8o6gycDMBIYFwR6Xdhuw?fpt=ed25519-sha-256&cost=131072'},\n",
       "   'amount': '10'}],\n",
       " 'operation': 'CREATE',\n",
       " 'metadata': None,\n",
       " 'asset': {'data': {'token_for': {'game_boy': {'serial_number': 'LR35902'}},\n",
       "   'description': 'Time share token. Each token equals one hour of usage.'}},\n",
       " 'version': '2.0',\n",
       " 'id': '612c8b1e2d7ece7c8e0b8ccf634d2a70a45972673de052ea2a6285dd83242c79'}"
      ]
     },
     "metadata": {},
     "output_type": "display_data"
    }
   ],
   "source": [
    "create_tx_info = db.transactions.retrieve(tx_reciept_id)\n",
    "create_tx_info"
   ]
  },
  {
   "cell_type": "code",
   "execution_count": null,
   "metadata": {},
   "outputs": [],
   "source": [
    "ryan = generate_keypair()"
   ]
  },
  {
   "cell_type": "code",
   "execution_count": null,
   "metadata": {},
   "outputs": [],
   "source": [
    "transfer_asset = {\"id\": fulfilled_token_tx[\"id\"]}\n",
    "output_index = 0\n",
    "output = fulfilled_token_tx[\"outputs\"][output_index]\n",
    "transfer_input = {\n",
    "    \"fulfillment\": output[\"condition\"][\"details\"],\n",
    "    \"fulfills\": {\"output_index\": output_index, \"transaction_id\": transfer_asset[\"id\"]},\n",
    "    \"owners_before\": output[\"public_keys\"],\n",
    "}"
   ]
  },
  {
   "cell_type": "code",
   "execution_count": null,
   "metadata": {},
   "outputs": [
    {
     "data": {
      "text/plain": [
       "{'fulfillment': {'type': 'ed25519-sha-256',\n",
       "  'public_key': 'BjqsAykfTQSrEqLKv7GEJ7RNZYuD9in1bu1aE4i13VN5'},\n",
       " 'fulfills': {'output_index': 0,\n",
       "  'transaction_id': '612c8b1e2d7ece7c8e0b8ccf634d2a70a45972673de052ea2a6285dd83242c79'},\n",
       " 'owners_before': ['BjqsAykfTQSrEqLKv7GEJ7RNZYuD9in1bu1aE4i13VN5']}"
      ]
     },
     "metadata": {},
     "output_type": "display_data"
    }
   ],
   "source": [
    "transfer_input"
   ]
  },
  {
   "cell_type": "code",
   "execution_count": null,
   "metadata": {},
   "outputs": [],
   "source": [
    "prepared_transfer_tx = db.transactions.prepare(\n",
    "    operation=\"TRANSFER\",\n",
    "    asset=transfer_asset,\n",
    "    inputs=transfer_input,\n",
    "        recipients=[([ryan.public_key], 10)],\n",
    ")"
   ]
  },
  {
   "cell_type": "code",
   "execution_count": null,
   "metadata": {},
   "outputs": [
    {
     "data": {
      "text/plain": [
       "'ADadd4AkdrBpq89cmapGd6RCi9zD7n1pK1FwJHeZC4ML'"
      ]
     },
     "metadata": {},
     "output_type": "display_data"
    }
   ],
   "source": [
    "alice.public_key"
   ]
  },
  {
   "cell_type": "code",
   "execution_count": null,
   "metadata": {},
   "outputs": [
    {
     "data": {
      "text/plain": [
       "'BjqsAykfTQSrEqLKv7GEJ7RNZYuD9in1bu1aE4i13VN5'"
      ]
     },
     "metadata": {},
     "output_type": "display_data"
    }
   ],
   "source": [
    "bob.public_key"
   ]
  },
  {
   "cell_type": "code",
   "execution_count": null,
   "metadata": {},
   "outputs": [
    {
     "data": {
      "text/plain": [
       "'2Gm7Jeuz8LT66aGbMsuRoXU7dfF67HYFanB3wYExEepv'"
      ]
     },
     "metadata": {},
     "output_type": "display_data"
    }
   ],
   "source": [
    "ryan.public_key"
   ]
  },
  {
   "cell_type": "markdown",
   "metadata": {},
   "source": [
    "ali"
   ]
  },
  {
   "cell_type": "code",
   "execution_count": null,
   "metadata": {},
   "outputs": [
    {
     "data": {
      "text/plain": [
       "{'inputs': [{'owners_before': ['BjqsAykfTQSrEqLKv7GEJ7RNZYuD9in1bu1aE4i13VN5'],\n",
       "   'fulfills': {'transaction_id': '612c8b1e2d7ece7c8e0b8ccf634d2a70a45972673de052ea2a6285dd83242c79',\n",
       "    'output_index': 0},\n",
       "   'fulfillment': {'type': 'ed25519-sha-256',\n",
       "    'public_key': 'BjqsAykfTQSrEqLKv7GEJ7RNZYuD9in1bu1aE4i13VN5'}}],\n",
       " 'outputs': [{'public_keys': ['2Gm7Jeuz8LT66aGbMsuRoXU7dfF67HYFanB3wYExEepv'],\n",
       "   'condition': {'details': {'type': 'ed25519-sha-256',\n",
       "     'public_key': '2Gm7Jeuz8LT66aGbMsuRoXU7dfF67HYFanB3wYExEepv'},\n",
       "    'uri': 'ni:///sha-256;EXDG86kDUuNBBw68lRa1zmTwdC07L5ngfSSvH6ATDGw?fpt=ed25519-sha-256&cost=131072'},\n",
       "   'amount': '10'}],\n",
       " 'operation': 'TRANSFER',\n",
       " 'metadata': None,\n",
       " 'asset': {'id': '612c8b1e2d7ece7c8e0b8ccf634d2a70a45972673de052ea2a6285dd83242c79'},\n",
       " 'version': '2.0',\n",
       " 'id': None}"
      ]
     },
     "metadata": {},
     "output_type": "display_data"
    }
   ],
   "source": [
    "prepared_transfer_tx"
   ]
  },
  {
   "cell_type": "code",
   "execution_count": null,
   "metadata": {},
   "outputs": [
    {
     "name": "stdout",
     "output_type": "stream",
     "text": [
      "HASH DATA <class 'str'>, data='{\"asset\":{\"id\":\"612c8b1e2d7ece7c8e0b8ccf634d2a70a45972673de052ea2a6285dd83242c79\"},\"id\":null,\"inputs\":[{\"fulfillment\":\"pGSAIJ-Og96m6qul-uY33ZcQBi8HbB8q3lKqpWpw0ol7CtvmgUBfB63OZogA6CpgRbALYWlgZhH9DEsIoUI90-AZKSaNml51PDt-P8cX0NXQzlor62ZqsGcemzViaxOozhwTwbYL\",\"fulfills\":{\"output_index\":0,\"transaction_id\":\"612c8b1e2d7ece7c8e0b8ccf634d2a70a45972673de052ea2a6285dd83242c79\"},\"owners_before\":[\"BjqsAykfTQSrEqLKv7GEJ7RNZYuD9in1bu1aE4i13VN5\"]}],\"metadata\":null,\"operation\":\"TRANSFER\",\"outputs\":[{\"amount\":\"10\",\"condition\":{\"details\":{\"public_key\":\"2Gm7Jeuz8LT66aGbMsuRoXU7dfF67HYFanB3wYExEepv\",\"type\":\"ed25519-sha-256\"},\"uri\":\"ni:///sha-256;EXDG86kDUuNBBw68lRa1zmTwdC07L5ngfSSvH6ATDGw?fpt=ed25519-sha-256&cost=131072\"},\"public_keys\":[\"2Gm7Jeuz8LT66aGbMsuRoXU7dfF67HYFanB3wYExEepv\"]}],\"version\":\"2.0\"}'\n"
     ]
    }
   ],
   "source": [
    "fulfilled_transfer_tx = db.transactions.fulfill(\n",
    "    prepared_transfer_tx, private_keys=bob.private_key\n",
    ")"
   ]
  },
  {
   "cell_type": "code",
   "execution_count": null,
   "metadata": {},
   "outputs": [
    {
     "data": {
      "text/plain": [
       "{'inputs': [{'owners_before': ['BjqsAykfTQSrEqLKv7GEJ7RNZYuD9in1bu1aE4i13VN5'],\n",
       "   'fulfills': {'transaction_id': '612c8b1e2d7ece7c8e0b8ccf634d2a70a45972673de052ea2a6285dd83242c79',\n",
       "    'output_index': 0},\n",
       "   'fulfillment': 'pGSAIJ-Og96m6qul-uY33ZcQBi8HbB8q3lKqpWpw0ol7CtvmgUBfB63OZogA6CpgRbALYWlgZhH9DEsIoUI90-AZKSaNml51PDt-P8cX0NXQzlor62ZqsGcemzViaxOozhwTwbYL'}],\n",
       " 'outputs': [{'public_keys': ['2Gm7Jeuz8LT66aGbMsuRoXU7dfF67HYFanB3wYExEepv'],\n",
       "   'condition': {'details': {'type': 'ed25519-sha-256',\n",
       "     'public_key': '2Gm7Jeuz8LT66aGbMsuRoXU7dfF67HYFanB3wYExEepv'},\n",
       "    'uri': 'ni:///sha-256;EXDG86kDUuNBBw68lRa1zmTwdC07L5ngfSSvH6ATDGw?fpt=ed25519-sha-256&cost=131072'},\n",
       "   'amount': '10'}],\n",
       " 'operation': 'TRANSFER',\n",
       " 'metadata': None,\n",
       " 'asset': {'id': '612c8b1e2d7ece7c8e0b8ccf634d2a70a45972673de052ea2a6285dd83242c79'},\n",
       " 'version': '2.0',\n",
       " 'id': '3c61fe7fe3ef72589c8bad1560c76500b02945542b25af51136c57c8ba819a7b'}"
      ]
     },
     "metadata": {},
     "output_type": "display_data"
    }
   ],
   "source": [
    "fulfilled_transfer_tx"
   ]
  },
  {
   "cell_type": "code",
   "execution_count": null,
   "metadata": {},
   "outputs": [],
   "source": [
    "sent_transfer_tx = db.transactions.send_commit(fulfilled_transfer_tx)"
   ]
  },
  {
   "cell_type": "code",
   "execution_count": null,
   "metadata": {},
   "outputs": [
    {
     "data": {
      "text/plain": [
       "'id: 3c61fe7fe3ef72589c8bad1560c76500b02945542b25af51136c57c8ba819a7b'"
      ]
     },
     "metadata": {},
     "output_type": "display_data"
    }
   ],
   "source": [
    "sent_transfer_tx"
   ]
  },
  {
   "cell_type": "code",
   "execution_count": null,
   "metadata": {},
   "outputs": [],
   "source": [
    "str_txr_id = '3c61fe7fe3ef72589c8bad1560c76500b02945542b25af51136c57c8ba819a7b'\n",
    "tx_info = db.transactions.retrieve(str_txr_id)"
   ]
  },
  {
   "cell_type": "code",
   "execution_count": null,
   "metadata": {},
   "outputs": [
    {
     "data": {
      "text/plain": [
       "{'inputs': [{'owners_before': ['BjqsAykfTQSrEqLKv7GEJ7RNZYuD9in1bu1aE4i13VN5'],\n",
       "   'fulfills': {'transaction_id': '612c8b1e2d7ece7c8e0b8ccf634d2a70a45972673de052ea2a6285dd83242c79',\n",
       "    'output_index': 0},\n",
       "   'fulfillment': 'pGSAIJ-Og96m6qul-uY33ZcQBi8HbB8q3lKqpWpw0ol7CtvmgUBfB63OZogA6CpgRbALYWlgZhH9DEsIoUI90-AZKSaNml51PDt-P8cX0NXQzlor62ZqsGcemzViaxOozhwTwbYL'}],\n",
       " 'outputs': [{'public_keys': ['2Gm7Jeuz8LT66aGbMsuRoXU7dfF67HYFanB3wYExEepv'],\n",
       "   'condition': {'details': {'type': 'ed25519-sha-256',\n",
       "     'public_key': '2Gm7Jeuz8LT66aGbMsuRoXU7dfF67HYFanB3wYExEepv'},\n",
       "    'uri': 'ni:///sha-256;EXDG86kDUuNBBw68lRa1zmTwdC07L5ngfSSvH6ATDGw?fpt=ed25519-sha-256&cost=131072'},\n",
       "   'amount': '10'}],\n",
       " 'operation': 'TRANSFER',\n",
       " 'metadata': None,\n",
       " 'asset': {'id': '612c8b1e2d7ece7c8e0b8ccf634d2a70a45972673de052ea2a6285dd83242c79'},\n",
       " 'version': '2.0',\n",
       " 'id': '3c61fe7fe3ef72589c8bad1560c76500b02945542b25af51136c57c8ba819a7b'}"
      ]
     },
     "metadata": {},
     "output_type": "display_data"
    }
   ],
   "source": [
    "tx_info"
   ]
  },
  {
   "cell_type": "code",
   "execution_count": null,
   "metadata": {},
   "outputs": [
    {
     "ename": "TypeError",
     "evalue": "'MetadataEndpoint' object is not callable",
     "output_type": "error",
     "traceback": [
      "\u001b[0;31m---------------------------------------------------------------------------\u001b[0m\n",
      "\u001b[0;31mTypeError\u001b[0m                                 Traceback (most recent call last)\n",
      "Cell \u001b[0;32mIn[43], line 1\u001b[0m\n",
      "\u001b[0;32m----> 1\u001b[0m asset_info \u001b[39m=\u001b[39m db\u001b[39m.\u001b[39;49mmetadata()\n",
      "\n",
      "\u001b[0;31mTypeError\u001b[0m: 'MetadataEndpoint' object is not callable"
     ]
    }
   ],
   "source": [
    "\n"
   ]
  },
  {
   "cell_type": "code",
   "execution_count": null,
   "metadata": {},
   "outputs": [
    {
     "data": {
      "text/plain": [
       "<resdb_driver.driver.AssetsEndpoint at 0x7f4867007dc0>"
      ]
     },
     "metadata": {},
     "output_type": "display_data"
    }
   ],
   "source": [
    "asset_info"
   ]
  },
  {
   "cell_type": "code",
   "execution_count": 9,
   "metadata": {},
   "outputs": [],
   "source": [
    "from resdb_driver import Resdb\n",
    "\n",
    "db_root_url = \"http://0.0.0.0:18000\"\n",
    "\n",
    "db = Resdb(db_root_url)\n",
    "\n",
    "from resdb_driver.crypto import generate_keypair"
   ]
  },
  {
   "cell_type": "code",
   "execution_count": 10,
   "metadata": {},
   "outputs": [],
   "source": [
    "asset_id = \"ba0121d4604055b25cdc561b4e7e0b050a68d4d124e0b6ade817ac1ce5547dd7\"\n",
    "owner_pub_key = \"E3jkWeyi9wPw9p8SSKTDsNRiytz3mtTrKY2aa86Li4qZ\"\n",
    "owner_pvt_key = \"BwbhBUw6MkyYt5tgixK2Mv4K6UZJ9bnWYSYQpQwmsFLm\"\n",
    "reciever_pub_key = \"BEcWKFfJ6Bmk61sTnA9UK5CGbEyUrE5Piqm6ttbYAvzw\"\n"
   ]
  },
  {
   "cell_type": "code",
   "execution_count": 11,
   "metadata": {},
   "outputs": [],
   "source": [
    "transfer_tx_info = db.transactions.retrieve(asset_id)\n"
   ]
  },
  {
   "cell_type": "code",
   "execution_count": 19,
   "metadata": {},
   "outputs": [
    {
     "data": {
      "text/plain": [
       "{'inputs': [{'owners_before': ['53gDUpxzqfxrgVX1TA3RGE3CoKbEqpZnoky9y9QLU3YN'],\n",
       "   'fulfills': None,\n",
       "   'fulfillment': 'pGSAIDweQAOrdDylOk0qWRbfvqL2PpcfIsHM4Ome0L5uC68rgUC_7m7IyXN0JU0eQsxoa7ZMbIhlmA3Xem-OHeWqw1YEy45CEzRa5sQ8ZthasW4E8XN2h4lkd119a3zcA2gm86IP'}],\n",
       " 'outputs': [{'public_keys': ['E3jkWeyi9wPw9p8SSKTDsNRiytz3mtTrKY2aa86Li4qZ'],\n",
       "   'condition': {'details': {'type': 'ed25519-sha-256',\n",
       "     'public_key': 'E3jkWeyi9wPw9p8SSKTDsNRiytz3mtTrKY2aa86Li4qZ'},\n",
       "    'uri': 'ni:///sha-256;tuavOqkGROAXxt-gXVAGDu_uWxh7ABgJuHTFrG1WHto?fpt=ed25519-sha-256&cost=131072'},\n",
       "   'amount': '10'}],\n",
       " 'operation': 'CREATE',\n",
       " 'metadata': None,\n",
       " 'asset': {'data': {'nft_name': 'Monkeyddddddddddddddddddddddddd Dance',\n",
       "   'ipfs_file_url': 'https://www.youtube.com/watch?v=opyPkipNNhE',\n",
       "   'creator_name': 'KoKo',\n",
       "   'supply': 10,\n",
       "   'description': 'New Monkey Videos',\n",
       "   'cost': 5.0,\n",
       "   'currency': 'BTC',\n",
       "   'creator_external_link': 'https://github.com/kaustubhKVS',\n",
       "   'view': 2,\n",
       "   'tx_id': 'NULL'}},\n",
       " 'version': '2.0',\n",
       " 'id': 'ba0121d4604055b25cdc561b4e7e0b050a68d4d124e0b6ade817ac1ce5547dd7'}"
      ]
     },
     "execution_count": 19,
     "metadata": {},
     "output_type": "execute_result"
    }
   ],
   "source": [
    "transfer_tx_info"
   ]
  },
  {
   "cell_type": "code",
   "execution_count": 13,
   "metadata": {},
   "outputs": [],
   "source": [
    "transfer_asset = {\"id\": transfer_tx_info[\"id\"]}"
   ]
  },
  {
   "cell_type": "code",
   "execution_count": 14,
   "metadata": {},
   "outputs": [
    {
     "data": {
      "text/plain": [
       "{'id': 'ba0121d4604055b25cdc561b4e7e0b050a68d4d124e0b6ade817ac1ce5547dd7'}"
      ]
     },
     "execution_count": 14,
     "metadata": {},
     "output_type": "execute_result"
    }
   ],
   "source": [
    "transfer_asset"
   ]
  },
  {
   "cell_type": "code",
   "execution_count": null,
   "metadata": {},
   "outputs": [],
   "source": []
  },
  {
   "cell_type": "code",
   "execution_count": 17,
   "metadata": {},
   "outputs": [
    {
     "name": "stdout",
     "output_type": "stream",
     "text": [
      "HASH DATA <class 'str'>, data='{\"asset\":{\"id\":\"ba0121d4604055b25cdc561b4e7e0b050a68d4d124e0b6ade817ac1ce5547dd7\"},\"id\":null,\"inputs\":[{\"fulfillment\":\"pGSAIMHbbfEV2Y11NmsbqLSAELIstOuyjT2YV2VcIgzwPiRkgUDtHutsCQmsH6vmBF9Uj1QWMQPBzDJZFLighQFD8XZFjpfFJIiajcC-kfUhFVOUJQPBDTRuP0Shnt6-udfuOXQN\",\"fulfills\":{\"output_index\":0,\"transaction_id\":\"ba0121d4604055b25cdc561b4e7e0b050a68d4d124e0b6ade817ac1ce5547dd7\"},\"owners_before\":[\"E3jkWeyi9wPw9p8SSKTDsNRiytz3mtTrKY2aa86Li4qZ\"]}],\"metadata\":{\"data\":\"2\"},\"operation\":\"TRANSFER\",\"outputs\":[{\"amount\":\"1\",\"condition\":{\"details\":{\"public_key\":\"BEcWKFfJ6Bmk61sTnA9UK5CGbEyUrE5Piqm6ttbYAvzw\",\"type\":\"ed25519-sha-256\"},\"uri\":\"ni:///sha-256;wXOvguOVNE1OZ73jhcktbbJ4he5GMXSyEkEsHf68V_I?fpt=ed25519-sha-256&cost=131072\"},\"public_keys\":[\"BEcWKFfJ6Bmk61sTnA9UK5CGbEyUrE5Piqm6ttbYAvzw\"]}],\"version\":\"2.0\"}'\n"
     ]
    }
   ],
   "source": [
    "token_supply: int = 1\n",
    "\n",
    "transfer_asset = {\"id\": transfer_tx_info[\"id\"]}\n",
    "\n",
    "output_index = 0\n",
    "\n",
    "output = transfer_tx_info[\"outputs\"][output_index]\n",
    "\n",
    "transfer_input = {\n",
    "    \"fulfillment\": output[\"condition\"][\"details\"],\n",
    "    \"fulfills\": {\"output_index\": output_index, \"transaction_id\": transfer_asset[\"id\"]},\n",
    "    \"owners_before\": output[\"public_keys\"],\n",
    "}\n",
    "\n",
    "# Dynamic\n",
    "\n",
    "prepared_transfer_tx = db.transactions.prepare(\n",
    "    operation=\"TRANSFER\",\n",
    "    asset=transfer_asset,\n",
    "    inputs=transfer_input,\n",
    "    metadata={\"data\": \"2\"},\n",
    "    recipients=[(\n",
    "        [reciever_pub_key],\n",
    "        token_supply\n",
    "    )],\n",
    ")\n",
    "\n",
    "# Dynamic\n",
    "fulfilled_transfer_tx = db.transactions.fulfill(\n",
    "    prepared_transfer_tx,\n",
    "    private_keys=owner_pvt_key\n",
    ")\n",
    "\n",
    "# Dynamic\n",
    "transfer_tx = db.transactions.send_commit(fulfilled_transfer_tx)\n",
    "transfer_tx_id = transfer_tx[4:]\n",
    "\n",
    "nft_list_token_tx_id = transfer_tx_id\n"
   ]
  },
  {
   "cell_type": "code",
   "execution_count": 18,
   "metadata": {},
   "outputs": [
    {
     "data": {
      "text/plain": [
       "'adbf6d1d4086008f07ee4a7a8b58c950c12c123e129576555781fe7b94bfdf6d'"
      ]
     },
     "execution_count": 18,
     "metadata": {},
     "output_type": "execute_result"
    }
   ],
   "source": [
    "nft_list_token_tx_id\n"
   ]
  },
  {
   "cell_type": "code",
   "execution_count": null,
   "metadata": {},
   "outputs": [],
   "source": []
  },
  {
   "cell_type": "code",
   "execution_count": null,
   "metadata": {},
   "outputs": [],
   "source": []
  },
  {
   "cell_type": "code",
   "execution_count": null,
   "metadata": {},
   "outputs": [],
   "source": []
  },
  {
   "cell_type": "code",
   "execution_count": 20,
   "metadata": {},
   "outputs": [],
   "source": [
    "asset_id = \"adbf6d1d4086008f07ee4a7a8b58c950c12c123e129576555781fe7b94bfdf6d\"\n",
    "owner_pub_key = \"E3jkWeyi9wPw9p8SSKTDsNRiytz3mtTrKY2aa86Li4qZ\"\n",
    "owner_pvt_key = \"BwbhBUw6MkyYt5tgixK2Mv4K6UZJ9bnWYSYQpQwmsFLm\"\n",
    "reciever_pub_key = \"BEcWKFfJ6Bmk61sTnA9UK5CGbEyUrE5Piqm6ttbYAvzw\"\n"
   ]
  },
  {
   "cell_type": "code",
   "execution_count": 21,
   "metadata": {},
   "outputs": [],
   "source": [
    "transfer_tx_info = db.transactions.retrieve(asset_id)\n"
   ]
  },
  {
   "cell_type": "code",
   "execution_count": 22,
   "metadata": {},
   "outputs": [
    {
     "data": {
      "text/plain": [
       "{'inputs': [{'owners_before': ['E3jkWeyi9wPw9p8SSKTDsNRiytz3mtTrKY2aa86Li4qZ'],\n",
       "   'fulfills': {'transaction_id': 'ba0121d4604055b25cdc561b4e7e0b050a68d4d124e0b6ade817ac1ce5547dd7',\n",
       "    'output_index': 0},\n",
       "   'fulfillment': 'pGSAIMHbbfEV2Y11NmsbqLSAELIstOuyjT2YV2VcIgzwPiRkgUDtHutsCQmsH6vmBF9Uj1QWMQPBzDJZFLighQFD8XZFjpfFJIiajcC-kfUhFVOUJQPBDTRuP0Shnt6-udfuOXQN'}],\n",
       " 'outputs': [{'public_keys': ['BEcWKFfJ6Bmk61sTnA9UK5CGbEyUrE5Piqm6ttbYAvzw'],\n",
       "   'condition': {'details': {'type': 'ed25519-sha-256',\n",
       "     'public_key': 'BEcWKFfJ6Bmk61sTnA9UK5CGbEyUrE5Piqm6ttbYAvzw'},\n",
       "    'uri': 'ni:///sha-256;wXOvguOVNE1OZ73jhcktbbJ4he5GMXSyEkEsHf68V_I?fpt=ed25519-sha-256&cost=131072'},\n",
       "   'amount': '1'}],\n",
       " 'operation': 'TRANSFER',\n",
       " 'metadata': {'data': '2'},\n",
       " 'asset': {'id': 'ba0121d4604055b25cdc561b4e7e0b050a68d4d124e0b6ade817ac1ce5547dd7'},\n",
       " 'version': '2.0',\n",
       " 'id': 'adbf6d1d4086008f07ee4a7a8b58c950c12c123e129576555781fe7b94bfdf6d'}"
      ]
     },
     "execution_count": 22,
     "metadata": {},
     "output_type": "execute_result"
    }
   ],
   "source": [
    "transfer_tx_info"
   ]
  },
  {
   "cell_type": "code",
   "execution_count": null,
   "metadata": {},
   "outputs": [],
   "source": []
  }
 ],
 "metadata": {
  "kernelspec": {
   "display_name": "nftmarketplace",
   "language": "python",
   "name": "python3"
  },
  "language_info": {
   "codemirror_mode": {
    "name": "ipython",
    "version": 3
   },
   "file_extension": ".py",
   "mimetype": "text/x-python",
   "name": "python",
   "nbconvert_exporter": "python",
   "pygments_lexer": "ipython3",
   "version": "3.10.9"
  },
  "orig_nbformat": 4,
  "vscode": {
   "interpreter": {
    "hash": "4e2f8eed63b1a0f8f2814d2bbe8b025f27967f41c4526b247e01325ba0e34255"
   }
  }
 },
 "nbformat": 4,
 "nbformat_minor": 2
}
